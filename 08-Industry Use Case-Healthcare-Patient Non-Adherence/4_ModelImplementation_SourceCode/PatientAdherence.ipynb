{
  "nbformat": 4,
  "nbformat_minor": 0,
  "metadata": {
    "colab": {
      "name": "PatientAdherence.ipynb",
      "provenance": [],
      "collapsed_sections": []
    },
    "kernelspec": {
      "name": "python3",
      "display_name": "Python 3"
    },
    "language_info": {
      "name": "python"
    }
  },
  "cells": [
    {
      "cell_type": "code",
      "metadata": {
        "colab": {
          "base_uri": "https://localhost:8080/"
        },
        "id": "fLn2Rk6l7eFk",
        "outputId": "f176a0a7-6179-413b-af82-1c4423cb3e44"
      },
      "source": [
        "from google.colab import drive\n",
        "drive.mount('/content/drive')"
      ],
      "execution_count": 42,
      "outputs": [
        {
          "output_type": "stream",
          "text": [
            "Drive already mounted at /content/drive; to attempt to forcibly remount, call drive.mount(\"/content/drive\", force_remount=True).\n"
          ],
          "name": "stdout"
        }
      ]
    },
    {
      "cell_type": "code",
      "metadata": {
        "id": "jX-PEFWc-ZOQ"
      },
      "source": [
        "import numpy as np\n",
        "import pandas as pd\n",
        "import sklearn\n",
        "from sklearn.preprocessing import StandardScaler\n",
        "from sklearn.model_selection import train_test_split"
      ],
      "execution_count": 43,
      "outputs": []
    },
    {
      "cell_type": "code",
      "metadata": {
        "colab": {
          "base_uri": "https://localhost:8080/",
          "height": 326
        },
        "id": "eLbzRCZJ-8KF",
        "outputId": "da755252-ec26-41b4-e54a-d5eebe34dcf2"
      },
      "source": [
        "df = pd.read_excel('/content/drive/My Drive/Patient Non-Adherence/2_DataSet/Input.xlsx')\n",
        "df.head()"
      ],
      "execution_count": 44,
      "outputs": [
        {
          "output_type": "execute_result",
          "data": {
            "text/html": [
              "<div>\n",
              "<style scoped>\n",
              "    .dataframe tbody tr th:only-of-type {\n",
              "        vertical-align: middle;\n",
              "    }\n",
              "\n",
              "    .dataframe tbody tr th {\n",
              "        vertical-align: top;\n",
              "    }\n",
              "\n",
              "    .dataframe thead th {\n",
              "        text-align: right;\n",
              "    }\n",
              "</style>\n",
              "<table border=\"1\" class=\"dataframe\">\n",
              "  <thead>\n",
              "    <tr style=\"text-align: right;\">\n",
              "      <th></th>\n",
              "      <th>PATIENT ID</th>\n",
              "      <th>AGE</th>\n",
              "      <th>MARITAL STATUS</th>\n",
              "      <th>FINANCIAL STATUS</th>\n",
              "      <th>MEDICLAIM</th>\n",
              "      <th>NUMBER OF MEDICATIONS</th>\n",
              "      <th>ALCOHOL ADICTION</th>\n",
              "      <th>SMOKING</th>\n",
              "      <th>BLOOD PRESSURE</th>\n",
              "      <th>MOOD</th>\n",
              "      <th>ENERGY LEVELS</th>\n",
              "      <th>HEADACHE</th>\n",
              "      <th>CONCENTRATION</th>\n",
              "      <th>DRUG COST</th>\n",
              "      <th>FOLLOWUP CHECKUPS</th>\n",
              "      <th>PRESCRIBTION START DATE</th>\n",
              "      <th>PRESCRIBTION END DATE</th>\n",
              "      <th>REFILL FREQUENCY(MEDICINE1)</th>\n",
              "      <th>REFILL FREQUENCY(MEDICINE2)</th>\n",
              "      <th>PRESCRIBED MEDICATION PERIOD(MONTHS)</th>\n",
              "      <th>REFILLS DONE(MEDICINE 1)</th>\n",
              "      <th>REFILLS DONE(MEDICINE 2)</th>\n",
              "      <th>SEVIERITY OF ILLNESS(CHECKUP 1)</th>\n",
              "      <th>SEVIERITY OF ILLNESS(CHECKUP 2)</th>\n",
              "      <th>SEVIERITY OF ILLNESS(CHECKUP 3)</th>\n",
              "      <th>SEVIERITY OF ILLNESS(CHECKUP 4)</th>\n",
              "      <th>SEVIERITY OF ILLNESS(CHECKUP 5)</th>\n",
              "      <th>FREQUENCY</th>\n",
              "      <th>CHRONIC ILLNESS</th>\n",
              "      <th>DIARRHEA</th>\n",
              "      <th>CONSTIPATION</th>\n",
              "      <th>NAUSEA</th>\n",
              "      <th>VOMITING</th>\n",
              "      <th>SORE THROAT</th>\n",
              "      <th>ALLERGIES</th>\n",
              "      <th>COLD</th>\n",
              "      <th>COUGH</th>\n",
              "      <th>FEVER</th>\n",
              "      <th>STOMACH ACHE</th>\n",
              "      <th>DROWSINESS</th>\n",
              "      <th>MEDICINE 1</th>\n",
              "      <th>MEDICINE 2</th>\n",
              "      <th>LABEL</th>\n",
              "    </tr>\n",
              "  </thead>\n",
              "  <tbody>\n",
              "    <tr>\n",
              "      <th>0</th>\n",
              "      <td>PAT001</td>\n",
              "      <td>65</td>\n",
              "      <td>Unmarried</td>\n",
              "      <td>Poor</td>\n",
              "      <td>Yes</td>\n",
              "      <td>1</td>\n",
              "      <td>Yes</td>\n",
              "      <td>Once a  week</td>\n",
              "      <td>120</td>\n",
              "      <td>Excited</td>\n",
              "      <td>High</td>\n",
              "      <td>No</td>\n",
              "      <td>High</td>\n",
              "      <td>High</td>\n",
              "      <td>1</td>\n",
              "      <td>2020-01-05</td>\n",
              "      <td>2020-01-10</td>\n",
              "      <td>Fortnightly</td>\n",
              "      <td>Fortnightly</td>\n",
              "      <td>5</td>\n",
              "      <td>6</td>\n",
              "      <td>5</td>\n",
              "      <td>0</td>\n",
              "      <td>0</td>\n",
              "      <td>0</td>\n",
              "      <td>0</td>\n",
              "      <td>0</td>\n",
              "      <td>3</td>\n",
              "      <td>No</td>\n",
              "      <td>Yes</td>\n",
              "      <td>No</td>\n",
              "      <td>No</td>\n",
              "      <td>No</td>\n",
              "      <td>Yes</td>\n",
              "      <td>No</td>\n",
              "      <td>Yes</td>\n",
              "      <td>No</td>\n",
              "      <td>Low</td>\n",
              "      <td>No</td>\n",
              "      <td>Yes</td>\n",
              "      <td>Clopidogrel</td>\n",
              "      <td>Filgrastim</td>\n",
              "      <td>1</td>\n",
              "    </tr>\n",
              "    <tr>\n",
              "      <th>1</th>\n",
              "      <td>PAT002</td>\n",
              "      <td>62</td>\n",
              "      <td>Unmarried</td>\n",
              "      <td>Poor</td>\n",
              "      <td>No</td>\n",
              "      <td>2</td>\n",
              "      <td>Ocassionally</td>\n",
              "      <td>Once a  week</td>\n",
              "      <td>120</td>\n",
              "      <td>Sad</td>\n",
              "      <td>High</td>\n",
              "      <td>No</td>\n",
              "      <td>High</td>\n",
              "      <td>High</td>\n",
              "      <td>1</td>\n",
              "      <td>2020-01-06</td>\n",
              "      <td>2020-01-07</td>\n",
              "      <td>Monthly</td>\n",
              "      <td>Fortnightly</td>\n",
              "      <td>1</td>\n",
              "      <td>10</td>\n",
              "      <td>8</td>\n",
              "      <td>0</td>\n",
              "      <td>0</td>\n",
              "      <td>0</td>\n",
              "      <td>0</td>\n",
              "      <td>0</td>\n",
              "      <td>3</td>\n",
              "      <td>No</td>\n",
              "      <td>Yes</td>\n",
              "      <td>No</td>\n",
              "      <td>Yes</td>\n",
              "      <td>No</td>\n",
              "      <td>Yes</td>\n",
              "      <td>No</td>\n",
              "      <td>Yes</td>\n",
              "      <td>No</td>\n",
              "      <td>High</td>\n",
              "      <td>No</td>\n",
              "      <td>Yes</td>\n",
              "      <td>Atorvastatin</td>\n",
              "      <td>Diazepam</td>\n",
              "      <td>1</td>\n",
              "    </tr>\n",
              "    <tr>\n",
              "      <th>2</th>\n",
              "      <td>PAT003</td>\n",
              "      <td>62</td>\n",
              "      <td>Married</td>\n",
              "      <td>Poor</td>\n",
              "      <td>Yes</td>\n",
              "      <td>10</td>\n",
              "      <td>Ocassionally</td>\n",
              "      <td>Yes</td>\n",
              "      <td>140</td>\n",
              "      <td>Excited</td>\n",
              "      <td>High</td>\n",
              "      <td>No</td>\n",
              "      <td>High</td>\n",
              "      <td>High</td>\n",
              "      <td>1</td>\n",
              "      <td>2020-01-06</td>\n",
              "      <td>2020-01-11</td>\n",
              "      <td>Fortnightly</td>\n",
              "      <td>Monthly</td>\n",
              "      <td>5</td>\n",
              "      <td>8</td>\n",
              "      <td>10</td>\n",
              "      <td>0</td>\n",
              "      <td>0</td>\n",
              "      <td>0</td>\n",
              "      <td>0</td>\n",
              "      <td>0</td>\n",
              "      <td>3</td>\n",
              "      <td>Yes</td>\n",
              "      <td>Yes</td>\n",
              "      <td>Yes</td>\n",
              "      <td>Yes</td>\n",
              "      <td>No</td>\n",
              "      <td>No</td>\n",
              "      <td>No</td>\n",
              "      <td>Yes</td>\n",
              "      <td>No</td>\n",
              "      <td>High</td>\n",
              "      <td>No</td>\n",
              "      <td>Yes</td>\n",
              "      <td>Clindamycin</td>\n",
              "      <td>EMLA cream</td>\n",
              "      <td>1</td>\n",
              "    </tr>\n",
              "    <tr>\n",
              "      <th>3</th>\n",
              "      <td>PAT004</td>\n",
              "      <td>58</td>\n",
              "      <td>Unmarried</td>\n",
              "      <td>Poor</td>\n",
              "      <td>No</td>\n",
              "      <td>6</td>\n",
              "      <td>Yes</td>\n",
              "      <td>Once a  week</td>\n",
              "      <td>100</td>\n",
              "      <td>Sad</td>\n",
              "      <td>Low</td>\n",
              "      <td>No</td>\n",
              "      <td>High</td>\n",
              "      <td>Low</td>\n",
              "      <td>1</td>\n",
              "      <td>2020-01-03</td>\n",
              "      <td>2020-01-07</td>\n",
              "      <td>Weekly</td>\n",
              "      <td>Monthly</td>\n",
              "      <td>4</td>\n",
              "      <td>5</td>\n",
              "      <td>5</td>\n",
              "      <td>0</td>\n",
              "      <td>0</td>\n",
              "      <td>0</td>\n",
              "      <td>0</td>\n",
              "      <td>0</td>\n",
              "      <td>3</td>\n",
              "      <td>No</td>\n",
              "      <td>Yes</td>\n",
              "      <td>No</td>\n",
              "      <td>Yes</td>\n",
              "      <td>Yes</td>\n",
              "      <td>No</td>\n",
              "      <td>No</td>\n",
              "      <td>Yes</td>\n",
              "      <td>No</td>\n",
              "      <td>High</td>\n",
              "      <td>No</td>\n",
              "      <td>Yes</td>\n",
              "      <td>Cefixime</td>\n",
              "      <td>Dacarbazine</td>\n",
              "      <td>1</td>\n",
              "    </tr>\n",
              "    <tr>\n",
              "      <th>4</th>\n",
              "      <td>PAT005</td>\n",
              "      <td>72</td>\n",
              "      <td>Married</td>\n",
              "      <td>Poor</td>\n",
              "      <td>No</td>\n",
              "      <td>2</td>\n",
              "      <td>No</td>\n",
              "      <td>No</td>\n",
              "      <td>110</td>\n",
              "      <td>Excited</td>\n",
              "      <td>High</td>\n",
              "      <td>No</td>\n",
              "      <td>High</td>\n",
              "      <td>Low</td>\n",
              "      <td>1</td>\n",
              "      <td>2020-01-06</td>\n",
              "      <td>2020-01-10</td>\n",
              "      <td>Monthly</td>\n",
              "      <td>Monthly</td>\n",
              "      <td>4</td>\n",
              "      <td>7</td>\n",
              "      <td>5</td>\n",
              "      <td>0</td>\n",
              "      <td>0</td>\n",
              "      <td>0</td>\n",
              "      <td>0</td>\n",
              "      <td>0</td>\n",
              "      <td>2</td>\n",
              "      <td>No</td>\n",
              "      <td>Yes</td>\n",
              "      <td>No</td>\n",
              "      <td>No</td>\n",
              "      <td>Yes</td>\n",
              "      <td>Yes</td>\n",
              "      <td>No</td>\n",
              "      <td>Yes</td>\n",
              "      <td>No</td>\n",
              "      <td>High</td>\n",
              "      <td>No</td>\n",
              "      <td>Yes</td>\n",
              "      <td>Cetrizine</td>\n",
              "      <td>Ifosfamide</td>\n",
              "      <td>1</td>\n",
              "    </tr>\n",
              "  </tbody>\n",
              "</table>\n",
              "</div>"
            ],
            "text/plain": [
              "  PATIENT ID  AGE MARITAL STATUS  ...    MEDICINE 1   MEDICINE 2  LABEL\n",
              "0     PAT001   65      Unmarried  ...   Clopidogrel   Filgrastim      1\n",
              "1     PAT002   62      Unmarried  ...  Atorvastatin     Diazepam      1\n",
              "2     PAT003   62        Married  ...   Clindamycin   EMLA cream      1\n",
              "3     PAT004   58      Unmarried  ...      Cefixime  Dacarbazine      1\n",
              "4     PAT005   72        Married  ...     Cetrizine   Ifosfamide      1\n",
              "\n",
              "[5 rows x 43 columns]"
            ]
          },
          "metadata": {
            "tags": []
          },
          "execution_count": 44
        }
      ]
    },
    {
      "cell_type": "markdown",
      "metadata": {
        "id": "HgDNZckfBvsS"
      },
      "source": [
        "DATA PREPROCESSING"
      ]
    },
    {
      "cell_type": "code",
      "metadata": {
        "colab": {
          "base_uri": "https://localhost:8080/"
        },
        "id": "Ik9zCFXTB3rz",
        "outputId": "2d4b1da1-f04e-46ff-aa46-704b96db11df"
      },
      "source": [
        "#Check for na or missing data\n",
        "df.isna().sum()"
      ],
      "execution_count": 45,
      "outputs": [
        {
          "output_type": "execute_result",
          "data": {
            "text/plain": [
              "PATIENT ID                              0\n",
              "AGE                                     0\n",
              "MARITAL STATUS                          0\n",
              "FINANCIAL STATUS                        0\n",
              "MEDICLAIM                               0\n",
              "NUMBER OF MEDICATIONS                   0\n",
              "ALCOHOL ADICTION                        0\n",
              "SMOKING                                 0\n",
              "BLOOD PRESSURE                          0\n",
              "MOOD                                    0\n",
              "ENERGY LEVELS                           0\n",
              "HEADACHE                                0\n",
              "CONCENTRATION                           0\n",
              "DRUG COST                               0\n",
              "FOLLOWUP CHECKUPS                       0\n",
              "PRESCRIBTION START DATE                 0\n",
              "PRESCRIBTION END DATE                   0\n",
              "REFILL FREQUENCY(MEDICINE1)             0\n",
              "REFILL FREQUENCY(MEDICINE2)             0\n",
              "PRESCRIBED MEDICATION PERIOD(MONTHS)    0\n",
              "REFILLS DONE(MEDICINE 1)                0\n",
              "REFILLS DONE(MEDICINE 2)                0\n",
              "SEVIERITY OF ILLNESS(CHECKUP 1)         0\n",
              "SEVIERITY OF ILLNESS(CHECKUP 2)         0\n",
              "SEVIERITY OF ILLNESS(CHECKUP 3)         0\n",
              "SEVIERITY OF ILLNESS(CHECKUP 4)         0\n",
              "SEVIERITY OF ILLNESS(CHECKUP 5)         0\n",
              "FREQUENCY                               0\n",
              "CHRONIC ILLNESS                         0\n",
              "DIARRHEA                                0\n",
              "CONSTIPATION                            0\n",
              "NAUSEA                                  0\n",
              "VOMITING                                0\n",
              "SORE THROAT                             0\n",
              "ALLERGIES                               0\n",
              "COLD                                    0\n",
              "COUGH                                   0\n",
              "FEVER                                   0\n",
              "STOMACH ACHE                            0\n",
              "DROWSINESS                              0\n",
              "MEDICINE 1                              0\n",
              "MEDICINE 2                              0\n",
              "LABEL                                   0\n",
              "dtype: int64"
            ]
          },
          "metadata": {
            "tags": []
          },
          "execution_count": 45
        }
      ]
    },
    {
      "cell_type": "code",
      "metadata": {
        "colab": {
          "base_uri": "https://localhost:8080/",
          "height": 490
        },
        "id": "Ykl3ghVICA7J",
        "outputId": "90123d5a-7080-4190-950e-fee9fd3df360"
      },
      "source": [
        "X = df.drop(['AGE', 'MARITAL STATUS', 'ALCOHOL ADICTION', 'SMOKING', 'BLOOD PRESSURE', 'MOOD', 'ENERGY LEVELS', 'HEADACHE', 'CONCENTRATION', 'PRESCRIBTION START DATE', 'PRESCRIBTION END DATE', 'CHRONIC ILLNESS', 'DIARRHEA', 'CONSTIPATION', 'NAUSEA', 'VOMITING', 'SORE THROAT', 'ALLERGIES', 'COLD', 'COUGH', 'FEVER', 'STOMACH ACHE', 'DROWSINESS', 'FREQUENCY', 'FINANCIAL STATUS', 'MEDICLAIM', 'NUMBER OF MEDICATIONS', 'DRUG COST'], axis = 1)\n",
        "X"
      ],
      "execution_count": 46,
      "outputs": [
        {
          "output_type": "execute_result",
          "data": {
            "text/html": [
              "<div>\n",
              "<style scoped>\n",
              "    .dataframe tbody tr th:only-of-type {\n",
              "        vertical-align: middle;\n",
              "    }\n",
              "\n",
              "    .dataframe tbody tr th {\n",
              "        vertical-align: top;\n",
              "    }\n",
              "\n",
              "    .dataframe thead th {\n",
              "        text-align: right;\n",
              "    }\n",
              "</style>\n",
              "<table border=\"1\" class=\"dataframe\">\n",
              "  <thead>\n",
              "    <tr style=\"text-align: right;\">\n",
              "      <th></th>\n",
              "      <th>PATIENT ID</th>\n",
              "      <th>FOLLOWUP CHECKUPS</th>\n",
              "      <th>REFILL FREQUENCY(MEDICINE1)</th>\n",
              "      <th>REFILL FREQUENCY(MEDICINE2)</th>\n",
              "      <th>PRESCRIBED MEDICATION PERIOD(MONTHS)</th>\n",
              "      <th>REFILLS DONE(MEDICINE 1)</th>\n",
              "      <th>REFILLS DONE(MEDICINE 2)</th>\n",
              "      <th>SEVIERITY OF ILLNESS(CHECKUP 1)</th>\n",
              "      <th>SEVIERITY OF ILLNESS(CHECKUP 2)</th>\n",
              "      <th>SEVIERITY OF ILLNESS(CHECKUP 3)</th>\n",
              "      <th>SEVIERITY OF ILLNESS(CHECKUP 4)</th>\n",
              "      <th>SEVIERITY OF ILLNESS(CHECKUP 5)</th>\n",
              "      <th>MEDICINE 1</th>\n",
              "      <th>MEDICINE 2</th>\n",
              "      <th>LABEL</th>\n",
              "    </tr>\n",
              "  </thead>\n",
              "  <tbody>\n",
              "    <tr>\n",
              "      <th>0</th>\n",
              "      <td>PAT001</td>\n",
              "      <td>1</td>\n",
              "      <td>Fortnightly</td>\n",
              "      <td>Fortnightly</td>\n",
              "      <td>5</td>\n",
              "      <td>6</td>\n",
              "      <td>5</td>\n",
              "      <td>0</td>\n",
              "      <td>0</td>\n",
              "      <td>0</td>\n",
              "      <td>0</td>\n",
              "      <td>0</td>\n",
              "      <td>Clopidogrel</td>\n",
              "      <td>Filgrastim</td>\n",
              "      <td>1</td>\n",
              "    </tr>\n",
              "    <tr>\n",
              "      <th>1</th>\n",
              "      <td>PAT002</td>\n",
              "      <td>1</td>\n",
              "      <td>Monthly</td>\n",
              "      <td>Fortnightly</td>\n",
              "      <td>1</td>\n",
              "      <td>10</td>\n",
              "      <td>8</td>\n",
              "      <td>0</td>\n",
              "      <td>0</td>\n",
              "      <td>0</td>\n",
              "      <td>0</td>\n",
              "      <td>0</td>\n",
              "      <td>Atorvastatin</td>\n",
              "      <td>Diazepam</td>\n",
              "      <td>1</td>\n",
              "    </tr>\n",
              "    <tr>\n",
              "      <th>2</th>\n",
              "      <td>PAT003</td>\n",
              "      <td>1</td>\n",
              "      <td>Fortnightly</td>\n",
              "      <td>Monthly</td>\n",
              "      <td>5</td>\n",
              "      <td>8</td>\n",
              "      <td>10</td>\n",
              "      <td>0</td>\n",
              "      <td>0</td>\n",
              "      <td>0</td>\n",
              "      <td>0</td>\n",
              "      <td>0</td>\n",
              "      <td>Clindamycin</td>\n",
              "      <td>EMLA cream</td>\n",
              "      <td>1</td>\n",
              "    </tr>\n",
              "    <tr>\n",
              "      <th>3</th>\n",
              "      <td>PAT004</td>\n",
              "      <td>1</td>\n",
              "      <td>Weekly</td>\n",
              "      <td>Monthly</td>\n",
              "      <td>4</td>\n",
              "      <td>5</td>\n",
              "      <td>5</td>\n",
              "      <td>0</td>\n",
              "      <td>0</td>\n",
              "      <td>0</td>\n",
              "      <td>0</td>\n",
              "      <td>0</td>\n",
              "      <td>Cefixime</td>\n",
              "      <td>Dacarbazine</td>\n",
              "      <td>1</td>\n",
              "    </tr>\n",
              "    <tr>\n",
              "      <th>4</th>\n",
              "      <td>PAT005</td>\n",
              "      <td>1</td>\n",
              "      <td>Monthly</td>\n",
              "      <td>Monthly</td>\n",
              "      <td>4</td>\n",
              "      <td>7</td>\n",
              "      <td>5</td>\n",
              "      <td>0</td>\n",
              "      <td>0</td>\n",
              "      <td>0</td>\n",
              "      <td>0</td>\n",
              "      <td>0</td>\n",
              "      <td>Cetrizine</td>\n",
              "      <td>Ifosfamide</td>\n",
              "      <td>1</td>\n",
              "    </tr>\n",
              "    <tr>\n",
              "      <th>...</th>\n",
              "      <td>...</td>\n",
              "      <td>...</td>\n",
              "      <td>...</td>\n",
              "      <td>...</td>\n",
              "      <td>...</td>\n",
              "      <td>...</td>\n",
              "      <td>...</td>\n",
              "      <td>...</td>\n",
              "      <td>...</td>\n",
              "      <td>...</td>\n",
              "      <td>...</td>\n",
              "      <td>...</td>\n",
              "      <td>...</td>\n",
              "      <td>...</td>\n",
              "      <td>...</td>\n",
              "    </tr>\n",
              "    <tr>\n",
              "      <th>995</th>\n",
              "      <td>PAT996</td>\n",
              "      <td>5</td>\n",
              "      <td>Monthly</td>\n",
              "      <td>Monthly</td>\n",
              "      <td>9</td>\n",
              "      <td>8</td>\n",
              "      <td>4</td>\n",
              "      <td>1</td>\n",
              "      <td>2</td>\n",
              "      <td>1</td>\n",
              "      <td>3</td>\n",
              "      <td>2</td>\n",
              "      <td>Chlorambucil</td>\n",
              "      <td>Enoxaparin</td>\n",
              "      <td>1</td>\n",
              "    </tr>\n",
              "    <tr>\n",
              "      <th>996</th>\n",
              "      <td>PAT997</td>\n",
              "      <td>5</td>\n",
              "      <td>Fortnightly</td>\n",
              "      <td>Monthly</td>\n",
              "      <td>9</td>\n",
              "      <td>6</td>\n",
              "      <td>7</td>\n",
              "      <td>1</td>\n",
              "      <td>2</td>\n",
              "      <td>2</td>\n",
              "      <td>2</td>\n",
              "      <td>1</td>\n",
              "      <td>Carboplatin</td>\n",
              "      <td>Dacarbazine</td>\n",
              "      <td>1</td>\n",
              "    </tr>\n",
              "    <tr>\n",
              "      <th>997</th>\n",
              "      <td>PAT998</td>\n",
              "      <td>2</td>\n",
              "      <td>Weekly</td>\n",
              "      <td>Monthly</td>\n",
              "      <td>1</td>\n",
              "      <td>4</td>\n",
              "      <td>4</td>\n",
              "      <td>2</td>\n",
              "      <td>0</td>\n",
              "      <td>0</td>\n",
              "      <td>0</td>\n",
              "      <td>0</td>\n",
              "      <td>Chlorambucil</td>\n",
              "      <td>Hydroxychloroquine phosphate</td>\n",
              "      <td>0</td>\n",
              "    </tr>\n",
              "    <tr>\n",
              "      <th>998</th>\n",
              "      <td>PAT999</td>\n",
              "      <td>4</td>\n",
              "      <td>Weekly</td>\n",
              "      <td>Monthly</td>\n",
              "      <td>11</td>\n",
              "      <td>4</td>\n",
              "      <td>8</td>\n",
              "      <td>1</td>\n",
              "      <td>0</td>\n",
              "      <td>0</td>\n",
              "      <td>0</td>\n",
              "      <td>0</td>\n",
              "      <td>Cefixime</td>\n",
              "      <td>EMLA cream</td>\n",
              "      <td>1</td>\n",
              "    </tr>\n",
              "    <tr>\n",
              "      <th>999</th>\n",
              "      <td>PAT1000</td>\n",
              "      <td>1</td>\n",
              "      <td>Weekly</td>\n",
              "      <td>Monthly</td>\n",
              "      <td>3</td>\n",
              "      <td>6</td>\n",
              "      <td>6</td>\n",
              "      <td>1</td>\n",
              "      <td>0</td>\n",
              "      <td>0</td>\n",
              "      <td>0</td>\n",
              "      <td>0</td>\n",
              "      <td>Clindamycin</td>\n",
              "      <td>Fentanyl</td>\n",
              "      <td>1</td>\n",
              "    </tr>\n",
              "  </tbody>\n",
              "</table>\n",
              "<p>1000 rows × 15 columns</p>\n",
              "</div>"
            ],
            "text/plain": [
              "    PATIENT ID  FOLLOWUP CHECKUPS  ...                    MEDICINE 2 LABEL\n",
              "0       PAT001                  1  ...                    Filgrastim     1\n",
              "1       PAT002                  1  ...                      Diazepam     1\n",
              "2       PAT003                  1  ...                    EMLA cream     1\n",
              "3       PAT004                  1  ...                   Dacarbazine     1\n",
              "4       PAT005                  1  ...                    Ifosfamide     1\n",
              "..         ...                ...  ...                           ...   ...\n",
              "995     PAT996                  5  ...                    Enoxaparin     1\n",
              "996     PAT997                  5  ...                   Dacarbazine     1\n",
              "997     PAT998                  2  ...  Hydroxychloroquine phosphate     0\n",
              "998     PAT999                  4  ...                    EMLA cream     1\n",
              "999    PAT1000                  1  ...                      Fentanyl     1\n",
              "\n",
              "[1000 rows x 15 columns]"
            ]
          },
          "metadata": {
            "tags": []
          },
          "execution_count": 46
        }
      ]
    },
    {
      "cell_type": "code",
      "metadata": {
        "colab": {
          "base_uri": "https://localhost:8080/"
        },
        "id": "krZBb2zsCK5B",
        "outputId": "7af9a237-6b46-4af0-87d6-a4978e7cf76d"
      },
      "source": [
        "#Convert all the non-numeric columns to numerical data types\n",
        "from sklearn.preprocessing import LabelEncoder\n",
        "for column in X.columns:\n",
        "    if X[column].dtype == np.number:\n",
        "        continue\n",
        "    X[column] = LabelEncoder().fit_transform(X[column])"
      ],
      "execution_count": 47,
      "outputs": [
        {
          "output_type": "stream",
          "text": [
            "/usr/local/lib/python3.7/dist-packages/ipykernel_launcher.py:4: DeprecationWarning: Converting `np.inexact` or `np.floating` to a dtype is deprecated. The current result is `float64` which is not strictly correct.\n",
            "  after removing the cwd from sys.path.\n"
          ],
          "name": "stderr"
        }
      ]
    },
    {
      "cell_type": "code",
      "metadata": {
        "id": "Gsl33DvsCgvU"
      },
      "source": [
        "#Scale the cleaned data\n",
        "x = X.drop('LABEL', axis = 1)\n",
        "y = X['LABEL']\n",
        "\n",
        "#Standardizing/Scaling the features\n",
        "X1 = StandardScaler().fit_transform(x)"
      ],
      "execution_count": 48,
      "outputs": []
    },
    {
      "cell_type": "markdown",
      "metadata": {
        "id": "fBxPCfDTCpiU"
      },
      "source": [
        "# PREDICTING ADHERENT AND NON-ADHERENT PATIENTS USING RANDOM FOREST "
      ]
    },
    {
      "cell_type": "code",
      "metadata": {
        "id": "Nyc14tROCruc"
      },
      "source": [
        "#Split the data into 80% training and 20% testing\n",
        "x_train, x_test, y_train, y_test = train_test_split(x, y, test_size=0.2, random_state=1)"
      ],
      "execution_count": 49,
      "outputs": []
    },
    {
      "cell_type": "code",
      "metadata": {
        "id": "owaM4W4HDIHx"
      },
      "source": [
        "X_train = x_train.drop(['PATIENT ID', 'MEDICINE 1', 'MEDICINE 2'], axis=1)\n",
        "X_test = x_test.drop(['PATIENT ID', 'MEDICINE 1', 'MEDICINE 2'], axis=1)"
      ],
      "execution_count": 50,
      "outputs": []
    },
    {
      "cell_type": "code",
      "metadata": {
        "colab": {
          "base_uri": "https://localhost:8080/"
        },
        "id": "LLr004hiDOIm",
        "outputId": "20c8ed8e-ac30-4362-e907-26efed058f29"
      },
      "source": [
        "#Create the model\n",
        "from sklearn.ensemble import RandomForestClassifier\n",
        "model = RandomForestClassifier(n_estimators=100)\n",
        "#from sklearn.tree import DecisionTreeClassifier\n",
        "#model = DecisionTreeClassifier()\n",
        "#from sklearn.linear_model import LogisticRegression\n",
        "#model = LogisticRegression()\n",
        "#Train the model\n",
        "model.fit(X_train, y_train)"
      ],
      "execution_count": 51,
      "outputs": [
        {
          "output_type": "execute_result",
          "data": {
            "text/plain": [
              "RandomForestClassifier(bootstrap=True, ccp_alpha=0.0, class_weight=None,\n",
              "                       criterion='gini', max_depth=None, max_features='auto',\n",
              "                       max_leaf_nodes=None, max_samples=None,\n",
              "                       min_impurity_decrease=0.0, min_impurity_split=None,\n",
              "                       min_samples_leaf=1, min_samples_split=2,\n",
              "                       min_weight_fraction_leaf=0.0, n_estimators=100,\n",
              "                       n_jobs=None, oob_score=False, random_state=None,\n",
              "                       verbose=0, warm_start=False)"
            ]
          },
          "metadata": {
            "tags": []
          },
          "execution_count": 51
        }
      ]
    },
    {
      "cell_type": "code",
      "metadata": {
        "colab": {
          "base_uri": "https://localhost:8080/"
        },
        "id": "vBe6RaLeDQ8U",
        "outputId": "42c300a0-c12d-4a05-9171-b92fcce26f89"
      },
      "source": [
        "predictions = model.predict(X_test)\n",
        "\n",
        "#printing the predictions\n",
        "print(predictions)"
      ],
      "execution_count": 52,
      "outputs": [
        {
          "output_type": "stream",
          "text": [
            "[1 1 0 1 1 0 1 0 0 1 1 1 1 1 1 1 1 1 1 1 1 1 1 1 1 1 1 1 1 1 1 1 1 1 1 1 1\n",
            " 1 0 1 1 0 1 1 1 1 1 0 1 1 1 1 1 1 1 1 1 0 1 1 1 1 1 1 1 1 0 1 1 0 1 1 0 1\n",
            " 1 1 1 1 1 0 1 1 1 0 1 1 1 1 1 0 1 1 0 1 1 1 1 1 0 1 1 0 1 1 1 0 0 1 1 1 1\n",
            " 1 1 1 1 1 1 1 0 1 0 0 1 0 1 1 1 1 1 1 1 1 1 1 0 0 1 1 1 1 0 0 0 1 1 1 0 0\n",
            " 1 1 1 0 0 1 1 1 1 1 1 1 1 1 1 1 1 1 0 1 1 1 1 1 1 1 0 1 1 0 0 1 1 1 1 0 1\n",
            " 1 1 1 0 0 0 0 1 1 0 1 1 1 1 1]\n"
          ],
          "name": "stdout"
        }
      ]
    },
    {
      "cell_type": "code",
      "metadata": {
        "colab": {
          "base_uri": "https://localhost:8080/"
        },
        "id": "Nm-WK8PuDWfP",
        "outputId": "201ce0bf-8f12-4ef1-ecaa-8d9e9ca94f16"
      },
      "source": [
        "from sklearn.metrics import accuracy_score\n",
        "accuracy_score = accuracy_score(y_test, predictions)\n",
        "print(accuracy_score)"
      ],
      "execution_count": 53,
      "outputs": [
        {
          "output_type": "stream",
          "text": [
            "0.845\n"
          ],
          "name": "stdout"
        }
      ]
    },
    {
      "cell_type": "code",
      "metadata": {
        "id": "q12QWznNDdYs"
      },
      "source": [
        "df1 = x_test[['PATIENT ID', 'MEDICINE 1', 'MEDICINE 2']]"
      ],
      "execution_count": 54,
      "outputs": []
    },
    {
      "cell_type": "code",
      "metadata": {
        "colab": {
          "base_uri": "https://localhost:8080/"
        },
        "id": "KOiQt_91DhB-",
        "outputId": "6f43b8d4-c668-49d9-bf5a-41f73358d2a4"
      },
      "source": [
        "df1['Label'] = pd.Series(predictions, index=df1.index)"
      ],
      "execution_count": 55,
      "outputs": [
        {
          "output_type": "stream",
          "text": [
            "/usr/local/lib/python3.7/dist-packages/ipykernel_launcher.py:1: SettingWithCopyWarning: \n",
            "A value is trying to be set on a copy of a slice from a DataFrame.\n",
            "Try using .loc[row_indexer,col_indexer] = value instead\n",
            "\n",
            "See the caveats in the documentation: https://pandas.pydata.org/pandas-docs/stable/user_guide/indexing.html#returning-a-view-versus-a-copy\n",
            "  \"\"\"Entry point for launching an IPython kernel.\n"
          ],
          "name": "stderr"
        }
      ]
    },
    {
      "cell_type": "code",
      "metadata": {
        "colab": {
          "base_uri": "https://localhost:8080/",
          "height": 521
        },
        "id": "c0FmeNDGDlGw",
        "outputId": "e779273f-d336-42c1-fc12-cbcf5a916dce"
      },
      "source": [
        "df1[\"Label\"] = df1[\"Label\"].replace({0: \"Adherent\", 1: \"Non-Adherent\"})\n",
        "df1"
      ],
      "execution_count": 56,
      "outputs": [
        {
          "output_type": "stream",
          "text": [
            "/usr/local/lib/python3.7/dist-packages/ipykernel_launcher.py:1: SettingWithCopyWarning: \n",
            "A value is trying to be set on a copy of a slice from a DataFrame.\n",
            "Try using .loc[row_indexer,col_indexer] = value instead\n",
            "\n",
            "See the caveats in the documentation: https://pandas.pydata.org/pandas-docs/stable/user_guide/indexing.html#returning-a-view-versus-a-copy\n",
            "  \"\"\"Entry point for launching an IPython kernel.\n"
          ],
          "name": "stderr"
        },
        {
          "output_type": "execute_result",
          "data": {
            "text/html": [
              "<div>\n",
              "<style scoped>\n",
              "    .dataframe tbody tr th:only-of-type {\n",
              "        vertical-align: middle;\n",
              "    }\n",
              "\n",
              "    .dataframe tbody tr th {\n",
              "        vertical-align: top;\n",
              "    }\n",
              "\n",
              "    .dataframe thead th {\n",
              "        text-align: right;\n",
              "    }\n",
              "</style>\n",
              "<table border=\"1\" class=\"dataframe\">\n",
              "  <thead>\n",
              "    <tr style=\"text-align: right;\">\n",
              "      <th></th>\n",
              "      <th>PATIENT ID</th>\n",
              "      <th>MEDICINE 1</th>\n",
              "      <th>MEDICINE 2</th>\n",
              "      <th>Label</th>\n",
              "    </tr>\n",
              "  </thead>\n",
              "  <tbody>\n",
              "    <tr>\n",
              "      <th>507</th>\n",
              "      <td>508</td>\n",
              "      <td>6</td>\n",
              "      <td>3</td>\n",
              "      <td>Non-Adherent</td>\n",
              "    </tr>\n",
              "    <tr>\n",
              "      <th>818</th>\n",
              "      <td>819</td>\n",
              "      <td>6</td>\n",
              "      <td>3</td>\n",
              "      <td>Non-Adherent</td>\n",
              "    </tr>\n",
              "    <tr>\n",
              "      <th>452</th>\n",
              "      <td>453</td>\n",
              "      <td>9</td>\n",
              "      <td>9</td>\n",
              "      <td>Adherent</td>\n",
              "    </tr>\n",
              "    <tr>\n",
              "      <th>368</th>\n",
              "      <td>369</td>\n",
              "      <td>9</td>\n",
              "      <td>1</td>\n",
              "      <td>Non-Adherent</td>\n",
              "    </tr>\n",
              "    <tr>\n",
              "      <th>242</th>\n",
              "      <td>243</td>\n",
              "      <td>5</td>\n",
              "      <td>3</td>\n",
              "      <td>Non-Adherent</td>\n",
              "    </tr>\n",
              "    <tr>\n",
              "      <th>...</th>\n",
              "      <td>...</td>\n",
              "      <td>...</td>\n",
              "      <td>...</td>\n",
              "      <td>...</td>\n",
              "    </tr>\n",
              "    <tr>\n",
              "      <th>430</th>\n",
              "      <td>431</td>\n",
              "      <td>5</td>\n",
              "      <td>8</td>\n",
              "      <td>Non-Adherent</td>\n",
              "    </tr>\n",
              "    <tr>\n",
              "      <th>874</th>\n",
              "      <td>875</td>\n",
              "      <td>3</td>\n",
              "      <td>4</td>\n",
              "      <td>Non-Adherent</td>\n",
              "    </tr>\n",
              "    <tr>\n",
              "      <th>550</th>\n",
              "      <td>551</td>\n",
              "      <td>5</td>\n",
              "      <td>9</td>\n",
              "      <td>Non-Adherent</td>\n",
              "    </tr>\n",
              "    <tr>\n",
              "      <th>608</th>\n",
              "      <td>609</td>\n",
              "      <td>6</td>\n",
              "      <td>4</td>\n",
              "      <td>Non-Adherent</td>\n",
              "    </tr>\n",
              "    <tr>\n",
              "      <th>207</th>\n",
              "      <td>208</td>\n",
              "      <td>5</td>\n",
              "      <td>5</td>\n",
              "      <td>Non-Adherent</td>\n",
              "    </tr>\n",
              "  </tbody>\n",
              "</table>\n",
              "<p>200 rows × 4 columns</p>\n",
              "</div>"
            ],
            "text/plain": [
              "     PATIENT ID  MEDICINE 1  MEDICINE 2         Label\n",
              "507         508           6           3  Non-Adherent\n",
              "818         819           6           3  Non-Adherent\n",
              "452         453           9           9      Adherent\n",
              "368         369           9           1  Non-Adherent\n",
              "242         243           5           3  Non-Adherent\n",
              "..          ...         ...         ...           ...\n",
              "430         431           5           8  Non-Adherent\n",
              "874         875           3           4  Non-Adherent\n",
              "550         551           5           9  Non-Adherent\n",
              "608         609           6           4  Non-Adherent\n",
              "207         208           5           5  Non-Adherent\n",
              "\n",
              "[200 rows x 4 columns]"
            ]
          },
          "metadata": {
            "tags": []
          },
          "execution_count": 56
        }
      ]
    },
    {
      "cell_type": "code",
      "metadata": {
        "id": "T6u_6DL8FA_o"
      },
      "source": [
        "df1.to_excel('/content/drive/My Drive/Patient Non-Adherence/2_DataSet/Output.xlsx')"
      ],
      "execution_count": 57,
      "outputs": []
    },
    {
      "cell_type": "markdown",
      "metadata": {
        "id": "5wgpz78pFTC6"
      },
      "source": [
        "FEATURE IMPORTANCE"
      ]
    },
    {
      "cell_type": "code",
      "metadata": {
        "colab": {
          "base_uri": "https://localhost:8080/"
        },
        "id": "B5MwlvqgFUnN",
        "outputId": "954ed93e-68fd-4e31-b5ed-44c5c167fc4e"
      },
      "source": [
        "from matplotlib import pyplot as plt\n",
        "model.feature_importances_"
      ],
      "execution_count": 58,
      "outputs": [
        {
          "output_type": "execute_result",
          "data": {
            "text/plain": [
              "array([0.09630032, 0.0866827 , 0.04335128, 0.26637736, 0.15455253,\n",
              "       0.15158189, 0.1060284 , 0.02424734, 0.02617538, 0.02266651,\n",
              "       0.02203629])"
            ]
          },
          "metadata": {
            "tags": []
          },
          "execution_count": 58
        }
      ]
    },
    {
      "cell_type": "code",
      "metadata": {
        "colab": {
          "base_uri": "https://localhost:8080/",
          "height": 282
        },
        "id": "wKNqqNWeFZAz",
        "outputId": "c4984c72-1b41-4255-da8a-2032e54deeea"
      },
      "source": [
        "plt.barh(X_test.columns, model.feature_importances_)"
      ],
      "execution_count": 59,
      "outputs": [
        {
          "output_type": "execute_result",
          "data": {
            "text/plain": [
              "<BarContainer object of 11 artists>"
            ]
          },
          "metadata": {
            "tags": []
          },
          "execution_count": 59
        },
        {
          "output_type": "display_data",
          "data": {
            "image/png": "[encoded data removed]",
            "text/plain": [
              "<Figure size 432x288 with 1 Axes>"
            ]
          },
          "metadata": {
            "tags": [],
            "needs_background": "light"
          }
        }
      ]
    },
    {
      "cell_type": "markdown",
      "metadata": {
        "id": "wReQovbEFc9P"
      },
      "source": [
        "KFOLD CROSS VALIDATION"
      ]
    },
    {
      "cell_type": "code",
      "metadata": {
        "colab": {
          "base_uri": "https://localhost:8080/"
        },
        "id": "snMf66xlFesM",
        "outputId": "8a175858-0881-4124-bf59-7584205d44a3"
      },
      "source": [
        "from sklearn.model_selection import cross_validate\n",
        "cv = cross_validate(model, x, y, cv=10)\n",
        "print(cv['test_score'])\n",
        "print(cv['test_score'].mean())"
      ],
      "execution_count": 60,
      "outputs": [
        {
          "output_type": "stream",
          "text": [
            "[0.72 0.79 0.77 0.74 0.83 0.83 0.74 0.83 0.81 0.8 ]\n",
            "0.786\n"
          ],
          "name": "stdout"
        }
      ]
    },
    {
      "cell_type": "markdown",
      "metadata": {
        "id": "zriHGLFhFlTL"
      },
      "source": [
        "PREDICTING ADHERENT AND NON-ADHERENT PATIENTS USING XGBOOST"
      ]
    },
    {
      "cell_type": "code",
      "metadata": {
        "id": "FexRpnGXFmoh"
      },
      "source": [
        "import xgboost as xgb\n",
        "x1 = x\n",
        "y1 = y"
      ],
      "execution_count": 61,
      "outputs": []
    },
    {
      "cell_type": "code",
      "metadata": {
        "id": "pOZtPKimH2VD"
      },
      "source": [
        "#define data_dmatrix\n",
        "data_dmatrix = xgb.DMatrix(data=x1,label=y1)"
      ],
      "execution_count": 62,
      "outputs": []
    },
    {
      "cell_type": "code",
      "metadata": {
        "id": "oSfncl7GFs-L"
      },
      "source": [
        "x1_train, x1_test, y1_train, y1_test = train_test_split(x1, y1, test_size=0.2, random_state=1)"
      ],
      "execution_count": 63,
      "outputs": []
    },
    {
      "cell_type": "code",
      "metadata": {
        "id": "Fv7c39JLFxyk"
      },
      "source": [
        "X1_train = x1_train.drop(['PATIENT ID', 'MEDICINE 1', 'MEDICINE 2'], axis=1)\n",
        "X1_test = x1_test.drop(['PATIENT ID', 'MEDICINE 1', 'MEDICINE 2'], axis=1)"
      ],
      "execution_count": 64,
      "outputs": []
    },
    {
      "cell_type": "code",
      "metadata": {
        "colab": {
          "base_uri": "https://localhost:8080/"
        },
        "id": "iAUMSpbrISfM",
        "outputId": "2c3d093a-b6a1-4a19-8b5b-046800a1bb1d"
      },
      "source": [
        "from xgboost import XGBClassifier\n",
        "\n",
        "#declare parameters\n",
        "params = {'objective' : 'binary:logistic', 'max_depth' : 10, 'min_child_weight' : 5, 'subsample' : 0.3, 'learning_rate' : 0.05, 'gamma' : 2, 'reg_lambda' : 0}\n",
        "\n",
        "#instantiate the classifier\n",
        "xgb_clf = XGBClassifier(**params)\n",
        "\n",
        "#fit the classifier to the training data\n",
        "xgb_clf.fit(X1_train, y1_train)"
      ],
      "execution_count": 65,
      "outputs": [
        {
          "output_type": "execute_result",
          "data": {
            "text/plain": [
              "XGBClassifier(base_score=0.5, booster='gbtree', colsample_bylevel=1,\n",
              "              colsample_bynode=1, colsample_bytree=1, gamma=2,\n",
              "              learning_rate=0.05, max_delta_step=0, max_depth=10,\n",
              "              min_child_weight=5, missing=None, n_estimators=100, n_jobs=1,\n",
              "              nthread=None, objective='binary:logistic', random_state=0,\n",
              "              reg_alpha=0, reg_lambda=0, scale_pos_weight=1, seed=None,\n",
              "              silent=None, subsample=0.3, verbosity=1)"
            ]
          },
          "metadata": {
            "tags": []
          },
          "execution_count": 65
        }
      ]
    },
    {
      "cell_type": "code",
      "metadata": {
        "id": "wMCEVqvWF5Ah"
      },
      "source": [
        "y_pred = xgb_clf.predict(X1_test)"
      ],
      "execution_count": 66,
      "outputs": []
    },
    {
      "cell_type": "code",
      "metadata": {
        "colab": {
          "base_uri": "https://localhost:8080/"
        },
        "id": "73gQKvoaRIw0",
        "outputId": "44638d2d-d3fe-4486-b3c5-9a3be63850dc"
      },
      "source": [
        "from sklearn.metrics import accuracy_score\n",
        "accuracy_score = accuracy_score(y1_test, y_pred)\n",
        "print(accuracy_score)"
      ],
      "execution_count": 67,
      "outputs": [
        {
          "output_type": "stream",
          "text": [
            "0.84\n"
          ],
          "name": "stdout"
        }
      ]
    },
    {
      "cell_type": "code",
      "metadata": {
        "id": "eUKf1peDLzpt"
      },
      "source": [
        "from xgboost import cv\n",
        "xgb_cv = cv(dtrain=data_dmatrix, params=params, nfold=10, num_boost_round=50, early_stopping_rounds=10, metrics=\"auc\", as_pandas=True, seed=123)\n"
      ],
      "execution_count": 68,
      "outputs": []
    },
    {
      "cell_type": "code",
      "metadata": {
        "colab": {
          "base_uri": "https://localhost:8080/",
          "height": 204
        },
        "id": "atXFqfiDO3cz",
        "outputId": "a5f9061d-8ec1-4a87-ccf1-65bb68273bb3"
      },
      "source": [
        "xgb_cv.head()"
      ],
      "execution_count": 69,
      "outputs": [
        {
          "output_type": "execute_result",
          "data": {
            "text/html": [
              "<div>\n",
              "<style scoped>\n",
              "    .dataframe tbody tr th:only-of-type {\n",
              "        vertical-align: middle;\n",
              "    }\n",
              "\n",
              "    .dataframe tbody tr th {\n",
              "        vertical-align: top;\n",
              "    }\n",
              "\n",
              "    .dataframe thead th {\n",
              "        text-align: right;\n",
              "    }\n",
              "</style>\n",
              "<table border=\"1\" class=\"dataframe\">\n",
              "  <thead>\n",
              "    <tr style=\"text-align: right;\">\n",
              "      <th></th>\n",
              "      <th>train-auc-mean</th>\n",
              "      <th>train-auc-std</th>\n",
              "      <th>test-auc-mean</th>\n",
              "      <th>test-auc-std</th>\n",
              "    </tr>\n",
              "  </thead>\n",
              "  <tbody>\n",
              "    <tr>\n",
              "      <th>0</th>\n",
              "      <td>0.773593</td>\n",
              "      <td>0.019033</td>\n",
              "      <td>0.745290</td>\n",
              "      <td>0.051050</td>\n",
              "    </tr>\n",
              "    <tr>\n",
              "      <th>1</th>\n",
              "      <td>0.812779</td>\n",
              "      <td>0.008118</td>\n",
              "      <td>0.775513</td>\n",
              "      <td>0.055766</td>\n",
              "    </tr>\n",
              "    <tr>\n",
              "      <th>2</th>\n",
              "      <td>0.828908</td>\n",
              "      <td>0.006541</td>\n",
              "      <td>0.791687</td>\n",
              "      <td>0.036791</td>\n",
              "    </tr>\n",
              "    <tr>\n",
              "      <th>3</th>\n",
              "      <td>0.839598</td>\n",
              "      <td>0.007416</td>\n",
              "      <td>0.803418</td>\n",
              "      <td>0.038076</td>\n",
              "    </tr>\n",
              "    <tr>\n",
              "      <th>4</th>\n",
              "      <td>0.845170</td>\n",
              "      <td>0.008203</td>\n",
              "      <td>0.810933</td>\n",
              "      <td>0.030428</td>\n",
              "    </tr>\n",
              "  </tbody>\n",
              "</table>\n",
              "</div>"
            ],
            "text/plain": [
              "   train-auc-mean  train-auc-std  test-auc-mean  test-auc-std\n",
              "0        0.773593       0.019033       0.745290      0.051050\n",
              "1        0.812779       0.008118       0.775513      0.055766\n",
              "2        0.828908       0.006541       0.791687      0.036791\n",
              "3        0.839598       0.007416       0.803418      0.038076\n",
              "4        0.845170       0.008203       0.810933      0.030428"
            ]
          },
          "metadata": {
            "tags": []
          },
          "execution_count": 69
        }
      ]
    },
    {
      "cell_type": "markdown",
      "metadata": {
        "id": "IYTxFd3mGC79"
      },
      "source": [
        "The accuracy for RandomForestClassifier is 78% and The accuracy for XGBoost is 84%"
      ]
    },
    {
      "cell_type": "markdown",
      "metadata": {
        "id": "LDYRgDM6zDmw"
      },
      "source": [
        "PRECISION-RECALL"
      ]
    },
    {
      "cell_type": "code",
      "metadata": {
        "colab": {
          "base_uri": "https://localhost:8080/"
        },
        "id": "7T5ZMyPnyy_F",
        "outputId": "3759d598-b55c-40a4-f2da-ee6afba1d418"
      },
      "source": [
        "#Check precision, recall, f1-score\n",
        "from sklearn.metrics import classification_report\n",
        "print(classification_report(y1_test, y_pred))"
      ],
      "execution_count": 70,
      "outputs": [
        {
          "output_type": "stream",
          "text": [
            "              precision    recall  f1-score   support\n",
            "\n",
            "           0       0.74      0.53      0.62        49\n",
            "           1       0.86      0.94      0.90       151\n",
            "\n",
            "    accuracy                           0.84       200\n",
            "   macro avg       0.80      0.74      0.76       200\n",
            "weighted avg       0.83      0.84      0.83       200\n",
            "\n"
          ],
          "name": "stdout"
        }
      ]
    },
    {
      "cell_type": "markdown",
      "metadata": {
        "id": "Q4j_Cikx1017"
      },
      "source": [
        "POSITIVE AND NEGATIVE CORRELATION"
      ]
    },
    {
      "cell_type": "code",
      "metadata": {
        "colab": {
          "base_uri": "https://localhost:8080/",
          "height": 480
        },
        "id": "9otEJgsq16F4",
        "outputId": "be97e13f-5f46-4406-8b00-b0e2f36ef0a9"
      },
      "source": [
        "import seaborn as sn\n",
        "import matplotlib.pyplot as plt\n",
        "corrMatrix = X.corr()\n",
        "sn.heatmap(corrMatrix, annot=True)\n",
        "plt.show()"
      ],
      "execution_count": 71,
      "outputs": [
        {
          "output_type": "display_data",
          "data": {
            "image/png": "[encoded data removed]",
            "text/plain": [
              "<Figure size 432x288 with 2 Axes>"
            ]
          },
          "metadata": {
            "tags": [],
            "needs_background": "light"
          }
        }
      ]
    },
    {
      "cell_type": "markdown",
      "metadata": {
        "id": "OOpJXI4h3Jie"
      },
      "source": [
        "If the correlation value is 0.9 or 1, it is called as strongly positive correlation and if the correlation value is -1 it is called as strongly negative correlation."
      ]
    },
    {
      "cell_type": "markdown",
      "metadata": {
        "id": "ADZZEbW9899a"
      },
      "source": [
        "FORECASTING THE DRUG MANUFACTURING"
      ]
    },
    {
      "cell_type": "code",
      "metadata": {
        "colab": {
          "base_uri": "https://localhost:8080/"
        },
        "id": "034_o1uV9IYz",
        "outputId": "a33785ca-c7d8-48ec-9292-baaebd8ae87e"
      },
      "source": [
        "from google.colab import drive\n",
        "drive.mount('/content/drive')"
      ],
      "execution_count": 92,
      "outputs": [
        {
          "output_type": "stream",
          "text": [
            "Drive already mounted at /content/drive; to attempt to forcibly remount, call drive.mount(\"/content/drive\", force_remount=True).\n"
          ],
          "name": "stdout"
        }
      ]
    },
    {
      "cell_type": "code",
      "metadata": {
        "colab": {
          "base_uri": "https://localhost:8080/",
          "height": 204
        },
        "id": "U5Gwyx7Itnr6",
        "outputId": "513f8ab4-7ba7-4275-b6eb-9a2db2672003"
      },
      "source": [
        "df1 = pd.read_excel('/content/drive/My Drive/Patient Non-Adherence/Forecasting/For_Input.xlsx')\n",
        "df1.head()"
      ],
      "execution_count": 106,
      "outputs": [
        {
          "output_type": "execute_result",
          "data": {
            "text/html": [
              "<div>\n",
              "<style scoped>\n",
              "    .dataframe tbody tr th:only-of-type {\n",
              "        vertical-align: middle;\n",
              "    }\n",
              "\n",
              "    .dataframe tbody tr th {\n",
              "        vertical-align: top;\n",
              "    }\n",
              "\n",
              "    .dataframe thead th {\n",
              "        text-align: right;\n",
              "    }\n",
              "</style>\n",
              "<table border=\"1\" class=\"dataframe\">\n",
              "  <thead>\n",
              "    <tr style=\"text-align: right;\">\n",
              "      <th></th>\n",
              "      <th>MONTH</th>\n",
              "      <th>QUANTITY</th>\n",
              "      <th>QUANTITY SOLD</th>\n",
              "      <th>DRUG</th>\n",
              "      <th>SALES</th>\n",
              "      <th>LOCATION</th>\n",
              "    </tr>\n",
              "  </thead>\n",
              "  <tbody>\n",
              "    <tr>\n",
              "      <th>0</th>\n",
              "      <td>1</td>\n",
              "      <td>900</td>\n",
              "      <td>700</td>\n",
              "      <td>Abilify</td>\n",
              "      <td>21000</td>\n",
              "      <td>San Francisco</td>\n",
              "    </tr>\n",
              "    <tr>\n",
              "      <th>1</th>\n",
              "      <td>2</td>\n",
              "      <td>900</td>\n",
              "      <td>600</td>\n",
              "      <td>Abilify</td>\n",
              "      <td>18600</td>\n",
              "      <td>San Francisco</td>\n",
              "    </tr>\n",
              "    <tr>\n",
              "      <th>2</th>\n",
              "      <td>3</td>\n",
              "      <td>900</td>\n",
              "      <td>600</td>\n",
              "      <td>Abilify</td>\n",
              "      <td>19200</td>\n",
              "      <td>San Francisco</td>\n",
              "    </tr>\n",
              "    <tr>\n",
              "      <th>3</th>\n",
              "      <td>4</td>\n",
              "      <td>900</td>\n",
              "      <td>800</td>\n",
              "      <td>Abilify</td>\n",
              "      <td>26400</td>\n",
              "      <td>San Francisco</td>\n",
              "    </tr>\n",
              "    <tr>\n",
              "      <th>4</th>\n",
              "      <td>5</td>\n",
              "      <td>900</td>\n",
              "      <td>850</td>\n",
              "      <td>Abilify</td>\n",
              "      <td>28900</td>\n",
              "      <td>San Francisco</td>\n",
              "    </tr>\n",
              "  </tbody>\n",
              "</table>\n",
              "</div>"
            ],
            "text/plain": [
              "   MONTH  QUANTITY   QUANTITY SOLD     DRUG  SALES       LOCATION\n",
              "0      1        900            700  Abilify  21000  San Francisco\n",
              "1      2        900            600  Abilify  18600  San Francisco\n",
              "2      3        900            600  Abilify  19200  San Francisco\n",
              "3      4        900            800  Abilify  26400  San Francisco\n",
              "4      5        900            850  Abilify  28900  San Francisco"
            ]
          },
          "metadata": {
            "tags": []
          },
          "execution_count": 106
        }
      ]
    },
    {
      "cell_type": "code",
      "metadata": {
        "id": "1D7UDnjlvbYY"
      },
      "source": [
        "from statsmodels.tsa.api import VAR\n",
        "from statsmodels.tsa.stattools import adfuller\n",
        "from statsmodels.tools.eval_measures import rmse, aic"
      ],
      "execution_count": 107,
      "outputs": []
    },
    {
      "cell_type": "code",
      "metadata": {
        "id": "7EbX6pEPGYEC"
      },
      "source": [
        "#data = df1.drop(['MONTH'], axis=1)"
      ],
      "execution_count": 121,
      "outputs": []
    },
    {
      "cell_type": "code",
      "metadata": {
        "colab": {
          "base_uri": "https://localhost:8080/"
        },
        "id": "VmlEbBhOaQ3p",
        "outputId": "99a02b68-97dc-44b1-a439-966c6fc770c5"
      },
      "source": [
        "#Convert all the non-numeric columns to numerical data types\n",
        "for column in df1.columns:\n",
        "    if df1[column].dtype == np.number:\n",
        "        continue\n",
        "    df1[column] = LabelEncoder().fit_transform(df1[column])"
      ],
      "execution_count": 130,
      "outputs": [
        {
          "output_type": "stream",
          "text": [
            "/usr/local/lib/python3.7/dist-packages/ipykernel_launcher.py:3: DeprecationWarning: Converting `np.inexact` or `np.floating` to a dtype is deprecated. The current result is `float64` which is not strictly correct.\n",
            "  This is separate from the ipykernel package so we can avoid doing imports until\n"
          ],
          "name": "stderr"
        }
      ]
    },
    {
      "cell_type": "code",
      "metadata": {
        "id": "dCFu6hC8VSL_"
      },
      "source": [
        "cols = df1.columns"
      ],
      "execution_count": 131,
      "outputs": []
    },
    {
      "cell_type": "code",
      "metadata": {
        "colab": {
          "base_uri": "https://localhost:8080/"
        },
        "id": "BOmOG1e7sZ9d",
        "outputId": "c34aa225-7d59-4f8d-da79-0ef88e91b0af"
      },
      "source": [
        "df1.dtypes"
      ],
      "execution_count": 140,
      "outputs": [
        {
          "output_type": "execute_result",
          "data": {
            "text/plain": [
              "MONTH            int64\n",
              "QUANTITY         int64\n",
              "QUANTITY SOLD    int64\n",
              "DRUG             int64\n",
              "SALES            int64\n",
              "LOCATION         int64\n",
              "dtype: object"
            ]
          },
          "metadata": {
            "tags": []
          },
          "execution_count": 140
        }
      ]
    },
    {
      "cell_type": "markdown",
      "metadata": {
        "id": "luNlbNu8VZiv"
      },
      "source": [
        "CHECKING STATIONARITY"
      ]
    },
    {
      "cell_type": "code",
      "metadata": {
        "colab": {
          "base_uri": "https://localhost:8080/"
        },
        "id": "ISvwHsHSVdPP",
        "outputId": "368199bd-c75a-4137-82cd-11e7a4bdd462"
      },
      "source": [
        "from statsmodels.tsa.vector_ar.vecm import coint_johansen\n",
        "coint_johansen(df1,-1,1).eig"
      ],
      "execution_count": 142,
      "outputs": [
        {
          "output_type": "execute_result",
          "data": {
            "text/plain": [
              "array([0.40759419, 0.19505104, 0.1640378 , 0.10334012, 0.0870044 ,\n",
              "       0.02888426])"
            ]
          },
          "metadata": {
            "tags": []
          },
          "execution_count": 142
        }
      ]
    },
    {
      "cell_type": "markdown",
      "metadata": {
        "id": "0ufraJJquEK7"
      },
      "source": [
        "CREATING THE TRAIN AND VALIDATION SET"
      ]
    },
    {
      "cell_type": "code",
      "metadata": {
        "id": "dHoCHY6luJ33"
      },
      "source": [
        "train = df1[:int(0.8*(len(df1)))]\n",
        "valid = df1[int(0.8*(len(df1))):]"
      ],
      "execution_count": 144,
      "outputs": []
    },
    {
      "cell_type": "markdown",
      "metadata": {
        "id": "Qpnvb6uCuqDM"
      },
      "source": [
        "FIT THE MODEL"
      ]
    },
    {
      "cell_type": "code",
      "metadata": {
        "id": "pzbC9kvtus8r"
      },
      "source": [
        "model = VAR(endog=train)\n",
        "model_fit = model.fit()"
      ],
      "execution_count": 145,
      "outputs": []
    },
    {
      "cell_type": "markdown",
      "metadata": {
        "id": "TwoFtClevRum"
      },
      "source": [
        "MAKE PREDICTION ON VALIDATION"
      ]
    },
    {
      "cell_type": "code",
      "metadata": {
        "colab": {
          "base_uri": "https://localhost:8080/"
        },
        "id": "cmZrCX6hvnUd",
        "outputId": "04a453bb-31e3-49e7-b3b8-87ce7cf323e1"
      },
      "source": [
        "prediction = model_fit.forecast(model_fit.y, steps=len(valid))"
      ],
      "execution_count": 146,
      "outputs": [
        {
          "output_type": "stream",
          "text": [
            "/usr/local/lib/python3.7/dist-packages/statsmodels/base/wrapper.py:35: FutureWarning: y is a deprecated alias for endog, will be removed in version 0.11.0\n",
            "  obj = getattr(results, attr)\n"
          ],
          "name": "stderr"
        }
      ]
    },
    {
      "cell_type": "markdown",
      "metadata": {
        "id": "D0ITsuTxv5Qf"
      },
      "source": [
        "AS PREDICTIONS WILL BE IN ARRAY FORM, WE CONVERT IT INTO DATAFRAME"
      ]
    },
    {
      "cell_type": "code",
      "metadata": {
        "id": "RJGsM6iJwElO"
      },
      "source": [
        "pred = pd.DataFrame(index=range(0,len(prediction)),columns=[cols])\n",
        "for j in range(0,6):\n",
        "  for i in range(0,len(prediction)):\n",
        "    pred.iloc[i][j] = prediction[i][j]"
      ],
      "execution_count": 147,
      "outputs": []
    },
    {
      "cell_type": "markdown",
      "metadata": {
        "id": "_d2SSm4dwwEj"
      },
      "source": [
        "CHECK RMSE"
      ]
    },
    {
      "cell_type": "code",
      "metadata": {
        "colab": {
          "base_uri": "https://localhost:8080/",
          "height": 340
        },
        "id": "Tnrlod_Hyj2r",
        "outputId": "c0241c9d-6cd1-44ac-cbf9-1f74a55870ee"
      },
      "source": [
        "from sklearn.metrics import mean_squared_error\n",
        "from math import sqrt\n",
        "for i in cols:\n",
        "  print('rmse value for' , i, 'is : ', sqrt(mean_squared_error(pred[i], valid[i])))"
      ],
      "execution_count": 152,
      "outputs": [
        {
          "output_type": "error",
          "ename": "TypeError",
          "evalue": "ignored",
          "traceback": [
            "\u001b[0;31m---------------------------------------------------------------------------\u001b[0m",
            "\u001b[0;31mTypeError\u001b[0m                                 Traceback (most recent call last)",
            "\u001b[0;32m<ipython-input-152-8564a62817e6>\u001b[0m in \u001b[0;36m<module>\u001b[0;34m()\u001b[0m\n\u001b[1;32m      2\u001b[0m \u001b[0;32mfrom\u001b[0m \u001b[0mmath\u001b[0m \u001b[0;32mimport\u001b[0m \u001b[0msqrt\u001b[0m\u001b[0;34m\u001b[0m\u001b[0;34m\u001b[0m\u001b[0m\n\u001b[1;32m      3\u001b[0m \u001b[0;32mfor\u001b[0m \u001b[0mi\u001b[0m \u001b[0;32min\u001b[0m \u001b[0mcols\u001b[0m\u001b[0;34m:\u001b[0m\u001b[0;34m\u001b[0m\u001b[0;34m\u001b[0m\u001b[0m\n\u001b[0;32m----> 4\u001b[0;31m   \u001b[0mprint\u001b[0m\u001b[0;34m(\u001b[0m\u001b[0;34m'rmse value for'\u001b[0m \u001b[0;34m,\u001b[0m \u001b[0mi\u001b[0m\u001b[0;34m,\u001b[0m \u001b[0;34m'is : '\u001b[0m\u001b[0;34m,\u001b[0m \u001b[0msqrt\u001b[0m\u001b[0;34m(\u001b[0m\u001b[0mmean_squared_error\u001b[0m\u001b[0;34m(\u001b[0m\u001b[0mpred\u001b[0m\u001b[0;34m[\u001b[0m\u001b[0mi\u001b[0m\u001b[0;34m]\u001b[0m\u001b[0;34m,\u001b[0m \u001b[0mvalid\u001b[0m\u001b[0;34m[\u001b[0m\u001b[0mi\u001b[0m\u001b[0;34m]\u001b[0m\u001b[0;34m)\u001b[0m\u001b[0;34m)\u001b[0m\u001b[0;34m)\u001b[0m\u001b[0;34m\u001b[0m\u001b[0;34m\u001b[0m\u001b[0m\n\u001b[0m",
            "\u001b[0;32m/usr/local/lib/python3.7/dist-packages/pandas/core/frame.py\u001b[0m in \u001b[0;36m__getitem__\u001b[0;34m(self, key)\u001b[0m\n\u001b[1;32m   2876\u001b[0m                 \u001b[0;32mif\u001b[0m \u001b[0mself\u001b[0m\u001b[0;34m.\u001b[0m\u001b[0mcolumns\u001b[0m\u001b[0;34m.\u001b[0m\u001b[0mnlevels\u001b[0m \u001b[0;34m>\u001b[0m \u001b[0;36m1\u001b[0m\u001b[0;34m:\u001b[0m\u001b[0;34m\u001b[0m\u001b[0;34m\u001b[0m\u001b[0m\n\u001b[1;32m   2877\u001b[0m                     \u001b[0;32mreturn\u001b[0m \u001b[0mself\u001b[0m\u001b[0;34m.\u001b[0m\u001b[0m_getitem_multilevel\u001b[0m\u001b[0;34m(\u001b[0m\u001b[0mkey\u001b[0m\u001b[0;34m)\u001b[0m\u001b[0;34m\u001b[0m\u001b[0;34m\u001b[0m\u001b[0m\n\u001b[0;32m-> 2878\u001b[0;31m                 \u001b[0;32mreturn\u001b[0m \u001b[0mself\u001b[0m\u001b[0;34m.\u001b[0m\u001b[0m_get_item_cache\u001b[0m\u001b[0;34m(\u001b[0m\u001b[0mkey\u001b[0m\u001b[0;34m)\u001b[0m\u001b[0;34m\u001b[0m\u001b[0;34m\u001b[0m\u001b[0m\n\u001b[0m\u001b[1;32m   2879\u001b[0m \u001b[0;34m\u001b[0m\u001b[0m\n\u001b[1;32m   2880\u001b[0m         \u001b[0;31m# Do we have a slicer (on rows)?\u001b[0m\u001b[0;34m\u001b[0m\u001b[0;34m\u001b[0m\u001b[0;34m\u001b[0m\u001b[0m\n",
            "\u001b[0;32m/usr/local/lib/python3.7/dist-packages/pandas/core/generic.py\u001b[0m in \u001b[0;36m_get_item_cache\u001b[0;34m(self, item)\u001b[0m\n\u001b[1;32m   3541\u001b[0m \u001b[0;34m\u001b[0m\u001b[0m\n\u001b[1;32m   3542\u001b[0m             \u001b[0mloc\u001b[0m \u001b[0;34m=\u001b[0m \u001b[0mself\u001b[0m\u001b[0;34m.\u001b[0m\u001b[0mcolumns\u001b[0m\u001b[0;34m.\u001b[0m\u001b[0mget_loc\u001b[0m\u001b[0;34m(\u001b[0m\u001b[0mitem\u001b[0m\u001b[0;34m)\u001b[0m\u001b[0;34m\u001b[0m\u001b[0;34m\u001b[0m\u001b[0m\n\u001b[0;32m-> 3543\u001b[0;31m             \u001b[0mvalues\u001b[0m \u001b[0;34m=\u001b[0m \u001b[0mself\u001b[0m\u001b[0;34m.\u001b[0m\u001b[0m_mgr\u001b[0m\u001b[0;34m.\u001b[0m\u001b[0miget\u001b[0m\u001b[0;34m(\u001b[0m\u001b[0mloc\u001b[0m\u001b[0;34m)\u001b[0m\u001b[0;34m\u001b[0m\u001b[0;34m\u001b[0m\u001b[0m\n\u001b[0m\u001b[1;32m   3544\u001b[0m             \u001b[0mres\u001b[0m \u001b[0;34m=\u001b[0m \u001b[0mself\u001b[0m\u001b[0;34m.\u001b[0m\u001b[0m_box_col_values\u001b[0m\u001b[0;34m(\u001b[0m\u001b[0mvalues\u001b[0m\u001b[0;34m,\u001b[0m \u001b[0mloc\u001b[0m\u001b[0;34m)\u001b[0m\u001b[0;34m\u001b[0m\u001b[0;34m\u001b[0m\u001b[0m\n\u001b[1;32m   3545\u001b[0m \u001b[0;34m\u001b[0m\u001b[0m\n",
            "\u001b[0;32m/usr/local/lib/python3.7/dist-packages/pandas/core/internals/managers.py\u001b[0m in \u001b[0;36miget\u001b[0;34m(self, i)\u001b[0m\n\u001b[1;32m    995\u001b[0m         \u001b[0mReturn\u001b[0m \u001b[0mthe\u001b[0m \u001b[0mdata\u001b[0m \u001b[0;32mas\u001b[0m \u001b[0ma\u001b[0m \u001b[0mSingleBlockManager\u001b[0m\u001b[0;34m.\u001b[0m\u001b[0;34m\u001b[0m\u001b[0;34m\u001b[0m\u001b[0m\n\u001b[1;32m    996\u001b[0m         \"\"\"\n\u001b[0;32m--> 997\u001b[0;31m         \u001b[0mblock\u001b[0m \u001b[0;34m=\u001b[0m \u001b[0mself\u001b[0m\u001b[0;34m.\u001b[0m\u001b[0mblocks\u001b[0m\u001b[0;34m[\u001b[0m\u001b[0mself\u001b[0m\u001b[0;34m.\u001b[0m\u001b[0mblknos\u001b[0m\u001b[0;34m[\u001b[0m\u001b[0mi\u001b[0m\u001b[0;34m]\u001b[0m\u001b[0;34m]\u001b[0m\u001b[0;34m\u001b[0m\u001b[0;34m\u001b[0m\u001b[0m\n\u001b[0m\u001b[1;32m    998\u001b[0m         \u001b[0mvalues\u001b[0m \u001b[0;34m=\u001b[0m \u001b[0mblock\u001b[0m\u001b[0;34m.\u001b[0m\u001b[0miget\u001b[0m\u001b[0;34m(\u001b[0m\u001b[0mself\u001b[0m\u001b[0;34m.\u001b[0m\u001b[0mblklocs\u001b[0m\u001b[0;34m[\u001b[0m\u001b[0mi\u001b[0m\u001b[0;34m]\u001b[0m\u001b[0;34m)\u001b[0m\u001b[0;34m\u001b[0m\u001b[0;34m\u001b[0m\u001b[0m\n\u001b[1;32m    999\u001b[0m \u001b[0;34m\u001b[0m\u001b[0m\n",
            "\u001b[0;31mTypeError\u001b[0m: only integer scalar arrays can be converted to a scalar index"
          ]
        }
      ]
    }
  ]
}