{
  "nbformat": 4,
  "nbformat_minor": 0,
  "metadata": {
    "colab": {
      "name": "PatientAdherence.ipynb",
      "provenance": [],
      "collapsed_sections": []
    },
    "kernelspec": {
      "name": "python3",
      "display_name": "Python 3"
    },
    "language_info": {
      "name": "python"
    }
  },
  "cells": [
    {
      "cell_type": "code",
      "metadata": {
        "colab": {
          "base_uri": "https://localhost:8080/"
        },
        "id": "fLn2Rk6l7eFk",
        "outputId": "8d4ca65e-cbbb-4a11-e89e-256200214d85"
      },
      "source": [
        "from google.colab import drive\n",
        "drive.mount('/content/drive')"
      ],
      "execution_count": 1,
      "outputs": [
        {
          "output_type": "stream",
          "text": [
            "Mounted at /content/drive\n"
          ],
          "name": "stdout"
        }
      ]
    },
    {
      "cell_type": "code",
      "metadata": {
        "id": "jX-PEFWc-ZOQ"
      },
      "source": [
        "import numpy as np\n",
        "import pandas as pd\n",
        "import sklearn\n",
        "from sklearn.preprocessing import StandardScaler\n",
        "from sklearn.model_selection import train_test_split"
      ],
      "execution_count": 2,
      "outputs": []
    },
    {
      "cell_type": "code",
      "metadata": {
        "colab": {
          "base_uri": "https://localhost:8080/",
          "height": 326
        },
        "id": "eLbzRCZJ-8KF",
        "outputId": "7aec8361-c5ba-4f91-a890-4476b698cbea"
      },
      "source": [
        "df = pd.read_excel('/content/drive/My Drive/Patient Non-Adherence/2_DataSet/Input.xlsx')\n",
        "df.head()"
      ],
      "execution_count": 7,
      "outputs": [
        {
          "output_type": "execute_result",
          "data": {
            "text/html": [
              "<div>\n",
              "<style scoped>\n",
              "    .dataframe tbody tr th:only-of-type {\n",
              "        vertical-align: middle;\n",
              "    }\n",
              "\n",
              "    .dataframe tbody tr th {\n",
              "        vertical-align: top;\n",
              "    }\n",
              "\n",
              "    .dataframe thead th {\n",
              "        text-align: right;\n",
              "    }\n",
              "</style>\n",
              "<table border=\"1\" class=\"dataframe\">\n",
              "  <thead>\n",
              "    <tr style=\"text-align: right;\">\n",
              "      <th></th>\n",
              "      <th>PATIENT ID</th>\n",
              "      <th>AGE</th>\n",
              "      <th>MARITAL STATUS</th>\n",
              "      <th>FINANCIAL STATUS</th>\n",
              "      <th>MEDICLAIM</th>\n",
              "      <th>NUMBER OF MEDICATIONS</th>\n",
              "      <th>ALCOHOL ADICTION</th>\n",
              "      <th>SMOKING</th>\n",
              "      <th>BLOOD PRESSURE</th>\n",
              "      <th>MOOD</th>\n",
              "      <th>ENERGY LEVELS</th>\n",
              "      <th>HEADACHE</th>\n",
              "      <th>CONCENTRATION</th>\n",
              "      <th>DRUG COST</th>\n",
              "      <th>FOLLOWUP CHECKUPS</th>\n",
              "      <th>PRESCRIBTION START DATE</th>\n",
              "      <th>PRESCRIBTION END DATE</th>\n",
              "      <th>REFILL FREQUENCY(MEDICINE1)</th>\n",
              "      <th>REFILL FREQUENCY(MEDICINE2)</th>\n",
              "      <th>PRESCRIBED MEDICATION PERIOD(MONTHS)</th>\n",
              "      <th>REFILLS DONE(MEDICINE 1)</th>\n",
              "      <th>REFILLS DONE(MEDICINE 2)</th>\n",
              "      <th>SEVIERITY OF ILLNESS(CHECKUP 1)</th>\n",
              "      <th>SEVIERITY OF ILLNESS(CHECKUP 2)</th>\n",
              "      <th>SEVIERITY OF ILLNESS(CHECKUP 3)</th>\n",
              "      <th>SEVIERITY OF ILLNESS(CHECKUP 4)</th>\n",
              "      <th>SEVIERITY OF ILLNESS(CHECKUP 5)</th>\n",
              "      <th>FREQUENCY</th>\n",
              "      <th>CHRONIC ILLNESS</th>\n",
              "      <th>DIARRHEA</th>\n",
              "      <th>CONSTIPATION</th>\n",
              "      <th>NAUSEA</th>\n",
              "      <th>VOMITING</th>\n",
              "      <th>SORE THROAT</th>\n",
              "      <th>ALLERGIES</th>\n",
              "      <th>COLD</th>\n",
              "      <th>COUGH</th>\n",
              "      <th>FEVER</th>\n",
              "      <th>STOMACH ACHE</th>\n",
              "      <th>DROWSINESS</th>\n",
              "      <th>MEDICINE 1</th>\n",
              "      <th>MEDICINE 2</th>\n",
              "      <th>LABEL</th>\n",
              "    </tr>\n",
              "  </thead>\n",
              "  <tbody>\n",
              "    <tr>\n",
              "      <th>0</th>\n",
              "      <td>PAT001</td>\n",
              "      <td>65</td>\n",
              "      <td>Unmarried</td>\n",
              "      <td>Poor</td>\n",
              "      <td>Yes</td>\n",
              "      <td>1</td>\n",
              "      <td>Yes</td>\n",
              "      <td>Once a  week</td>\n",
              "      <td>120</td>\n",
              "      <td>Excited</td>\n",
              "      <td>High</td>\n",
              "      <td>No</td>\n",
              "      <td>High</td>\n",
              "      <td>High</td>\n",
              "      <td>1</td>\n",
              "      <td>2020-01-05</td>\n",
              "      <td>2020-01-10</td>\n",
              "      <td>Fortnightly</td>\n",
              "      <td>Fortnightly</td>\n",
              "      <td>5</td>\n",
              "      <td>6</td>\n",
              "      <td>5</td>\n",
              "      <td>0</td>\n",
              "      <td>0</td>\n",
              "      <td>0</td>\n",
              "      <td>0</td>\n",
              "      <td>0</td>\n",
              "      <td>3</td>\n",
              "      <td>No</td>\n",
              "      <td>Yes</td>\n",
              "      <td>No</td>\n",
              "      <td>No</td>\n",
              "      <td>No</td>\n",
              "      <td>Yes</td>\n",
              "      <td>No</td>\n",
              "      <td>Yes</td>\n",
              "      <td>No</td>\n",
              "      <td>Low</td>\n",
              "      <td>No</td>\n",
              "      <td>Yes</td>\n",
              "      <td>Clopidogrel</td>\n",
              "      <td>Filgrastim</td>\n",
              "      <td>1</td>\n",
              "    </tr>\n",
              "    <tr>\n",
              "      <th>1</th>\n",
              "      <td>PAT002</td>\n",
              "      <td>62</td>\n",
              "      <td>Unmarried</td>\n",
              "      <td>Poor</td>\n",
              "      <td>No</td>\n",
              "      <td>2</td>\n",
              "      <td>Ocassionally</td>\n",
              "      <td>Once a  week</td>\n",
              "      <td>120</td>\n",
              "      <td>Sad</td>\n",
              "      <td>High</td>\n",
              "      <td>No</td>\n",
              "      <td>High</td>\n",
              "      <td>High</td>\n",
              "      <td>1</td>\n",
              "      <td>2020-01-06</td>\n",
              "      <td>2020-01-07</td>\n",
              "      <td>Monthly</td>\n",
              "      <td>Fortnightly</td>\n",
              "      <td>1</td>\n",
              "      <td>10</td>\n",
              "      <td>8</td>\n",
              "      <td>0</td>\n",
              "      <td>0</td>\n",
              "      <td>0</td>\n",
              "      <td>0</td>\n",
              "      <td>0</td>\n",
              "      <td>3</td>\n",
              "      <td>No</td>\n",
              "      <td>Yes</td>\n",
              "      <td>No</td>\n",
              "      <td>Yes</td>\n",
              "      <td>No</td>\n",
              "      <td>Yes</td>\n",
              "      <td>No</td>\n",
              "      <td>Yes</td>\n",
              "      <td>No</td>\n",
              "      <td>High</td>\n",
              "      <td>No</td>\n",
              "      <td>Yes</td>\n",
              "      <td>Atorvastatin</td>\n",
              "      <td>Diazepam</td>\n",
              "      <td>1</td>\n",
              "    </tr>\n",
              "    <tr>\n",
              "      <th>2</th>\n",
              "      <td>PAT003</td>\n",
              "      <td>62</td>\n",
              "      <td>Married</td>\n",
              "      <td>Poor</td>\n",
              "      <td>Yes</td>\n",
              "      <td>10</td>\n",
              "      <td>Ocassionally</td>\n",
              "      <td>Yes</td>\n",
              "      <td>140</td>\n",
              "      <td>Excited</td>\n",
              "      <td>High</td>\n",
              "      <td>No</td>\n",
              "      <td>High</td>\n",
              "      <td>High</td>\n",
              "      <td>1</td>\n",
              "      <td>2020-01-06</td>\n",
              "      <td>2020-01-11</td>\n",
              "      <td>Fortnightly</td>\n",
              "      <td>Monthly</td>\n",
              "      <td>5</td>\n",
              "      <td>8</td>\n",
              "      <td>10</td>\n",
              "      <td>0</td>\n",
              "      <td>0</td>\n",
              "      <td>0</td>\n",
              "      <td>0</td>\n",
              "      <td>0</td>\n",
              "      <td>3</td>\n",
              "      <td>Yes</td>\n",
              "      <td>Yes</td>\n",
              "      <td>Yes</td>\n",
              "      <td>Yes</td>\n",
              "      <td>No</td>\n",
              "      <td>No</td>\n",
              "      <td>No</td>\n",
              "      <td>Yes</td>\n",
              "      <td>No</td>\n",
              "      <td>High</td>\n",
              "      <td>No</td>\n",
              "      <td>Yes</td>\n",
              "      <td>Clindamycin</td>\n",
              "      <td>EMLA cream</td>\n",
              "      <td>1</td>\n",
              "    </tr>\n",
              "    <tr>\n",
              "      <th>3</th>\n",
              "      <td>PAT004</td>\n",
              "      <td>58</td>\n",
              "      <td>Unmarried</td>\n",
              "      <td>Poor</td>\n",
              "      <td>No</td>\n",
              "      <td>6</td>\n",
              "      <td>Yes</td>\n",
              "      <td>Once a  week</td>\n",
              "      <td>100</td>\n",
              "      <td>Sad</td>\n",
              "      <td>Low</td>\n",
              "      <td>No</td>\n",
              "      <td>High</td>\n",
              "      <td>Low</td>\n",
              "      <td>1</td>\n",
              "      <td>2020-01-03</td>\n",
              "      <td>2020-01-07</td>\n",
              "      <td>Weekly</td>\n",
              "      <td>Monthly</td>\n",
              "      <td>4</td>\n",
              "      <td>5</td>\n",
              "      <td>5</td>\n",
              "      <td>0</td>\n",
              "      <td>0</td>\n",
              "      <td>0</td>\n",
              "      <td>0</td>\n",
              "      <td>0</td>\n",
              "      <td>3</td>\n",
              "      <td>No</td>\n",
              "      <td>Yes</td>\n",
              "      <td>No</td>\n",
              "      <td>Yes</td>\n",
              "      <td>Yes</td>\n",
              "      <td>No</td>\n",
              "      <td>No</td>\n",
              "      <td>Yes</td>\n",
              "      <td>No</td>\n",
              "      <td>High</td>\n",
              "      <td>No</td>\n",
              "      <td>Yes</td>\n",
              "      <td>Cefixime</td>\n",
              "      <td>Dacarbazine</td>\n",
              "      <td>1</td>\n",
              "    </tr>\n",
              "    <tr>\n",
              "      <th>4</th>\n",
              "      <td>PAT005</td>\n",
              "      <td>72</td>\n",
              "      <td>Married</td>\n",
              "      <td>Poor</td>\n",
              "      <td>No</td>\n",
              "      <td>2</td>\n",
              "      <td>No</td>\n",
              "      <td>No</td>\n",
              "      <td>110</td>\n",
              "      <td>Excited</td>\n",
              "      <td>High</td>\n",
              "      <td>No</td>\n",
              "      <td>High</td>\n",
              "      <td>Low</td>\n",
              "      <td>1</td>\n",
              "      <td>2020-01-06</td>\n",
              "      <td>2020-01-10</td>\n",
              "      <td>Monthly</td>\n",
              "      <td>Monthly</td>\n",
              "      <td>4</td>\n",
              "      <td>7</td>\n",
              "      <td>5</td>\n",
              "      <td>0</td>\n",
              "      <td>0</td>\n",
              "      <td>0</td>\n",
              "      <td>0</td>\n",
              "      <td>0</td>\n",
              "      <td>2</td>\n",
              "      <td>No</td>\n",
              "      <td>Yes</td>\n",
              "      <td>No</td>\n",
              "      <td>No</td>\n",
              "      <td>Yes</td>\n",
              "      <td>Yes</td>\n",
              "      <td>No</td>\n",
              "      <td>Yes</td>\n",
              "      <td>No</td>\n",
              "      <td>High</td>\n",
              "      <td>No</td>\n",
              "      <td>Yes</td>\n",
              "      <td>Cetrizine</td>\n",
              "      <td>Ifosfamide</td>\n",
              "      <td>1</td>\n",
              "    </tr>\n",
              "  </tbody>\n",
              "</table>\n",
              "</div>"
            ],
            "text/plain": [
              "  PATIENT ID  AGE MARITAL STATUS  ...    MEDICINE 1   MEDICINE 2  LABEL\n",
              "0     PAT001   65      Unmarried  ...   Clopidogrel   Filgrastim      1\n",
              "1     PAT002   62      Unmarried  ...  Atorvastatin     Diazepam      1\n",
              "2     PAT003   62        Married  ...   Clindamycin   EMLA cream      1\n",
              "3     PAT004   58      Unmarried  ...      Cefixime  Dacarbazine      1\n",
              "4     PAT005   72        Married  ...     Cetrizine   Ifosfamide      1\n",
              "\n",
              "[5 rows x 43 columns]"
            ]
          },
          "metadata": {
            "tags": []
          },
          "execution_count": 7
        }
      ]
    },
    {
      "cell_type": "markdown",
      "metadata": {
        "id": "HgDNZckfBvsS"
      },
      "source": [
        "DATA PREPROCESSING"
      ]
    },
    {
      "cell_type": "code",
      "metadata": {
        "colab": {
          "base_uri": "https://localhost:8080/"
        },
        "id": "Ik9zCFXTB3rz",
        "outputId": "ebdabe94-669d-4e30-8f98-9487c3ced24b"
      },
      "source": [
        "#Check for na or missing data\n",
        "df.isna().sum()"
      ],
      "execution_count": 8,
      "outputs": [
        {
          "output_type": "execute_result",
          "data": {
            "text/plain": [
              "PATIENT ID                              0\n",
              "AGE                                     0\n",
              "MARITAL STATUS                          0\n",
              "FINANCIAL STATUS                        0\n",
              "MEDICLAIM                               0\n",
              "NUMBER OF MEDICATIONS                   0\n",
              "ALCOHOL ADICTION                        0\n",
              "SMOKING                                 0\n",
              "BLOOD PRESSURE                          0\n",
              "MOOD                                    0\n",
              "ENERGY LEVELS                           0\n",
              "HEADACHE                                0\n",
              "CONCENTRATION                           0\n",
              "DRUG COST                               0\n",
              "FOLLOWUP CHECKUPS                       0\n",
              "PRESCRIBTION START DATE                 0\n",
              "PRESCRIBTION END DATE                   0\n",
              "REFILL FREQUENCY(MEDICINE1)             0\n",
              "REFILL FREQUENCY(MEDICINE2)             0\n",
              "PRESCRIBED MEDICATION PERIOD(MONTHS)    0\n",
              "REFILLS DONE(MEDICINE 1)                0\n",
              "REFILLS DONE(MEDICINE 2)                0\n",
              "SEVIERITY OF ILLNESS(CHECKUP 1)         0\n",
              "SEVIERITY OF ILLNESS(CHECKUP 2)         0\n",
              "SEVIERITY OF ILLNESS(CHECKUP 3)         0\n",
              "SEVIERITY OF ILLNESS(CHECKUP 4)         0\n",
              "SEVIERITY OF ILLNESS(CHECKUP 5)         0\n",
              "FREQUENCY                               0\n",
              "CHRONIC ILLNESS                         0\n",
              "DIARRHEA                                0\n",
              "CONSTIPATION                            0\n",
              "NAUSEA                                  0\n",
              "VOMITING                                0\n",
              "SORE THROAT                             0\n",
              "ALLERGIES                               0\n",
              "COLD                                    0\n",
              "COUGH                                   0\n",
              "FEVER                                   0\n",
              "STOMACH ACHE                            0\n",
              "DROWSINESS                              0\n",
              "MEDICINE 1                              0\n",
              "MEDICINE 2                              0\n",
              "LABEL                                   0\n",
              "dtype: int64"
            ]
          },
          "metadata": {
            "tags": []
          },
          "execution_count": 8
        }
      ]
    },
    {
      "cell_type": "code",
      "metadata": {
        "colab": {
          "base_uri": "https://localhost:8080/",
          "height": 490
        },
        "id": "Ykl3ghVICA7J",
        "outputId": "15520151-4c8f-41cf-8861-0c303574c4c9"
      },
      "source": [
        "X = df.drop(['AGE', 'MARITAL STATUS', 'ALCOHOL ADICTION', 'SMOKING', 'BLOOD PRESSURE', 'MOOD', 'ENERGY LEVELS', 'HEADACHE', 'CONCENTRATION', 'PRESCRIBTION START DATE', 'PRESCRIBTION END DATE', 'CHRONIC ILLNESS', 'DIARRHEA', 'CONSTIPATION', 'NAUSEA', 'VOMITING', 'SORE THROAT', 'ALLERGIES', 'COLD', 'COUGH', 'FEVER', 'STOMACH ACHE', 'DROWSINESS', 'FREQUENCY', 'FINANCIAL STATUS', 'MEDICLAIM', 'NUMBER OF MEDICATIONS', 'DRUG COST'], axis = 1)\n",
        "X"
      ],
      "execution_count": 9,
      "outputs": [
        {
          "output_type": "execute_result",
          "data": {
            "text/html": [
              "<div>\n",
              "<style scoped>\n",
              "    .dataframe tbody tr th:only-of-type {\n",
              "        vertical-align: middle;\n",
              "    }\n",
              "\n",
              "    .dataframe tbody tr th {\n",
              "        vertical-align: top;\n",
              "    }\n",
              "\n",
              "    .dataframe thead th {\n",
              "        text-align: right;\n",
              "    }\n",
              "</style>\n",
              "<table border=\"1\" class=\"dataframe\">\n",
              "  <thead>\n",
              "    <tr style=\"text-align: right;\">\n",
              "      <th></th>\n",
              "      <th>PATIENT ID</th>\n",
              "      <th>FOLLOWUP CHECKUPS</th>\n",
              "      <th>REFILL FREQUENCY(MEDICINE1)</th>\n",
              "      <th>REFILL FREQUENCY(MEDICINE2)</th>\n",
              "      <th>PRESCRIBED MEDICATION PERIOD(MONTHS)</th>\n",
              "      <th>REFILLS DONE(MEDICINE 1)</th>\n",
              "      <th>REFILLS DONE(MEDICINE 2)</th>\n",
              "      <th>SEVIERITY OF ILLNESS(CHECKUP 1)</th>\n",
              "      <th>SEVIERITY OF ILLNESS(CHECKUP 2)</th>\n",
              "      <th>SEVIERITY OF ILLNESS(CHECKUP 3)</th>\n",
              "      <th>SEVIERITY OF ILLNESS(CHECKUP 4)</th>\n",
              "      <th>SEVIERITY OF ILLNESS(CHECKUP 5)</th>\n",
              "      <th>MEDICINE 1</th>\n",
              "      <th>MEDICINE 2</th>\n",
              "      <th>LABEL</th>\n",
              "    </tr>\n",
              "  </thead>\n",
              "  <tbody>\n",
              "    <tr>\n",
              "      <th>0</th>\n",
              "      <td>PAT001</td>\n",
              "      <td>1</td>\n",
              "      <td>Fortnightly</td>\n",
              "      <td>Fortnightly</td>\n",
              "      <td>5</td>\n",
              "      <td>6</td>\n",
              "      <td>5</td>\n",
              "      <td>0</td>\n",
              "      <td>0</td>\n",
              "      <td>0</td>\n",
              "      <td>0</td>\n",
              "      <td>0</td>\n",
              "      <td>Clopidogrel</td>\n",
              "      <td>Filgrastim</td>\n",
              "      <td>1</td>\n",
              "    </tr>\n",
              "    <tr>\n",
              "      <th>1</th>\n",
              "      <td>PAT002</td>\n",
              "      <td>1</td>\n",
              "      <td>Monthly</td>\n",
              "      <td>Fortnightly</td>\n",
              "      <td>1</td>\n",
              "      <td>10</td>\n",
              "      <td>8</td>\n",
              "      <td>0</td>\n",
              "      <td>0</td>\n",
              "      <td>0</td>\n",
              "      <td>0</td>\n",
              "      <td>0</td>\n",
              "      <td>Atorvastatin</td>\n",
              "      <td>Diazepam</td>\n",
              "      <td>1</td>\n",
              "    </tr>\n",
              "    <tr>\n",
              "      <th>2</th>\n",
              "      <td>PAT003</td>\n",
              "      <td>1</td>\n",
              "      <td>Fortnightly</td>\n",
              "      <td>Monthly</td>\n",
              "      <td>5</td>\n",
              "      <td>8</td>\n",
              "      <td>10</td>\n",
              "      <td>0</td>\n",
              "      <td>0</td>\n",
              "      <td>0</td>\n",
              "      <td>0</td>\n",
              "      <td>0</td>\n",
              "      <td>Clindamycin</td>\n",
              "      <td>EMLA cream</td>\n",
              "      <td>1</td>\n",
              "    </tr>\n",
              "    <tr>\n",
              "      <th>3</th>\n",
              "      <td>PAT004</td>\n",
              "      <td>1</td>\n",
              "      <td>Weekly</td>\n",
              "      <td>Monthly</td>\n",
              "      <td>4</td>\n",
              "      <td>5</td>\n",
              "      <td>5</td>\n",
              "      <td>0</td>\n",
              "      <td>0</td>\n",
              "      <td>0</td>\n",
              "      <td>0</td>\n",
              "      <td>0</td>\n",
              "      <td>Cefixime</td>\n",
              "      <td>Dacarbazine</td>\n",
              "      <td>1</td>\n",
              "    </tr>\n",
              "    <tr>\n",
              "      <th>4</th>\n",
              "      <td>PAT005</td>\n",
              "      <td>1</td>\n",
              "      <td>Monthly</td>\n",
              "      <td>Monthly</td>\n",
              "      <td>4</td>\n",
              "      <td>7</td>\n",
              "      <td>5</td>\n",
              "      <td>0</td>\n",
              "      <td>0</td>\n",
              "      <td>0</td>\n",
              "      <td>0</td>\n",
              "      <td>0</td>\n",
              "      <td>Cetrizine</td>\n",
              "      <td>Ifosfamide</td>\n",
              "      <td>1</td>\n",
              "    </tr>\n",
              "    <tr>\n",
              "      <th>...</th>\n",
              "      <td>...</td>\n",
              "      <td>...</td>\n",
              "      <td>...</td>\n",
              "      <td>...</td>\n",
              "      <td>...</td>\n",
              "      <td>...</td>\n",
              "      <td>...</td>\n",
              "      <td>...</td>\n",
              "      <td>...</td>\n",
              "      <td>...</td>\n",
              "      <td>...</td>\n",
              "      <td>...</td>\n",
              "      <td>...</td>\n",
              "      <td>...</td>\n",
              "      <td>...</td>\n",
              "    </tr>\n",
              "    <tr>\n",
              "      <th>995</th>\n",
              "      <td>PAT996</td>\n",
              "      <td>5</td>\n",
              "      <td>Monthly</td>\n",
              "      <td>Monthly</td>\n",
              "      <td>9</td>\n",
              "      <td>8</td>\n",
              "      <td>4</td>\n",
              "      <td>1</td>\n",
              "      <td>2</td>\n",
              "      <td>1</td>\n",
              "      <td>3</td>\n",
              "      <td>2</td>\n",
              "      <td>Chlorambucil</td>\n",
              "      <td>Enoxaparin</td>\n",
              "      <td>1</td>\n",
              "    </tr>\n",
              "    <tr>\n",
              "      <th>996</th>\n",
              "      <td>PAT997</td>\n",
              "      <td>5</td>\n",
              "      <td>Fortnightly</td>\n",
              "      <td>Monthly</td>\n",
              "      <td>9</td>\n",
              "      <td>6</td>\n",
              "      <td>7</td>\n",
              "      <td>1</td>\n",
              "      <td>2</td>\n",
              "      <td>2</td>\n",
              "      <td>2</td>\n",
              "      <td>1</td>\n",
              "      <td>Carboplatin</td>\n",
              "      <td>Dacarbazine</td>\n",
              "      <td>1</td>\n",
              "    </tr>\n",
              "    <tr>\n",
              "      <th>997</th>\n",
              "      <td>PAT998</td>\n",
              "      <td>2</td>\n",
              "      <td>Weekly</td>\n",
              "      <td>Monthly</td>\n",
              "      <td>1</td>\n",
              "      <td>4</td>\n",
              "      <td>4</td>\n",
              "      <td>2</td>\n",
              "      <td>0</td>\n",
              "      <td>0</td>\n",
              "      <td>0</td>\n",
              "      <td>0</td>\n",
              "      <td>Chlorambucil</td>\n",
              "      <td>Hydroxychloroquine phosphate</td>\n",
              "      <td>0</td>\n",
              "    </tr>\n",
              "    <tr>\n",
              "      <th>998</th>\n",
              "      <td>PAT999</td>\n",
              "      <td>4</td>\n",
              "      <td>Weekly</td>\n",
              "      <td>Monthly</td>\n",
              "      <td>11</td>\n",
              "      <td>4</td>\n",
              "      <td>8</td>\n",
              "      <td>1</td>\n",
              "      <td>0</td>\n",
              "      <td>0</td>\n",
              "      <td>0</td>\n",
              "      <td>0</td>\n",
              "      <td>Cefixime</td>\n",
              "      <td>EMLA cream</td>\n",
              "      <td>1</td>\n",
              "    </tr>\n",
              "    <tr>\n",
              "      <th>999</th>\n",
              "      <td>PAT1000</td>\n",
              "      <td>1</td>\n",
              "      <td>Weekly</td>\n",
              "      <td>Monthly</td>\n",
              "      <td>3</td>\n",
              "      <td>6</td>\n",
              "      <td>6</td>\n",
              "      <td>1</td>\n",
              "      <td>0</td>\n",
              "      <td>0</td>\n",
              "      <td>0</td>\n",
              "      <td>0</td>\n",
              "      <td>Clindamycin</td>\n",
              "      <td>Fentanyl</td>\n",
              "      <td>1</td>\n",
              "    </tr>\n",
              "  </tbody>\n",
              "</table>\n",
              "<p>1000 rows × 15 columns</p>\n",
              "</div>"
            ],
            "text/plain": [
              "    PATIENT ID  FOLLOWUP CHECKUPS  ...                    MEDICINE 2 LABEL\n",
              "0       PAT001                  1  ...                    Filgrastim     1\n",
              "1       PAT002                  1  ...                      Diazepam     1\n",
              "2       PAT003                  1  ...                    EMLA cream     1\n",
              "3       PAT004                  1  ...                   Dacarbazine     1\n",
              "4       PAT005                  1  ...                    Ifosfamide     1\n",
              "..         ...                ...  ...                           ...   ...\n",
              "995     PAT996                  5  ...                    Enoxaparin     1\n",
              "996     PAT997                  5  ...                   Dacarbazine     1\n",
              "997     PAT998                  2  ...  Hydroxychloroquine phosphate     0\n",
              "998     PAT999                  4  ...                    EMLA cream     1\n",
              "999    PAT1000                  1  ...                      Fentanyl     1\n",
              "\n",
              "[1000 rows x 15 columns]"
            ]
          },
          "metadata": {
            "tags": []
          },
          "execution_count": 9
        }
      ]
    },
    {
      "cell_type": "code",
      "metadata": {
        "colab": {
          "base_uri": "https://localhost:8080/"
        },
        "id": "krZBb2zsCK5B",
        "outputId": "17d10067-b238-4d74-ecfc-8eb49bcfc271"
      },
      "source": [
        "#Convert all the non-numeric columns to numerical data types\n",
        "from sklearn.preprocessing import LabelEncoder\n",
        "for column in X.columns:\n",
        "    if X[column].dtype == np.number:\n",
        "        continue\n",
        "    X[column] = LabelEncoder().fit_transform(X[column])"
      ],
      "execution_count": 11,
      "outputs": [
        {
          "output_type": "stream",
          "text": [
            "/usr/local/lib/python3.7/dist-packages/ipykernel_launcher.py:4: DeprecationWarning: Converting `np.inexact` or `np.floating` to a dtype is deprecated. The current result is `float64` which is not strictly correct.\n",
            "  after removing the cwd from sys.path.\n"
          ],
          "name": "stderr"
        }
      ]
    },
    {
      "cell_type": "code",
      "metadata": {
        "id": "Gsl33DvsCgvU"
      },
      "source": [
        "#Scale the cleaned data\n",
        "x = X.drop('LABEL', axis = 1)\n",
        "y = X['LABEL']\n",
        "\n",
        "#Standardizing/Scaling the features\n",
        "X1 = StandardScaler().fit_transform(x)"
      ],
      "execution_count": 12,
      "outputs": []
    },
    {
      "cell_type": "markdown",
      "metadata": {
        "id": "fBxPCfDTCpiU"
      },
      "source": [
        "# PREDICTING ADHERENT AND NON-ADHERENT PATIENTS USING RANDOM FOREST "
      ]
    },
    {
      "cell_type": "code",
      "metadata": {
        "id": "Nyc14tROCruc"
      },
      "source": [
        "#Split the data into 80% training and 20% testing\n",
        "x_train, x_test, y_train, y_test = train_test_split(x, y, test_size=0.2, random_state=1)"
      ],
      "execution_count": 13,
      "outputs": []
    },
    {
      "cell_type": "code",
      "metadata": {
        "id": "owaM4W4HDIHx"
      },
      "source": [
        "X_train = x_train.drop(['PATIENT ID', 'MEDICINE 1', 'MEDICINE 2'], axis=1)\n",
        "X_test = x_test.drop(['PATIENT ID', 'MEDICINE 1', 'MEDICINE 2'], axis=1)"
      ],
      "execution_count": 14,
      "outputs": []
    },
    {
      "cell_type": "code",
      "metadata": {
        "colab": {
          "base_uri": "https://localhost:8080/"
        },
        "id": "LLr004hiDOIm",
        "outputId": "0e948a76-5d35-467f-dd75-7c268aa37a99"
      },
      "source": [
        "#Create the model\n",
        "from sklearn.ensemble import RandomForestClassifier\n",
        "model = RandomForestClassifier(n_estimators=100)\n",
        "#from sklearn.tree import DecisionTreeClassifier\n",
        "#model = DecisionTreeClassifier()\n",
        "#from sklearn.linear_model import LogisticRegression\n",
        "#model = LogisticRegression()\n",
        "#Train the model\n",
        "model.fit(X_train, y_train)"
      ],
      "execution_count": 15,
      "outputs": [
        {
          "output_type": "execute_result",
          "data": {
            "text/plain": [
              "RandomForestClassifier(bootstrap=True, ccp_alpha=0.0, class_weight=None,\n",
              "                       criterion='gini', max_depth=None, max_features='auto',\n",
              "                       max_leaf_nodes=None, max_samples=None,\n",
              "                       min_impurity_decrease=0.0, min_impurity_split=None,\n",
              "                       min_samples_leaf=1, min_samples_split=2,\n",
              "                       min_weight_fraction_leaf=0.0, n_estimators=100,\n",
              "                       n_jobs=None, oob_score=False, random_state=None,\n",
              "                       verbose=0, warm_start=False)"
            ]
          },
          "metadata": {
            "tags": []
          },
          "execution_count": 15
        }
      ]
    },
    {
      "cell_type": "code",
      "metadata": {
        "colab": {
          "base_uri": "https://localhost:8080/"
        },
        "id": "vBe6RaLeDQ8U",
        "outputId": "67c6c903-16ad-49bf-8fec-2500153fb5fe"
      },
      "source": [
        "predictions = model.predict(X_test)\n",
        "\n",
        "#printing the predictions\n",
        "print(predictions)"
      ],
      "execution_count": 16,
      "outputs": [
        {
          "output_type": "stream",
          "text": [
            "[1 1 0 1 1 0 1 0 0 1 1 1 1 1 1 1 1 1 1 1 0 1 1 1 1 1 1 1 1 1 1 1 1 1 1 1 1\n",
            " 1 1 1 1 1 1 1 1 1 1 0 1 1 1 1 1 1 1 1 1 0 1 1 1 1 1 1 0 1 0 1 1 0 1 1 0 1\n",
            " 1 1 1 1 1 0 1 0 1 0 1 1 1 1 1 0 0 1 0 1 1 1 1 1 0 1 1 0 1 1 1 0 0 1 0 1 1\n",
            " 0 1 1 1 1 1 1 0 1 0 0 1 0 1 1 1 1 0 1 1 1 1 1 0 0 1 1 1 1 0 0 0 1 1 1 0 0\n",
            " 1 1 1 0 0 1 1 1 1 1 1 1 1 1 1 1 0 1 1 1 1 1 1 1 1 1 0 1 1 0 0 1 1 1 1 0 1\n",
            " 1 1 1 0 0 0 0 1 1 0 1 1 1 1 1]\n"
          ],
          "name": "stdout"
        }
      ]
    },
    {
      "cell_type": "code",
      "metadata": {
        "colab": {
          "base_uri": "https://localhost:8080/"
        },
        "id": "Nm-WK8PuDWfP",
        "outputId": "4e1f3a41-c670-470a-fca2-580cb62d200b"
      },
      "source": [
        "from sklearn.metrics import accuracy_score\n",
        "accuracy_score = accuracy_score(y_test, predictions)\n",
        "print(accuracy_score)"
      ],
      "execution_count": 17,
      "outputs": [
        {
          "output_type": "stream",
          "text": [
            "0.82\n"
          ],
          "name": "stdout"
        }
      ]
    },
    {
      "cell_type": "code",
      "metadata": {
        "id": "q12QWznNDdYs"
      },
      "source": [
        "df1 = x_test[['PATIENT ID', 'MEDICINE 1', 'MEDICINE 2']]"
      ],
      "execution_count": 18,
      "outputs": []
    },
    {
      "cell_type": "code",
      "metadata": {
        "colab": {
          "base_uri": "https://localhost:8080/"
        },
        "id": "KOiQt_91DhB-",
        "outputId": "056212ba-c3d1-478b-cacf-f8573c3b60d4"
      },
      "source": [
        "df1['Label'] = pd.Series(predictions, index=df1.index)"
      ],
      "execution_count": 19,
      "outputs": [
        {
          "output_type": "stream",
          "text": [
            "/usr/local/lib/python3.7/dist-packages/ipykernel_launcher.py:1: SettingWithCopyWarning: \n",
            "A value is trying to be set on a copy of a slice from a DataFrame.\n",
            "Try using .loc[row_indexer,col_indexer] = value instead\n",
            "\n",
            "See the caveats in the documentation: https://pandas.pydata.org/pandas-docs/stable/user_guide/indexing.html#returning-a-view-versus-a-copy\n",
            "  \"\"\"Entry point for launching an IPython kernel.\n"
          ],
          "name": "stderr"
        }
      ]
    },
    {
      "cell_type": "code",
      "metadata": {
        "colab": {
          "base_uri": "https://localhost:8080/",
          "height": 521
        },
        "id": "c0FmeNDGDlGw",
        "outputId": "4197a184-d5ea-45ae-b7e8-2a5f00197d8d"
      },
      "source": [
        "df1[\"Label\"] = df1[\"Label\"].replace({0: \"Adherent\", 1: \"Non-Adherent\"})\n",
        "df1"
      ],
      "execution_count": 20,
      "outputs": [
        {
          "output_type": "stream",
          "text": [
            "/usr/local/lib/python3.7/dist-packages/ipykernel_launcher.py:1: SettingWithCopyWarning: \n",
            "A value is trying to be set on a copy of a slice from a DataFrame.\n",
            "Try using .loc[row_indexer,col_indexer] = value instead\n",
            "\n",
            "See the caveats in the documentation: https://pandas.pydata.org/pandas-docs/stable/user_guide/indexing.html#returning-a-view-versus-a-copy\n",
            "  \"\"\"Entry point for launching an IPython kernel.\n"
          ],
          "name": "stderr"
        },
        {
          "output_type": "execute_result",
          "data": {
            "text/html": [
              "<div>\n",
              "<style scoped>\n",
              "    .dataframe tbody tr th:only-of-type {\n",
              "        vertical-align: middle;\n",
              "    }\n",
              "\n",
              "    .dataframe tbody tr th {\n",
              "        vertical-align: top;\n",
              "    }\n",
              "\n",
              "    .dataframe thead th {\n",
              "        text-align: right;\n",
              "    }\n",
              "</style>\n",
              "<table border=\"1\" class=\"dataframe\">\n",
              "  <thead>\n",
              "    <tr style=\"text-align: right;\">\n",
              "      <th></th>\n",
              "      <th>PATIENT ID</th>\n",
              "      <th>MEDICINE 1</th>\n",
              "      <th>MEDICINE 2</th>\n",
              "      <th>Label</th>\n",
              "    </tr>\n",
              "  </thead>\n",
              "  <tbody>\n",
              "    <tr>\n",
              "      <th>507</th>\n",
              "      <td>508</td>\n",
              "      <td>6</td>\n",
              "      <td>3</td>\n",
              "      <td>Non-Adherent</td>\n",
              "    </tr>\n",
              "    <tr>\n",
              "      <th>818</th>\n",
              "      <td>819</td>\n",
              "      <td>6</td>\n",
              "      <td>3</td>\n",
              "      <td>Non-Adherent</td>\n",
              "    </tr>\n",
              "    <tr>\n",
              "      <th>452</th>\n",
              "      <td>453</td>\n",
              "      <td>9</td>\n",
              "      <td>9</td>\n",
              "      <td>Adherent</td>\n",
              "    </tr>\n",
              "    <tr>\n",
              "      <th>368</th>\n",
              "      <td>369</td>\n",
              "      <td>9</td>\n",
              "      <td>1</td>\n",
              "      <td>Non-Adherent</td>\n",
              "    </tr>\n",
              "    <tr>\n",
              "      <th>242</th>\n",
              "      <td>243</td>\n",
              "      <td>5</td>\n",
              "      <td>3</td>\n",
              "      <td>Non-Adherent</td>\n",
              "    </tr>\n",
              "    <tr>\n",
              "      <th>...</th>\n",
              "      <td>...</td>\n",
              "      <td>...</td>\n",
              "      <td>...</td>\n",
              "      <td>...</td>\n",
              "    </tr>\n",
              "    <tr>\n",
              "      <th>430</th>\n",
              "      <td>431</td>\n",
              "      <td>5</td>\n",
              "      <td>8</td>\n",
              "      <td>Non-Adherent</td>\n",
              "    </tr>\n",
              "    <tr>\n",
              "      <th>874</th>\n",
              "      <td>875</td>\n",
              "      <td>3</td>\n",
              "      <td>4</td>\n",
              "      <td>Non-Adherent</td>\n",
              "    </tr>\n",
              "    <tr>\n",
              "      <th>550</th>\n",
              "      <td>551</td>\n",
              "      <td>5</td>\n",
              "      <td>9</td>\n",
              "      <td>Non-Adherent</td>\n",
              "    </tr>\n",
              "    <tr>\n",
              "      <th>608</th>\n",
              "      <td>609</td>\n",
              "      <td>6</td>\n",
              "      <td>4</td>\n",
              "      <td>Non-Adherent</td>\n",
              "    </tr>\n",
              "    <tr>\n",
              "      <th>207</th>\n",
              "      <td>208</td>\n",
              "      <td>5</td>\n",
              "      <td>5</td>\n",
              "      <td>Non-Adherent</td>\n",
              "    </tr>\n",
              "  </tbody>\n",
              "</table>\n",
              "<p>200 rows × 4 columns</p>\n",
              "</div>"
            ],
            "text/plain": [
              "     PATIENT ID  MEDICINE 1  MEDICINE 2         Label\n",
              "507         508           6           3  Non-Adherent\n",
              "818         819           6           3  Non-Adherent\n",
              "452         453           9           9      Adherent\n",
              "368         369           9           1  Non-Adherent\n",
              "242         243           5           3  Non-Adherent\n",
              "..          ...         ...         ...           ...\n",
              "430         431           5           8  Non-Adherent\n",
              "874         875           3           4  Non-Adherent\n",
              "550         551           5           9  Non-Adherent\n",
              "608         609           6           4  Non-Adherent\n",
              "207         208           5           5  Non-Adherent\n",
              "\n",
              "[200 rows x 4 columns]"
            ]
          },
          "metadata": {
            "tags": []
          },
          "execution_count": 20
        }
      ]
    },
    {
      "cell_type": "code",
      "metadata": {
        "id": "T6u_6DL8FA_o"
      },
      "source": [
        "df1.to_excel('/content/drive/My Drive/Patient Non-Adherence/2_DataSet/Output.xlsx')"
      ],
      "execution_count": 21,
      "outputs": []
    },
    {
      "cell_type": "markdown",
      "metadata": {
        "id": "5wgpz78pFTC6"
      },
      "source": [
        "FEATURE IMPORTANCE"
      ]
    },
    {
      "cell_type": "code",
      "metadata": {
        "colab": {
          "base_uri": "https://localhost:8080/"
        },
        "id": "B5MwlvqgFUnN",
        "outputId": "4d6411db-b8e3-49ee-df0b-221ed039f02a"
      },
      "source": [
        "from matplotlib import pyplot as plt\n",
        "model.feature_importances_"
      ],
      "execution_count": 22,
      "outputs": [
        {
          "output_type": "execute_result",
          "data": {
            "text/plain": [
              "array([0.10844418, 0.07912798, 0.04414885, 0.27449455, 0.15887588,\n",
              "       0.15205654, 0.08892373, 0.0223277 , 0.02554412, 0.02363418,\n",
              "       0.02242229])"
            ]
          },
          "metadata": {
            "tags": []
          },
          "execution_count": 22
        }
      ]
    },
    {
      "cell_type": "code",
      "metadata": {
        "colab": {
          "base_uri": "https://localhost:8080/",
          "height": 282
        },
        "id": "wKNqqNWeFZAz",
        "outputId": "68acd234-7761-4278-cf62-16c4756afadb"
      },
      "source": [
        "plt.barh(X_test.columns, model.feature_importances_)"
      ],
      "execution_count": 23,
      "outputs": [
        {
          "output_type": "execute_result",
          "data": {
            "text/plain": [
              "<BarContainer object of 11 artists>"
            ]
          },
          "metadata": {
            "tags": []
          },
          "execution_count": 23
        },
        {
          "output_type": "display_data",
          "data": {
            "image/png": "[encoded data removed]",
            "text/plain": [
              "<Figure size 432x288 with 1 Axes>"
            ]
          },
          "metadata": {
            "tags": [],
            "needs_background": "light"
          }
        }
      ]
    },
    {
      "cell_type": "markdown",
      "metadata": {
        "id": "wReQovbEFc9P"
      },
      "source": [
        "KFOLD CROSS VALIDATION"
      ]
    },
    {
      "cell_type": "code",
      "metadata": {
        "colab": {
          "base_uri": "https://localhost:8080/"
        },
        "id": "snMf66xlFesM",
        "outputId": "a27d02ab-1a3d-4d28-bcc6-41db1beb5b19"
      },
      "source": [
        "from sklearn.model_selection import cross_validate\n",
        "cv = cross_validate(model, x, y, cv=10)\n",
        "print(cv['test_score'])\n",
        "print(cv['test_score'].mean())"
      ],
      "execution_count": 24,
      "outputs": [
        {
          "output_type": "stream",
          "text": [
            "[0.72 0.74 0.74 0.73 0.83 0.83 0.76 0.78 0.8  0.78]\n",
            "0.771\n"
          ],
          "name": "stdout"
        }
      ]
    },
    {
      "cell_type": "markdown",
      "metadata": {
        "id": "zriHGLFhFlTL"
      },
      "source": [
        "PREDICTING ADHERENT AND NON-ADHERENT PATIENTS USING XGBOOST"
      ]
    },
    {
      "cell_type": "code",
      "metadata": {
        "id": "FexRpnGXFmoh"
      },
      "source": [
        "import xgboost as xgb\n",
        "x1 = x\n",
        "y1 = y"
      ],
      "execution_count": 32,
      "outputs": []
    },
    {
      "cell_type": "code",
      "metadata": {
        "id": "pOZtPKimH2VD"
      },
      "source": [
        "#define data_dmatrix\n",
        "data_dmatrix = xgb.DMatrix(data=x1,label=y1)"
      ],
      "execution_count": 33,
      "outputs": []
    },
    {
      "cell_type": "code",
      "metadata": {
        "id": "oSfncl7GFs-L"
      },
      "source": [
        "x1_train, x1_test, y1_train, y1_test = train_test_split(x1, y1, test_size=0.2, random_state=1)"
      ],
      "execution_count": 34,
      "outputs": []
    },
    {
      "cell_type": "code",
      "metadata": {
        "id": "Fv7c39JLFxyk"
      },
      "source": [
        "X1_train = x1_train.drop(['PATIENT ID', 'MEDICINE 1', 'MEDICINE 2'], axis=1)\n",
        "X1_test = x1_test.drop(['PATIENT ID', 'MEDICINE 1', 'MEDICINE 2'], axis=1)"
      ],
      "execution_count": 35,
      "outputs": []
    },
    {
      "cell_type": "code",
      "metadata": {
        "colab": {
          "base_uri": "https://localhost:8080/"
        },
        "id": "iAUMSpbrISfM",
        "outputId": "09a3cfe2-6c62-4af7-e9f1-313c7782d33f"
      },
      "source": [
        "from xgboost import XGBClassifier\n",
        "\n",
        "#declare parameters\n",
        "params = {'objective' : 'binary:logistic', 'max_depth' : 10, 'min_child_weight' : 5, 'subsample' : 0.3, 'learning_rate' : 0.05, 'gamma' : 2, 'reg_lambda' : 0}\n",
        "\n",
        "#instantiate the classifier\n",
        "xgb_clf = XGBClassifier(**params)\n",
        "\n",
        "#fit the classifier to the training data\n",
        "xgb_clf.fit(X1_train, y1_train)"
      ],
      "execution_count": 40,
      "outputs": [
        {
          "output_type": "execute_result",
          "data": {
            "text/plain": [
              "XGBClassifier(base_score=0.5, booster='gbtree', colsample_bylevel=1,\n",
              "              colsample_bynode=1, colsample_bytree=1, gamma=2,\n",
              "              learning_rate=0.05, max_delta_step=0, max_depth=10,\n",
              "              min_child_weight=5, missing=None, n_estimators=100, n_jobs=1,\n",
              "              nthread=None, objective='binary:logistic', random_state=0,\n",
              "              reg_alpha=0, reg_lambda=0, scale_pos_weight=1, seed=None,\n",
              "              silent=None, subsample=0.3, verbosity=1)"
            ]
          },
          "metadata": {
            "tags": []
          },
          "execution_count": 40
        }
      ]
    },
    {
      "cell_type": "code",
      "metadata": {
        "id": "wMCEVqvWF5Ah"
      },
      "source": [
        "y_pred = xgb_clf.predict(X1_test)"
      ],
      "execution_count": 41,
      "outputs": []
    },
    {
      "cell_type": "code",
      "metadata": {
        "colab": {
          "base_uri": "https://localhost:8080/"
        },
        "id": "73gQKvoaRIw0",
        "outputId": "83417569-91ba-4428-9924-15a0aac1e92f"
      },
      "source": [
        "from sklearn.metrics import accuracy_score\n",
        "accuracy_score = accuracy_score(y1_test, y_pred)\n",
        "print(accuracy_score)"
      ],
      "execution_count": 49,
      "outputs": [
        {
          "output_type": "stream",
          "text": [
            "0.84\n"
          ],
          "name": "stdout"
        }
      ]
    },
    {
      "cell_type": "code",
      "metadata": {
        "id": "eUKf1peDLzpt"
      },
      "source": [
        "from xgboost import cv\n",
        "xgb_cv = cv(dtrain=data_dmatrix, params=params, nfold=10, num_boost_round=50, early_stopping_rounds=10, metrics=\"auc\", as_pandas=True, seed=123)\n"
      ],
      "execution_count": 54,
      "outputs": []
    },
    {
      "cell_type": "code",
      "metadata": {
        "colab": {
          "base_uri": "https://localhost:8080/",
          "height": 204
        },
        "id": "atXFqfiDO3cz",
        "outputId": "97184af6-71b6-4ab2-b55f-acc608d8e715"
      },
      "source": [
        "xgb_cv.head()"
      ],
      "execution_count": 55,
      "outputs": [
        {
          "output_type": "execute_result",
          "data": {
            "text/html": [
              "<div>\n",
              "<style scoped>\n",
              "    .dataframe tbody tr th:only-of-type {\n",
              "        vertical-align: middle;\n",
              "    }\n",
              "\n",
              "    .dataframe tbody tr th {\n",
              "        vertical-align: top;\n",
              "    }\n",
              "\n",
              "    .dataframe thead th {\n",
              "        text-align: right;\n",
              "    }\n",
              "</style>\n",
              "<table border=\"1\" class=\"dataframe\">\n",
              "  <thead>\n",
              "    <tr style=\"text-align: right;\">\n",
              "      <th></th>\n",
              "      <th>train-auc-mean</th>\n",
              "      <th>train-auc-std</th>\n",
              "      <th>test-auc-mean</th>\n",
              "      <th>test-auc-std</th>\n",
              "    </tr>\n",
              "  </thead>\n",
              "  <tbody>\n",
              "    <tr>\n",
              "      <th>0</th>\n",
              "      <td>0.773593</td>\n",
              "      <td>0.019033</td>\n",
              "      <td>0.745290</td>\n",
              "      <td>0.051050</td>\n",
              "    </tr>\n",
              "    <tr>\n",
              "      <th>1</th>\n",
              "      <td>0.812779</td>\n",
              "      <td>0.008118</td>\n",
              "      <td>0.775513</td>\n",
              "      <td>0.055766</td>\n",
              "    </tr>\n",
              "    <tr>\n",
              "      <th>2</th>\n",
              "      <td>0.828908</td>\n",
              "      <td>0.006541</td>\n",
              "      <td>0.791687</td>\n",
              "      <td>0.036791</td>\n",
              "    </tr>\n",
              "    <tr>\n",
              "      <th>3</th>\n",
              "      <td>0.839598</td>\n",
              "      <td>0.007416</td>\n",
              "      <td>0.803418</td>\n",
              "      <td>0.038076</td>\n",
              "    </tr>\n",
              "    <tr>\n",
              "      <th>4</th>\n",
              "      <td>0.845170</td>\n",
              "      <td>0.008203</td>\n",
              "      <td>0.810933</td>\n",
              "      <td>0.030428</td>\n",
              "    </tr>\n",
              "  </tbody>\n",
              "</table>\n",
              "</div>"
            ],
            "text/plain": [
              "   train-auc-mean  train-auc-std  test-auc-mean  test-auc-std\n",
              "0        0.773593       0.019033       0.745290      0.051050\n",
              "1        0.812779       0.008118       0.775513      0.055766\n",
              "2        0.828908       0.006541       0.791687      0.036791\n",
              "3        0.839598       0.007416       0.803418      0.038076\n",
              "4        0.845170       0.008203       0.810933      0.030428"
            ]
          },
          "metadata": {
            "tags": []
          },
          "execution_count": 55
        }
      ]
    },
    {
      "cell_type": "markdown",
      "metadata": {
        "id": "IYTxFd3mGC79"
      },
      "source": [
        "The accuracy for RandomForestClassifier is 78% and The accuracy for XGBoost is 84%"
      ]
    }
  ]
}