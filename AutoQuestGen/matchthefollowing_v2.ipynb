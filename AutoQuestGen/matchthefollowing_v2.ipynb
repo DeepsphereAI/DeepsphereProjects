{
  "nbformat": 4,
  "nbformat_minor": 0,
  "metadata": {
    "colab": {
      "name": "matchthefollowing_v2.ipynb",
      "provenance": [],
      "authorship_tag": "ABX9TyNLDMXeAfMuDLDxaIYZnN/J",
      "include_colab_link": true
    },
    "kernelspec": {
      "name": "python3",
      "display_name": "Python 3"
    },
    "language_info": {
      "name": "python"
    }
  },
  "cells": [
    {
      "cell_type": "markdown",
      "metadata": {
        "id": "view-in-github",
        "colab_type": "text"
      },
      "source": [
        "<a href=\"https://colab.research.google.com/github/DeepsphereAI/DeepsphereProjects/blob/main/AutoQuestGen/matchthefollowing_v2.ipynb\" target=\"_parent\"><img src=\"https://colab.research.google.com/assets/colab-badge.svg\" alt=\"Open In Colab\"/></a>"
      ]
    },
    {
      "cell_type": "code",
      "metadata": {
        "colab": {
          "base_uri": "https://localhost:8080/"
        },
        "id": "YPTrISaCcbmU",
        "outputId": "a338594b-f3f3-4ff2-d7c1-53b4141fb4d1"
      },
      "source": [
        "# Installing from https://github.com/boudinfl/pke library for Python Keyword extraction\n",
        "# We use a fixed commit as the later changes might break the code. If it was on pip we would have used exact version number.\n",
        "\n",
        "!pip install --quiet git+https://github.com/boudinfl/pke.git@dc4d5f21e0ffe64c4df93c46146d29d1c522476b #python keyword extraction library\n",
        "!pip install --quiet flashtext==2.7 #This module can be used to replace keywords in sentences or extract keywords from sentences. It is based on the \n",
        "# FlashText algorithm.\n",
        "!pip install --quiet transformers==2.9.0\n",
        "!pip install --quiet nltk==3.4.5"
      ],
      "execution_count": 1,
      "outputs": [
        {
          "output_type": "stream",
          "text": [
            "\u001b[?25l\r\u001b[K     |█▍                              | 10kB 17.4MB/s eta 0:00:01\r\u001b[K     |██▊                             | 20kB 23.1MB/s eta 0:00:01\r\u001b[K     |████                            | 30kB 27.1MB/s eta 0:00:01\r\u001b[K     |█████▍                          | 40kB 20.1MB/s eta 0:00:01\r\u001b[K     |██████▉                         | 51kB 9.3MB/s eta 0:00:01\r\u001b[K     |████████▏                       | 61kB 8.8MB/s eta 0:00:01\r\u001b[K     |█████████▌                      | 71kB 9.7MB/s eta 0:00:01\r\u001b[K     |██████████▉                     | 81kB 9.9MB/s eta 0:00:01\r\u001b[K     |████████████▏                   | 92kB 10.6MB/s eta 0:00:01\r\u001b[K     |█████████████▋                  | 102kB 8.7MB/s eta 0:00:01\r\u001b[K     |███████████████                 | 112kB 8.7MB/s eta 0:00:01\r\u001b[K     |████████████████▎               | 122kB 8.7MB/s eta 0:00:01\r\u001b[K     |█████████████████▋              | 133kB 8.7MB/s eta 0:00:01\r\u001b[K     |███████████████████             | 143kB 8.7MB/s eta 0:00:01\r\u001b[K     |████████████████████▍           | 153kB 8.7MB/s eta 0:00:01\r\u001b[K     |█████████████████████▊          | 163kB 8.7MB/s eta 0:00:01\r\u001b[K     |███████████████████████         | 174kB 8.7MB/s eta 0:00:01\r\u001b[K     |████████████████████████▍       | 184kB 8.7MB/s eta 0:00:01\r\u001b[K     |█████████████████████████▊      | 194kB 8.7MB/s eta 0:00:01\r\u001b[K     |███████████████████████████▏    | 204kB 8.7MB/s eta 0:00:01\r\u001b[K     |████████████████████████████▌   | 215kB 8.7MB/s eta 0:00:01\r\u001b[K     |█████████████████████████████▉  | 225kB 8.7MB/s eta 0:00:01\r\u001b[K     |███████████████████████████████▏| 235kB 8.7MB/s eta 0:00:01\r\u001b[K     |████████████████████████████████| 245kB 8.7MB/s \n",
            "\u001b[?25h  Building wheel for pke (setup.py) ... \u001b[?25l\u001b[?25hdone\n",
            "  Building wheel for flashtext (setup.py) ... \u001b[?25l\u001b[?25hdone\n",
            "\u001b[K     |████████████████████████████████| 645kB 7.5MB/s \n",
            "\u001b[K     |████████████████████████████████| 1.2MB 15.5MB/s \n",
            "\u001b[K     |████████████████████████████████| 870kB 43.9MB/s \n",
            "\u001b[K     |████████████████████████████████| 5.6MB 17.2MB/s \n",
            "\u001b[?25h  Building wheel for sacremoses (setup.py) ... \u001b[?25l\u001b[?25hdone\n",
            "\u001b[K     |████████████████████████████████| 1.5MB 9.0MB/s \n",
            "\u001b[?25h  Building wheel for nltk (setup.py) ... \u001b[?25l\u001b[?25hdone\n"
          ],
          "name": "stdout"
        }
      ]
    },
    {
      "cell_type": "code",
      "metadata": {
        "colab": {
          "base_uri": "https://localhost:8080/"
        },
        "id": "iaOOvhB3kPRx",
        "outputId": "b8147337-412f-4467-b8e5-04382ac894cb"
      },
      "source": [
        "from google.colab import drive\n",
        "drive.mount('/content/gdrive')"
      ],
      "execution_count": 5,
      "outputs": [
        {
          "output_type": "stream",
          "text": [
            "Mounted at /content/gdrive\n"
          ],
          "name": "stdout"
        }
      ]
    },
    {
      "cell_type": "code",
      "metadata": {
        "colab": {
          "base_uri": "https://localhost:8080/"
        },
        "id": "VMGukeYbkRSZ",
        "outputId": "dd45a23c-0891-4de3-c30d-1efa59baf1f8"
      },
      "source": [
        "import json\n",
        "import requests\n",
        "import string\n",
        "import re\n",
        "import nltk\n",
        "import string\n",
        "import itertools\n",
        "nltk.download('stopwords')\n",
        "nltk.download('wordnet')\n",
        "nltk.download('punkt') #Punkt Sentence Tokenizer. This tokenizer divides a text into a list of sentences, by using an unsupervised algorithm \n",
        "# to build a model for abbreviation words, collocations, and words that start sentences\n",
        "import pke\n",
        "from nltk.corpus import stopwords\n",
        "from nltk.corpus import wordnet\n",
        "import traceback\n",
        "#Traceback is a python module that provides a standard interface to extract, format and print stack traces of a python program. When it prints \n",
        "# the stack trace it exactly mimics the behaviour of a python interpreter.\n",
        "from nltk.tokenize import sent_tokenize\n",
        "from flashtext import KeywordProcessor\n",
        "\n",
        "def tokenize_sentences(text):\n",
        "    sentences = sent_tokenize(text)\n",
        "    sentences = [sentence.strip() for sentence in sentences if len(sentence) > 20]\n",
        "    return sentences"
      ],
      "execution_count": 7,
      "outputs": [
        {
          "output_type": "stream",
          "text": [
            "[nltk_data] Downloading package stopwords to /root/nltk_data...\n",
            "[nltk_data]   Unzipping corpora/stopwords.zip.\n",
            "[nltk_data] Downloading package wordnet to /root/nltk_data...\n",
            "[nltk_data]   Unzipping corpora/wordnet.zip.\n",
            "[nltk_data] Downloading package punkt to /root/nltk_data...\n",
            "[nltk_data]   Unzipping tokenizers/punkt.zip.\n"
          ],
          "name": "stderr"
        }
      ]
    },
    {
      "cell_type": "code",
      "metadata": {
        "colab": {
          "base_uri": "https://localhost:8080/"
        },
        "id": "nhFT-meAkhpN",
        "outputId": "2900de33-08ed-443b-deba-6eee8c101af5"
      },
      "source": [
        "import textwrap\n",
        "# The textwrap module can be used for wrapping and formatting of plain text. This module \n",
        "# provides formatting of text by adjusting the line breaks in the input paragraph.\n",
        "\n",
        "text = \"\"\"\n",
        "“The science and engineering of making intelligent machines, especially intelligent computer programs”. -John McCarthy-\n",
        "\n",
        "John McCarthy\n",
        "Artificial Intelligence is an approach to make a computer, a robot, or a product to think how smart human think. AI is a study of how human brain think, learn, decide and work, when it tries to solve problems. And finally this study outputs intelligent software systems.The aim of AI is to improve computer functions which are related to human knowledge, for example, reasoning, learning, and problem-solving.\n",
        "The intelligence is intangible. It is composed of\n",
        "Reasoning\n",
        "Learning\n",
        "Problem Solving\n",
        "Perception\n",
        "Linguistic Intelligence\n",
        "The objectives of AI research are reasoning, knowledge representation, planning, learning, natural language processing, realization, and ability to move and manipulate objects. There are long-term goals in the general intelligence sector.\n",
        "\n",
        "Approaches include statistical methods, computational intelligence, and traditional coding AI. During the AI research related to search and mathematical optimization, artificial neural networks and methods based on statistics, probability, and economics, we use many tools. Computer science attracts AI in the field of science, mathematics, psychology, linguistics, philosophy and so on.\n",
        "Trending AI Articles:\n",
        "1. Cheat Sheets for AI, Neural Networks, Machine Learning, Deep Learning & Big Data\n",
        "2. Data Science Simplified Part 1: Principles and Process\n",
        "3. Getting Started with Building Realtime API Infrastructure\n",
        "4. AI & NLP Workshop\n",
        "Applications of AI\n",
        "· Gaming − AI plays important role for machine to think of large number of possible positions based on deep knowledge in strategic games. for example, chess,river crossing, N-queens problems and etc.\n",
        "· Natural Language Processing − Interact with the computer that understands natural language spoken by humans.\n",
        "· Expert Systems − Machine or software provide explanation and advice to the users.\n",
        "· Vision Systems − Systems understand, explain, and describe visual input on the computer.\n",
        "· Speech Recognition − There are some AI based speech recognition systems have ability to hear and express as sentences and understand their meanings while a person talks to it. For example Siri and Google assistant.\n",
        "· Handwriting Recognition − The handwriting recognition software reads the text written on paper and recognize the shapes of the letters and convert it into editable text.\n",
        "· Intelligent Robots − Robots are able to perform the instructions given by a human.\n",
        "Major Goals\n",
        "Knowledge reasoning\n",
        "Planning\n",
        "Machine Learning\n",
        "Natural Language Processing\n",
        "Computer Vision\n",
        "Robotics\n",
        "IBM Watson\n",
        "\n",
        "“Watson” is an IBM supercomputer that combines Artificial Intelligence (AI) and complex inquisitive programming for ideal execution as a “question answering” machine. The supercomputer is named for IBM’s founder, Thomas J. Watson.\n",
        "IBM Watson is at the forefront of the new era of computing. At the point when IBM Watson made, IBM communicated that “more than 100 particular techniques are used to inspect perceive sources, find and make theories, find and score affirm, and combination and rank speculations.” recently, the Watson limits have been expanded and the way by which Watson works has been changed to abuse new sending models (Watson on IBM Cloud) and propelled machine learning capacities and upgraded hardware open to architects and authorities. It isn’t any longer completely a request answering figuring system arranged from Q&A joins yet can now ‘see’, ‘hear’, ‘read’, ‘talk’, ‘taste’, ‘translate’, ‘learn’ and ‘endorse’.\n",
        "\"\"\"\n",
        "wrapper = textwrap.TextWrapper(width=150)\n",
        "word_list = wrapper.wrap(text=text)\n",
        "for element in word_list: \n",
        "  print(element) "
      ],
      "execution_count": 8,
      "outputs": [
        {
          "output_type": "stream",
          "text": [
            " “The science and engineering of making intelligent machines, especially intelligent computer programs”. -John McCarthy-  John McCarthy Artificial\n",
            "Intelligence is an approach to make a computer, a robot, or a product to think how smart human think. AI is a study of how human brain think, learn,\n",
            "decide and work, when it tries to solve problems. And finally this study outputs intelligent software systems.The aim of AI is to improve computer\n",
            "functions which are related to human knowledge, for example, reasoning, learning, and problem-solving. The intelligence is intangible. It is composed\n",
            "of Reasoning Learning Problem Solving Perception Linguistic Intelligence The objectives of AI research are reasoning, knowledge representation,\n",
            "planning, learning, natural language processing, realization, and ability to move and manipulate objects. There are long-term goals in the general\n",
            "intelligence sector.  Approaches include statistical methods, computational intelligence, and traditional coding AI. During the AI research related to\n",
            "search and mathematical optimization, artificial neural networks and methods based on statistics, probability, and economics, we use many tools.\n",
            "Computer science attracts AI in the field of science, mathematics, psychology, linguistics, philosophy and so on. Trending AI Articles: 1. Cheat\n",
            "Sheets for AI, Neural Networks, Machine Learning, Deep Learning & Big Data 2. Data Science Simplified Part 1: Principles and Process 3. Getting\n",
            "Started with Building Realtime API Infrastructure 4. AI & NLP Workshop Applications of AI · Gaming − AI plays important role for machine to think of\n",
            "large number of possible positions based on deep knowledge in strategic games. for example, chess,river crossing, N-queens problems and etc. · Natural\n",
            "Language Processing − Interact with the computer that understands natural language spoken by humans. · Expert Systems − Machine or software provide\n",
            "explanation and advice to the users. · Vision Systems − Systems understand, explain, and describe visual input on the computer. · Speech Recognition −\n",
            "There are some AI based speech recognition systems have ability to hear and express as sentences and understand their meanings while a person talks to\n",
            "it. For example Siri and Google assistant. · Handwriting Recognition − The handwriting recognition software reads the text written on paper and\n",
            "recognize the shapes of the letters and convert it into editable text. · Intelligent Robots − Robots are able to perform the instructions given by a\n",
            "human. Major Goals Knowledge reasoning Planning Machine Learning Natural Language Processing Computer Vision Robotics IBM Watson  “Watson” is an IBM\n",
            "supercomputer that combines Artificial Intelligence (AI) and complex inquisitive programming for ideal execution as a “question answering” machine.\n",
            "The supercomputer is named for IBM’s founder, Thomas J. Watson. IBM Watson is at the forefront of the new era of computing. At the point when IBM\n",
            "Watson made, IBM communicated that “more than 100 particular techniques are used to inspect perceive sources, find and make theories, find and score\n",
            "affirm, and combination and rank speculations.” recently, the Watson limits have been expanded and the way by which Watson works has been changed to\n",
            "abuse new sending models (Watson on IBM Cloud) and propelled machine learning capacities and upgraded hardware open to architects and authorities. It\n",
            "isn’t any longer completely a request answering figuring system arranged from Q&A joins yet can now ‘see’, ‘hear’, ‘read’, ‘talk’, ‘taste’,\n",
            "‘translate’, ‘learn’ and ‘endorse’.\n"
          ],
          "name": "stdout"
        }
      ]
    },
    {
      "cell_type": "code",
      "metadata": {
        "colab": {
          "base_uri": "https://localhost:8080/"
        },
        "id": "BGX-lcVVkp51",
        "outputId": "f6857877-bb83-493c-d13e-e8e43ef3eedf"
      },
      "source": [
        "def get_keywords(text):\n",
        "    out=[]\n",
        "    try:\n",
        "        extractor = pke.unsupervised.YAKE()\n",
        "        extractor.load_document(input=text)\n",
        "        # pos = {'VERB', 'ADJ', 'NOUN'}\n",
        "        pos ={'NOUN'}\n",
        "        stoplist = list(string.punctuation)\n",
        "        stoplist += ['-lrb-', '-rrb-', '-lcb-', '-rcb-', '-lsb-', '-rsb-']\n",
        "        stoplist += stopwords.words('english')\n",
        "        extractor.candidate_selection(n=2,pos=pos, stoplist=stoplist)\n",
        "\n",
        "        extractor.candidate_weighting(window=3,\n",
        "                                      stoplist=stoplist,\n",
        "                                      use_stems=False)\n",
        "\n",
        "        keyphrases = extractor.get_n_best(n=30)\n",
        "        \n",
        "\n",
        "        for val in keyphrases:\n",
        "            out.append(val[0])\n",
        "    except:\n",
        "        out = []\n",
        "        traceback.print_exc()\n",
        "\n",
        "    return out\n",
        "\n",
        "keywords = get_keywords(text)[:6]\n",
        "print (\"keywords: \",keywords)"
      ],
      "execution_count": 9,
      "outputs": [
        {
          "output_type": "stream",
          "text": [
            "keywords:  ['ibm watson', 'watson', 'machine learning', 'ibm', 'john mccarthy', 'natural language']\n"
          ],
          "name": "stdout"
        }
      ]
    },
    {
      "cell_type": "code",
      "metadata": {
        "colab": {
          "base_uri": "https://localhost:8080/"
        },
        "id": "nJ6ncPYQkxCt",
        "outputId": "5874d58c-f35f-40ee-e429-69282f451c7d"
      },
      "source": [
        "#TOkenize the text into sentences\n",
        "\n",
        "sentences = tokenize_sentences(text)\n",
        "print (sentences)"
      ],
      "execution_count": 10,
      "outputs": [
        {
          "output_type": "stream",
          "text": [
            "['“The science and engineering of making intelligent machines, especially intelligent computer programs”.', '-John McCarthy-\\n\\nJohn McCarthy\\nArtificial Intelligence is an approach to make a computer, a robot, or a product to think how smart human think.', 'AI is a study of how human brain think, learn, decide and work, when it tries to solve problems.', 'And finally this study outputs intelligent software systems.The aim of AI is to improve computer functions which are related to human knowledge, for example, reasoning, learning, and problem-solving.', 'The intelligence is intangible.', 'It is composed of\\nReasoning\\nLearning\\nProblem Solving\\nPerception\\nLinguistic Intelligence\\nThe objectives of AI research are reasoning, knowledge representation, planning, learning, natural language processing, realization, and ability to move and manipulate objects.', 'There are long-term goals in the general intelligence sector.', 'Approaches include statistical methods, computational intelligence, and traditional coding AI.', 'During the AI research related to search and mathematical optimization, artificial neural networks and methods based on statistics, probability, and economics, we use many tools.', 'Computer science attracts AI in the field of science, mathematics, psychology, linguistics, philosophy and so on.', 'Trending AI Articles:\\n1.', 'Cheat Sheets for AI, Neural Networks, Machine Learning, Deep Learning & Big Data\\n2.', 'Data Science Simplified Part 1: Principles and Process\\n3.', 'Getting Started with Building Realtime API Infrastructure\\n4.', 'AI & NLP Workshop\\nApplications of AI\\n· Gaming − AI plays important role for machine to think of large number of possible positions based on deep knowledge in strategic games.', 'for example, chess,river crossing, N-queens problems and etc.', '· Natural Language Processing − Interact with the computer that understands natural language spoken by humans.', '· Expert Systems − Machine or software provide explanation and advice to the users.', '· Vision Systems − Systems understand, explain, and describe visual input on the computer.', '· Speech Recognition − There are some AI based speech recognition systems have ability to hear and express as sentences and understand their meanings while a person talks to it.', 'For example Siri and Google assistant.', '· Handwriting Recognition − The handwriting recognition software reads the text written on paper and recognize the shapes of the letters and convert it into editable text.', '· Intelligent Robots − Robots are able to perform the instructions given by a human.', 'Major Goals\\nKnowledge reasoning\\nPlanning\\nMachine Learning\\nNatural Language Processing\\nComputer Vision\\nRobotics\\nIBM Watson\\n\\n“Watson” is an IBM supercomputer that combines Artificial Intelligence (AI) and complex inquisitive programming for ideal execution as a “question answering” machine.', 'The supercomputer is named for IBM’s founder, Thomas J. Watson.', 'IBM Watson is at the forefront of the new era of computing.', 'At the point when IBM Watson made, IBM communicated that “more than 100 particular techniques are used to inspect perceive sources, find and make theories, find and score affirm, and combination and rank speculations.” recently, the Watson limits have been expanded and the way by which Watson works has been changed to abuse new sending models (Watson on IBM Cloud) and propelled machine learning capacities and upgraded hardware open to architects and authorities.', 'It isn’t any longer completely a request answering figuring system arranged from Q&A joins yet can now ‘see’, ‘hear’, ‘read’, ‘talk’, ‘taste’, ‘translate’, ‘learn’ and ‘endorse’.']\n"
          ],
          "name": "stdout"
        }
      ]
    },
    {
      "cell_type": "code",
      "metadata": {
        "colab": {
          "base_uri": "https://localhost:8080/"
        },
        "id": "Dl8aLTD7k0jD",
        "outputId": "9d13e3a4-903a-4098-87ec-b52c9675bd89"
      },
      "source": [
        "#Extract sentences having the keywords that is extracted before.\n",
        "\n",
        "from pprint import pprint\n",
        "def get_sentences_for_keyword(keywords, sentences):\n",
        "    keyword_processor = KeywordProcessor()\n",
        "    keyword_sentences = {}\n",
        "    for word in keywords:\n",
        "        keyword_sentences[word] = []\n",
        "        keyword_processor.add_keyword(word)\n",
        "    for sentence in sentences:\n",
        "        keywords_found = keyword_processor.extract_keywords(sentence)\n",
        "        for key in keywords_found:\n",
        "            keyword_sentences[key].append(sentence)\n",
        "\n",
        "    for key in keyword_sentences.keys():\n",
        "        values = keyword_sentences[key]\n",
        "        values = sorted(values, key=len, reverse=False)\n",
        "        keyword_sentences[key] = values\n",
        "    return keyword_sentences\n",
        "\n",
        "keyword_sentence_mapping = get_sentences_for_keyword(keywords, sentences)\n",
        "pprint (keyword_sentence_mapping)"
      ],
      "execution_count": 11,
      "outputs": [
        {
          "output_type": "stream",
          "text": [
            "{'ibm': ['The supercomputer is named for IBM’s founder, Thomas J. Watson.',\n",
            "         'Major Goals\\n'\n",
            "         'Knowledge reasoning\\n'\n",
            "         'Planning\\n'\n",
            "         'Machine Learning\\n'\n",
            "         'Natural Language Processing\\n'\n",
            "         'Computer Vision\\n'\n",
            "         'Robotics\\n'\n",
            "         'IBM Watson\\n'\n",
            "         '\\n'\n",
            "         '“Watson” is an IBM supercomputer that combines Artificial '\n",
            "         'Intelligence (AI) and complex inquisitive programming for ideal '\n",
            "         'execution as a “question answering” machine.',\n",
            "         'At the point when IBM Watson made, IBM communicated that “more than '\n",
            "         '100 particular techniques are used to inspect perceive sources, find '\n",
            "         'and make theories, find and score affirm, and combination and rank '\n",
            "         'speculations.” recently, the Watson limits have been expanded and '\n",
            "         'the way by which Watson works has been changed to abuse new sending '\n",
            "         'models (Watson on IBM Cloud) and propelled machine learning '\n",
            "         'capacities and upgraded hardware open to architects and authorities.',\n",
            "         'At the point when IBM Watson made, IBM communicated that “more than '\n",
            "         '100 particular techniques are used to inspect perceive sources, find '\n",
            "         'and make theories, find and score affirm, and combination and rank '\n",
            "         'speculations.” recently, the Watson limits have been expanded and '\n",
            "         'the way by which Watson works has been changed to abuse new sending '\n",
            "         'models (Watson on IBM Cloud) and propelled machine learning '\n",
            "         'capacities and upgraded hardware open to architects and '\n",
            "         'authorities.'],\n",
            " 'ibm watson': ['IBM Watson is at the forefront of the new era of computing.',\n",
            "                'Major Goals\\n'\n",
            "                'Knowledge reasoning\\n'\n",
            "                'Planning\\n'\n",
            "                'Machine Learning\\n'\n",
            "                'Natural Language Processing\\n'\n",
            "                'Computer Vision\\n'\n",
            "                'Robotics\\n'\n",
            "                'IBM Watson\\n'\n",
            "                '\\n'\n",
            "                '“Watson” is an IBM supercomputer that combines Artificial '\n",
            "                'Intelligence (AI) and complex inquisitive programming for '\n",
            "                'ideal execution as a “question answering” machine.',\n",
            "                'At the point when IBM Watson made, IBM communicated that '\n",
            "                '“more than 100 particular techniques are used to inspect '\n",
            "                'perceive sources, find and make theories, find and score '\n",
            "                'affirm, and combination and rank speculations.” recently, the '\n",
            "                'Watson limits have been expanded and the way by which Watson '\n",
            "                'works has been changed to abuse new sending models (Watson on '\n",
            "                'IBM Cloud) and propelled machine learning capacities and '\n",
            "                'upgraded hardware open to architects and authorities.'],\n",
            " 'john mccarthy': ['-John McCarthy-\\n'\n",
            "                   '\\n'\n",
            "                   'John McCarthy\\n'\n",
            "                   'Artificial Intelligence is an approach to make a computer, '\n",
            "                   'a robot, or a product to think how smart human think.',\n",
            "                   '-John McCarthy-\\n'\n",
            "                   '\\n'\n",
            "                   'John McCarthy\\n'\n",
            "                   'Artificial Intelligence is an approach to make a computer, '\n",
            "                   'a robot, or a product to think how smart human think.'],\n",
            " 'machine learning': ['Cheat Sheets for AI, Neural Networks, Machine Learning, '\n",
            "                      'Deep Learning & Big Data\\n'\n",
            "                      '2.',\n",
            "                      'Major Goals\\n'\n",
            "                      'Knowledge reasoning\\n'\n",
            "                      'Planning\\n'\n",
            "                      'Machine Learning\\n'\n",
            "                      'Natural Language Processing\\n'\n",
            "                      'Computer Vision\\n'\n",
            "                      'Robotics\\n'\n",
            "                      'IBM Watson\\n'\n",
            "                      '\\n'\n",
            "                      '“Watson” is an IBM supercomputer that combines '\n",
            "                      'Artificial Intelligence (AI) and complex inquisitive '\n",
            "                      'programming for ideal execution as a “question '\n",
            "                      'answering” machine.',\n",
            "                      'At the point when IBM Watson made, IBM communicated '\n",
            "                      'that “more than 100 particular techniques are used to '\n",
            "                      'inspect perceive sources, find and make theories, find '\n",
            "                      'and score affirm, and combination and rank '\n",
            "                      'speculations.” recently, the Watson limits have been '\n",
            "                      'expanded and the way by which Watson works has been '\n",
            "                      'changed to abuse new sending models (Watson on IBM '\n",
            "                      'Cloud) and propelled machine learning capacities and '\n",
            "                      'upgraded hardware open to architects and authorities.'],\n",
            " 'natural language': ['· Natural Language Processing − Interact with the '\n",
            "                      'computer that understands natural language spoken by '\n",
            "                      'humans.',\n",
            "                      '· Natural Language Processing − Interact with the '\n",
            "                      'computer that understands natural language spoken by '\n",
            "                      'humans.',\n",
            "                      'It is composed of\\n'\n",
            "                      'Reasoning\\n'\n",
            "                      'Learning\\n'\n",
            "                      'Problem Solving\\n'\n",
            "                      'Perception\\n'\n",
            "                      'Linguistic Intelligence\\n'\n",
            "                      'The objectives of AI research are reasoning, knowledge '\n",
            "                      'representation, planning, learning, natural language '\n",
            "                      'processing, realization, and ability to move and '\n",
            "                      'manipulate objects.',\n",
            "                      'Major Goals\\n'\n",
            "                      'Knowledge reasoning\\n'\n",
            "                      'Planning\\n'\n",
            "                      'Machine Learning\\n'\n",
            "                      'Natural Language Processing\\n'\n",
            "                      'Computer Vision\\n'\n",
            "                      'Robotics\\n'\n",
            "                      'IBM Watson\\n'\n",
            "                      '\\n'\n",
            "                      '“Watson” is an IBM supercomputer that combines '\n",
            "                      'Artificial Intelligence (AI) and complex inquisitive '\n",
            "                      'programming for ideal execution as a “question '\n",
            "                      'answering” machine.'],\n",
            " 'watson': ['The supercomputer is named for IBM’s founder, Thomas J. Watson.',\n",
            "            'Major Goals\\n'\n",
            "            'Knowledge reasoning\\n'\n",
            "            'Planning\\n'\n",
            "            'Machine Learning\\n'\n",
            "            'Natural Language Processing\\n'\n",
            "            'Computer Vision\\n'\n",
            "            'Robotics\\n'\n",
            "            'IBM Watson\\n'\n",
            "            '\\n'\n",
            "            '“Watson” is an IBM supercomputer that combines Artificial '\n",
            "            'Intelligence (AI) and complex inquisitive programming for ideal '\n",
            "            'execution as a “question answering” machine.',\n",
            "            'At the point when IBM Watson made, IBM communicated that “more '\n",
            "            'than 100 particular techniques are used to inspect perceive '\n",
            "            'sources, find and make theories, find and score affirm, and '\n",
            "            'combination and rank speculations.” recently, the Watson limits '\n",
            "            'have been expanded and the way by which Watson works has been '\n",
            "            'changed to abuse new sending models (Watson on IBM Cloud) and '\n",
            "            'propelled machine learning capacities and upgraded hardware open '\n",
            "            'to architects and authorities.',\n",
            "            'At the point when IBM Watson made, IBM communicated that “more '\n",
            "            'than 100 particular techniques are used to inspect perceive '\n",
            "            'sources, find and make theories, find and score affirm, and '\n",
            "            'combination and rank speculations.” recently, the Watson limits '\n",
            "            'have been expanded and the way by which Watson works has been '\n",
            "            'changed to abuse new sending models (Watson on IBM Cloud) and '\n",
            "            'propelled machine learning capacities and upgraded hardware open '\n",
            "            'to architects and authorities.',\n",
            "            'At the point when IBM Watson made, IBM communicated that “more '\n",
            "            'than 100 particular techniques are used to inspect perceive '\n",
            "            'sources, find and make theories, find and score affirm, and '\n",
            "            'combination and rank speculations.” recently, the Watson limits '\n",
            "            'have been expanded and the way by which Watson works has been '\n",
            "            'changed to abuse new sending models (Watson on IBM Cloud) and '\n",
            "            'propelled machine learning capacities and upgraded hardware open '\n",
            "            'to architects and authorities.']}\n"
          ],
          "name": "stdout"
        }
      ]
    },
    {
      "cell_type": "code",
      "metadata": {
        "colab": {
          "base_uri": "https://localhost:8080/"
        },
        "id": "blW3xxbS5qzX",
        "outputId": "1f8c4fce-7fa8-4961-d676-6e99a727736e"
      },
      "source": [
        "# len(keyword_sentence_mapping)\n",
        "import re\n",
        "answers = []\n",
        "final_sentences = []\n",
        "for k,v in keyword_sentence_mapping.items():\n",
        "  if len(v)>0:\n",
        "    match = v[0].lower()\n",
        "    answers.append(k)\n",
        "    if k in match:\n",
        "      temp = re.compile(re.escape(k), re.IGNORECASE)\n",
        "      final_sentences.append(temp.sub('______',match))\n",
        "    else:\n",
        "      final_sentences.append(match)\n",
        "pprint(final_sentences)\n",
        "pprint(answers)"
      ],
      "execution_count": 40,
      "outputs": [
        {
          "output_type": "stream",
          "text": [
            "['______ is at the forefront of the new era of computing.',\n",
            " 'the supercomputer is named for ibm’s founder, thomas j. ______.',\n",
            " 'cheat sheets for ai, neural networks, ______, deep learning & big data\\n2.',\n",
            " 'the supercomputer is named for ______’s founder, thomas j. watson.',\n",
            " '-______-\\n'\n",
            " '\\n'\n",
            " '______\\n'\n",
            " 'artificial intelligence is an approach to make a computer, a robot, or a '\n",
            " 'product to think how smart human think.',\n",
            " '· ______ processing − interact with the computer that understands ______ '\n",
            " 'spoken by humans.']\n",
            "['ibm watson',\n",
            " 'watson',\n",
            " 'machine learning',\n",
            " 'ibm',\n",
            " 'john mccarthy',\n",
            " 'natural language']\n"
          ],
          "name": "stdout"
        }
      ]
    },
    {
      "cell_type": "code",
      "metadata": {
        "colab": {
          "base_uri": "https://localhost:8080/",
          "height": 284
        },
        "id": "3ZOkfLyL5rIJ",
        "outputId": "21cab43c-3903-4a52-d1a1-c90cab2ecc26"
      },
      "source": [
        "import random\n",
        "from prettytable import PrettyTable\n",
        "from IPython.display import Markdown, display\n",
        "\n",
        "tab = PrettyTable()\n",
        "random.shuffle(answers)\n",
        "random.shuffle(final_sentences)\n",
        "tab.field_names=['A', 'B']\n",
        "\n",
        "def printmd(string):\n",
        "    display(Markdown(string))\n",
        "printmd('**Match column A with column B**')\n",
        "\n",
        "for word,context in zip(answers,sent):\n",
        "  tab.add_row([word,context])\n",
        "\n",
        "print(tab)"
      ],
      "execution_count": 38,
      "outputs": [
        {
          "output_type": "display_data",
          "data": {
            "text/markdown": "**Match column A with column B**",
            "text/plain": [
              "<IPython.core.display.Markdown object>"
            ]
          },
          "metadata": {
            "tags": []
          }
        },
        {
          "output_type": "stream",
          "text": [
            "+------------------+------------------------------------------------------------------------------------------------------------------+\n",
            "|        A         |                                                        B                                                         |\n",
            "+------------------+------------------------------------------------------------------------------------------------------------------+\n",
            "|  john mccarthy   |                                                     -______-                                                     |\n",
            "|                  |                                                                                                                  |\n",
            "|                  |                                                      ______                                                      |\n",
            "|                  | artificial intelligence is an approach to make a computer, a robot, or a product to think how smart human think. |\n",
            "|       ibm        |                         the supercomputer is named for ibm’s founder, thomas j. ______.                          |\n",
            "| natural language |            · ______ processing − interact with the computer that understands ______ spoken by humans.            |\n",
            "| machine learning |                      cheat sheets for ai, neural networks, ______, deep learning & big data                      |\n",
            "|                  |                                                        2.                                                        |\n",
            "|      watson      |                             ______ is at the forefront of the new era of computing.                              |\n",
            "|    ibm watson    |                        the supercomputer is named for ______’s founder, thomas j. watson.                        |\n",
            "+------------------+------------------------------------------------------------------------------------------------------------------+\n"
          ],
          "name": "stdout"
        }
      ]
    },
    {
      "cell_type": "code",
      "metadata": {
        "id": "7wDC2sa8FRRw"
      },
      "source": [
        ""
      ],
      "execution_count": 35,
      "outputs": []
    },
    {
      "cell_type": "code",
      "metadata": {
        "id": "dpnC3O8e5rNH"
      },
      "source": [
        ""
      ],
      "execution_count": null,
      "outputs": []
    },
    {
      "cell_type": "code",
      "metadata": {
        "id": "lyfOM3ueqwg9"
      },
      "source": [
        ""
      ],
      "execution_count": null,
      "outputs": []
    },
    {
      "cell_type": "code",
      "metadata": {
        "id": "vwULaO83qwmT"
      },
      "source": [
        ""
      ],
      "execution_count": null,
      "outputs": []
    },
    {
      "cell_type": "code",
      "metadata": {
        "id": "H0UPpcV4lXEi"
      },
      "source": [
        ""
      ],
      "execution_count": null,
      "outputs": []
    },
    {
      "cell_type": "code",
      "metadata": {
        "id": "gp0sW7sxotrd"
      },
      "source": [
        ""
      ],
      "execution_count": null,
      "outputs": []
    }
  ]
}