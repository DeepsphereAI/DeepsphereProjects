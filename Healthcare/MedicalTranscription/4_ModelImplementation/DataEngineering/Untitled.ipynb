{
 "cells": [
  {
   "cell_type": "code",
   "execution_count": null,
   "id": "anticipated-furniture",
   "metadata": {},
   "outputs": [],
   "source": [
    "import configparser\n",
    "# Importing the yaml library\n",
    "\n",
    "import yaml\n",
    "# Importing the OS library\n",
    "\n",
    "import os\n",
    "\n",
    "vAR_yaml_file_path = '/home/jupyter/MT/Healthcare/MedicalTranscription/4_ModelImplementation/config.yaml'\n",
    "    \n",
    "with open (vAR_yaml_file_path) as vAR_file:\n",
    "    \n",
    "           config = yaml.safe_load(vAR_file)"
   ]
  },
  {
   "cell_type": "code",
   "execution_count": null,
   "id": "informational-ontario",
   "metadata": {},
   "outputs": [],
   "source": [
    "vAR_Text_Path=config.get(\"text_file\")\n",
    "vAR_Model_Path=config.get(\"model_file_path\")\n",
    "vAR_LM_Path=config.get(\"lm_file_path\")\n",
    "vAR_Symptom_Path=config.get(\"symptoms_path\")"
   ]
  },
  {
   "cell_type": "code",
   "execution_count": null,
   "id": "photographic-treat",
   "metadata": {},
   "outputs": [],
   "source": [
    "import nltk\n",
    "import configparser\n",
    "import matplotlib.pyplot as plt\n",
    "from pandas import DataFrame\n",
    "from nltk.tokenize import sent_tokenize\n",
    "from nltk.tokenize import word_tokenize\n",
    "from nltk.probability import FreqDist\n",
    "from nltk.corpus import stopwords\n",
    "from nltk.stem import PorterStemmer\n",
    "from nltk.tokenize import sent_tokenize, word_tokenize\n",
    "import cufflinks as cf\n",
    "import plotly.offline\n",
    "import pandas as pd\n",
    "import numpy as np\n",
    "from deepspeech import Model \n",
    "import numpy as np\n",
    "import wave\n",
    "import git"
   ]
  },
  {
   "cell_type": "code",
   "execution_count": null,
   "id": "useful-wrestling",
   "metadata": {},
   "outputs": [],
   "source": [
    "def main():  \n",
    "    Voice_to_text()\n",
    "    Text_Classification_and_Visualization()\n",
    "    \n",
    "def Voice_to_text():\n",
    "    vAR_beam_width=1000\n",
    "    vAR_lm_alpha=0.93 \n",
    "    vAR_lm_beta=1.18\n",
    "\n",
    "    model=Model(vAR_Model_Path)\n",
    "    model.enableExternalScorer(vAR_LM_Path)\n",
    "\n",
    "    model.setScorerAlphaBeta(vAR_lm_alpha,vAR_lm_beta)\n",
    "    model.setBeamWidth(vAR_beam_width)\n",
    "    \n",
    "# Conversion of audio data to 16khz\n",
    "    !ffmpeg -i hospital.wav -vn -ar 16000 -ac 1 hospital1.wav\n",
    "\n",
    "    def read_wav_file(filename):\n",
    "        with wave.open(filename, 'rb') as vAR_temp:       # \"rb\" mode opens the file in binary format for reading\n",
    "            rate=vAR_temp.getframerate()\n",
    "            frames=vAR_temp.getnframes()\n",
    "            buffer=vAR_temp.readframes(frames)\n",
    "        return buffer, rate\n",
    "\n",
    "    def transcribe(file):\n",
    "        buffer,rate=read_wav_file(file)\n",
    "        data16=np.frombuffer(buffer,dtype=np.int16)\n",
    "        return model.stt(data16)\n",
    "    \n",
    "# Storing the output in a .txt file    \n",
    "    f= open(vAR_Text_Path,\"w+\")\n",
    "\n",
    "    f.write(transcribe('hospital1.wav'))\n",
    "    f.close()"
   ]
  },
  {
   "cell_type": "code",
   "execution_count": null,
   "id": "leading-camel",
   "metadata": {},
   "outputs": [],
   "source": [
    "def Clone_CliNER():\n",
    "    git.Git(\"DeepsphereProjects/Healthcare/MedicalTranscription/4_ModelImplementation\").clone(\"https://github.com/text-machine-lab/CliNER.git\")"
   ]
  },
  {
   "cell_type": "code",
   "execution_count": null,
   "id": "trained-dinner",
   "metadata": {},
   "outputs": [],
   "source": []
  },
  {
   "cell_type": "code",
   "execution_count": null,
   "id": "medical-sherman",
   "metadata": {},
   "outputs": [],
   "source": []
  }
 ],
 "metadata": {
  "environment": {
   "name": "common-cpu.mnightly-2021-02-02-debian-10-test",
   "type": "gcloud",
   "uri": "gcr.io/deeplearning-platform-release/base-cpu:mnightly-2021-02-02-debian-10-test"
  },
  "kernelspec": {
   "display_name": "Python 3",
   "language": "python",
   "name": "python3"
  },
  "language_info": {
   "codemirror_mode": {
    "name": "ipython",
    "version": 3
   },
   "file_extension": ".py",
   "mimetype": "text/x-python",
   "name": "python",
   "nbconvert_exporter": "python",
   "pygments_lexer": "ipython3",
   "version": "3.7.9"
  }
 },
 "nbformat": 4,
 "nbformat_minor": 5
}
