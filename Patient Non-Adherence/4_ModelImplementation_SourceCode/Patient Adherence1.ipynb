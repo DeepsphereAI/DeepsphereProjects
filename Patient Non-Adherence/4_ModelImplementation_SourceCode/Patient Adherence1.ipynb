{
 "cells": [
  {
   "cell_type": "code",
   "execution_count": 1,
   "metadata": {},
   "outputs": [],
   "source": [
    "import numpy as np\n",
    "import pandas as pd\n",
    "import sklearn\n",
    "from sklearn.preprocessing import LabelEncoder\n",
    "from sklearn.preprocessing import StandardScaler\n",
    "from sklearn.model_selection import train_test_split"
   ]
  },
  {
   "cell_type": "code",
   "execution_count": 2,
   "metadata": {},
   "outputs": [
    {
     "data": {
      "text/html": [
       "<div>\n",
       "<style scoped>\n",
       "    .dataframe tbody tr th:only-of-type {\n",
       "        vertical-align: middle;\n",
       "    }\n",
       "\n",
       "    .dataframe tbody tr th {\n",
       "        vertical-align: top;\n",
       "    }\n",
       "\n",
       "    .dataframe thead th {\n",
       "        text-align: right;\n",
       "    }\n",
       "</style>\n",
       "<table border=\"1\" class=\"dataframe\">\n",
       "  <thead>\n",
       "    <tr style=\"text-align: right;\">\n",
       "      <th></th>\n",
       "      <th>PATIENT ID</th>\n",
       "      <th>AGE</th>\n",
       "      <th>MARITAL STATUS</th>\n",
       "      <th>FINANCIAL STATUS</th>\n",
       "      <th>MEDICLAIM</th>\n",
       "      <th>NUMBER OF MEDICATIONS</th>\n",
       "      <th>ALCOHOL ADICTION</th>\n",
       "      <th>SMOKING</th>\n",
       "      <th>BLOOD PRESSURE</th>\n",
       "      <th>MOOD</th>\n",
       "      <th>...</th>\n",
       "      <th>SORE THROAT</th>\n",
       "      <th>ALLERGIES</th>\n",
       "      <th>COLD</th>\n",
       "      <th>COUGH</th>\n",
       "      <th>FEVER</th>\n",
       "      <th>STOMACH ACHE</th>\n",
       "      <th>DROWSINESS</th>\n",
       "      <th>MEDICINE 1</th>\n",
       "      <th>MEDICINE 2</th>\n",
       "      <th>LABEL</th>\n",
       "    </tr>\n",
       "  </thead>\n",
       "  <tbody>\n",
       "    <tr>\n",
       "      <th>0</th>\n",
       "      <td>PAT001</td>\n",
       "      <td>65</td>\n",
       "      <td>Unmarried</td>\n",
       "      <td>Poor</td>\n",
       "      <td>Yes</td>\n",
       "      <td>1</td>\n",
       "      <td>Yes</td>\n",
       "      <td>Once a  week</td>\n",
       "      <td>120</td>\n",
       "      <td>Excited</td>\n",
       "      <td>...</td>\n",
       "      <td>Yes</td>\n",
       "      <td>No</td>\n",
       "      <td>Yes</td>\n",
       "      <td>No</td>\n",
       "      <td>Low</td>\n",
       "      <td>No</td>\n",
       "      <td>Yes</td>\n",
       "      <td>Clopidogrel</td>\n",
       "      <td>Filgrastim</td>\n",
       "      <td>1</td>\n",
       "    </tr>\n",
       "    <tr>\n",
       "      <th>1</th>\n",
       "      <td>PAT002</td>\n",
       "      <td>62</td>\n",
       "      <td>Unmarried</td>\n",
       "      <td>Poor</td>\n",
       "      <td>No</td>\n",
       "      <td>2</td>\n",
       "      <td>Ocassionally</td>\n",
       "      <td>Once a  week</td>\n",
       "      <td>120</td>\n",
       "      <td>Sad</td>\n",
       "      <td>...</td>\n",
       "      <td>Yes</td>\n",
       "      <td>No</td>\n",
       "      <td>Yes</td>\n",
       "      <td>No</td>\n",
       "      <td>High</td>\n",
       "      <td>No</td>\n",
       "      <td>Yes</td>\n",
       "      <td>Atorvastatin</td>\n",
       "      <td>Diazepam</td>\n",
       "      <td>1</td>\n",
       "    </tr>\n",
       "    <tr>\n",
       "      <th>2</th>\n",
       "      <td>PAT003</td>\n",
       "      <td>62</td>\n",
       "      <td>Married</td>\n",
       "      <td>Poor</td>\n",
       "      <td>Yes</td>\n",
       "      <td>10</td>\n",
       "      <td>Ocassionally</td>\n",
       "      <td>Yes</td>\n",
       "      <td>140</td>\n",
       "      <td>Excited</td>\n",
       "      <td>...</td>\n",
       "      <td>No</td>\n",
       "      <td>No</td>\n",
       "      <td>Yes</td>\n",
       "      <td>No</td>\n",
       "      <td>High</td>\n",
       "      <td>No</td>\n",
       "      <td>Yes</td>\n",
       "      <td>Clindamycin</td>\n",
       "      <td>EMLA cream</td>\n",
       "      <td>1</td>\n",
       "    </tr>\n",
       "    <tr>\n",
       "      <th>3</th>\n",
       "      <td>PAT004</td>\n",
       "      <td>58</td>\n",
       "      <td>Unmarried</td>\n",
       "      <td>Poor</td>\n",
       "      <td>No</td>\n",
       "      <td>6</td>\n",
       "      <td>Yes</td>\n",
       "      <td>Once a  week</td>\n",
       "      <td>100</td>\n",
       "      <td>Sad</td>\n",
       "      <td>...</td>\n",
       "      <td>No</td>\n",
       "      <td>No</td>\n",
       "      <td>Yes</td>\n",
       "      <td>No</td>\n",
       "      <td>High</td>\n",
       "      <td>No</td>\n",
       "      <td>Yes</td>\n",
       "      <td>Cefixime</td>\n",
       "      <td>Dacarbazine</td>\n",
       "      <td>1</td>\n",
       "    </tr>\n",
       "    <tr>\n",
       "      <th>4</th>\n",
       "      <td>PAT005</td>\n",
       "      <td>72</td>\n",
       "      <td>Married</td>\n",
       "      <td>Poor</td>\n",
       "      <td>No</td>\n",
       "      <td>2</td>\n",
       "      <td>No</td>\n",
       "      <td>No</td>\n",
       "      <td>110</td>\n",
       "      <td>Excited</td>\n",
       "      <td>...</td>\n",
       "      <td>Yes</td>\n",
       "      <td>No</td>\n",
       "      <td>Yes</td>\n",
       "      <td>No</td>\n",
       "      <td>High</td>\n",
       "      <td>No</td>\n",
       "      <td>Yes</td>\n",
       "      <td>Cetrizine</td>\n",
       "      <td>Ifosfamide</td>\n",
       "      <td>1</td>\n",
       "    </tr>\n",
       "    <tr>\n",
       "      <th>5</th>\n",
       "      <td>PAT006</td>\n",
       "      <td>46</td>\n",
       "      <td>Unmarried</td>\n",
       "      <td>Middle Class</td>\n",
       "      <td>No</td>\n",
       "      <td>7</td>\n",
       "      <td>No</td>\n",
       "      <td>Yes</td>\n",
       "      <td>130</td>\n",
       "      <td>Sad</td>\n",
       "      <td>...</td>\n",
       "      <td>No</td>\n",
       "      <td>No</td>\n",
       "      <td>Yes</td>\n",
       "      <td>No</td>\n",
       "      <td>High</td>\n",
       "      <td>No</td>\n",
       "      <td>Yes</td>\n",
       "      <td>Betamethasone</td>\n",
       "      <td>Famotidine</td>\n",
       "      <td>1</td>\n",
       "    </tr>\n",
       "    <tr>\n",
       "      <th>6</th>\n",
       "      <td>PAT007</td>\n",
       "      <td>26</td>\n",
       "      <td>Unmarried</td>\n",
       "      <td>Poor</td>\n",
       "      <td>No</td>\n",
       "      <td>4</td>\n",
       "      <td>No</td>\n",
       "      <td>Yes</td>\n",
       "      <td>110</td>\n",
       "      <td>Sad</td>\n",
       "      <td>...</td>\n",
       "      <td>Yes</td>\n",
       "      <td>No</td>\n",
       "      <td>Yes</td>\n",
       "      <td>No</td>\n",
       "      <td>Low</td>\n",
       "      <td>No</td>\n",
       "      <td>Yes</td>\n",
       "      <td>Clindamycin</td>\n",
       "      <td>Filgrastim</td>\n",
       "      <td>1</td>\n",
       "    </tr>\n",
       "  </tbody>\n",
       "</table>\n",
       "<p>7 rows × 43 columns</p>\n",
       "</div>"
      ],
      "text/plain": [
       "  PATIENT ID  AGE MARITAL STATUS FINANCIAL STATUS MEDICLAIM  \\\n",
       "0     PAT001   65      Unmarried             Poor       Yes   \n",
       "1     PAT002   62      Unmarried             Poor        No   \n",
       "2     PAT003   62        Married             Poor       Yes   \n",
       "3     PAT004   58      Unmarried             Poor        No   \n",
       "4     PAT005   72        Married             Poor        No   \n",
       "5     PAT006   46      Unmarried     Middle Class        No   \n",
       "6     PAT007   26      Unmarried             Poor        No   \n",
       "\n",
       "   NUMBER OF MEDICATIONS ALCOHOL ADICTION       SMOKING  BLOOD PRESSURE  \\\n",
       "0                      1              Yes  Once a  week             120   \n",
       "1                      2     Ocassionally  Once a  week             120   \n",
       "2                     10     Ocassionally           Yes             140   \n",
       "3                      6              Yes  Once a  week             100   \n",
       "4                      2               No            No             110   \n",
       "5                      7               No           Yes             130   \n",
       "6                      4               No           Yes             110   \n",
       "\n",
       "      MOOD  ... SORE THROAT ALLERGIES COLD COUGH  FEVER STOMACH ACHE  \\\n",
       "0  Excited  ...         Yes        No  Yes    No    Low           No   \n",
       "1      Sad  ...         Yes        No  Yes    No   High           No   \n",
       "2  Excited  ...          No        No  Yes    No   High           No   \n",
       "3      Sad  ...          No        No  Yes    No   High           No   \n",
       "4  Excited  ...         Yes        No  Yes    No   High           No   \n",
       "5      Sad  ...          No        No  Yes    No   High           No   \n",
       "6      Sad  ...         Yes        No  Yes    No    Low           No   \n",
       "\n",
       "  DROWSINESS     MEDICINE 1   MEDICINE 2  LABEL  \n",
       "0        Yes    Clopidogrel   Filgrastim      1  \n",
       "1        Yes   Atorvastatin     Diazepam      1  \n",
       "2        Yes    Clindamycin   EMLA cream      1  \n",
       "3        Yes       Cefixime  Dacarbazine      1  \n",
       "4        Yes      Cetrizine   Ifosfamide      1  \n",
       "5        Yes  Betamethasone   Famotidine      1  \n",
       "6        Yes    Clindamycin   Filgrastim      1  \n",
       "\n",
       "[7 rows x 43 columns]"
      ]
     },
     "execution_count": 2,
     "metadata": {},
     "output_type": "execute_result"
    }
   ],
   "source": [
    "#Load the data\n",
    "df = pd.read_excel('C:/Users/Sai/Documents/Deepsphere AI/Input.xlsx')\n",
    "df.head(7)"
   ]
  },
  {
   "cell_type": "markdown",
   "metadata": {},
   "source": [
    "# DATA PREPROCESSING"
   ]
  },
  {
   "cell_type": "code",
   "execution_count": 3,
   "metadata": {},
   "outputs": [
    {
     "data": {
      "text/plain": [
       "PATIENT ID                              0\n",
       "AGE                                     0\n",
       "MARITAL STATUS                          0\n",
       "FINANCIAL STATUS                        0\n",
       "MEDICLAIM                               0\n",
       "NUMBER OF MEDICATIONS                   0\n",
       "ALCOHOL ADICTION                        0\n",
       "SMOKING                                 0\n",
       "BLOOD PRESSURE                          0\n",
       "MOOD                                    0\n",
       "ENERGY LEVELS                           0\n",
       "HEADACHE                                0\n",
       "CONCENTRATION                           0\n",
       "DRUG COST                               0\n",
       "FOLLOWUP CHECKUPS                       0\n",
       "PRESCRIBTION START DATE                 0\n",
       "PRESCRIBTION END DATE                   0\n",
       "REFILL FREQUENCY(MEDICINE1)             0\n",
       "REFILL FREQUENCY(MEDICINE2)             0\n",
       "PRESCRIBED MEDICATION PERIOD(MONTHS)    0\n",
       "REFILLS DONE(MEDICINE 1)                0\n",
       "REFILLS DONE(MEDICINE 2)                0\n",
       "SEVIERITY OF ILLNESS(CHECKUP 1)         0\n",
       "SEVIERITY OF ILLNESS(CHECKUP 2)         0\n",
       "SEVIERITY OF ILLNESS(CHECKUP 3)         0\n",
       "SEVIERITY OF ILLNESS(CHECKUP 4)         0\n",
       "SEVIERITY OF ILLNESS(CHECKUP 5)         0\n",
       "FREQUENCY                               0\n",
       "CHRONIC ILLNESS                         0\n",
       "DIARRHEA                                0\n",
       "CONSTIPATION                            0\n",
       "NAUSEA                                  0\n",
       "VOMITING                                0\n",
       "SORE THROAT                             0\n",
       "ALLERGIES                               0\n",
       "COLD                                    0\n",
       "COUGH                                   0\n",
       "FEVER                                   0\n",
       "STOMACH ACHE                            0\n",
       "DROWSINESS                              0\n",
       "MEDICINE 1                              0\n",
       "MEDICINE 2                              0\n",
       "LABEL                                   0\n",
       "dtype: int64"
      ]
     },
     "execution_count": 3,
     "metadata": {},
     "output_type": "execute_result"
    }
   ],
   "source": [
    "#Check for na or missing data\n",
    "df.isna().sum()"
   ]
  },
  {
   "cell_type": "code",
   "execution_count": 4,
   "metadata": {},
   "outputs": [
    {
     "data": {
      "text/html": [
       "<div>\n",
       "<style scoped>\n",
       "    .dataframe tbody tr th:only-of-type {\n",
       "        vertical-align: middle;\n",
       "    }\n",
       "\n",
       "    .dataframe tbody tr th {\n",
       "        vertical-align: top;\n",
       "    }\n",
       "\n",
       "    .dataframe thead th {\n",
       "        text-align: right;\n",
       "    }\n",
       "</style>\n",
       "<table border=\"1\" class=\"dataframe\">\n",
       "  <thead>\n",
       "    <tr style=\"text-align: right;\">\n",
       "      <th></th>\n",
       "      <th>PATIENT ID</th>\n",
       "      <th>FOLLOWUP CHECKUPS</th>\n",
       "      <th>REFILL FREQUENCY(MEDICINE1)</th>\n",
       "      <th>REFILL FREQUENCY(MEDICINE2)</th>\n",
       "      <th>PRESCRIBED MEDICATION PERIOD(MONTHS)</th>\n",
       "      <th>REFILLS DONE(MEDICINE 1)</th>\n",
       "      <th>REFILLS DONE(MEDICINE 2)</th>\n",
       "      <th>SEVIERITY OF ILLNESS(CHECKUP 1)</th>\n",
       "      <th>SEVIERITY OF ILLNESS(CHECKUP 2)</th>\n",
       "      <th>SEVIERITY OF ILLNESS(CHECKUP 3)</th>\n",
       "      <th>SEVIERITY OF ILLNESS(CHECKUP 4)</th>\n",
       "      <th>SEVIERITY OF ILLNESS(CHECKUP 5)</th>\n",
       "      <th>MEDICINE 1</th>\n",
       "      <th>MEDICINE 2</th>\n",
       "      <th>LABEL</th>\n",
       "    </tr>\n",
       "  </thead>\n",
       "  <tbody>\n",
       "    <tr>\n",
       "      <th>0</th>\n",
       "      <td>PAT001</td>\n",
       "      <td>1</td>\n",
       "      <td>Fortnightly</td>\n",
       "      <td>Fortnightly</td>\n",
       "      <td>5</td>\n",
       "      <td>6</td>\n",
       "      <td>5</td>\n",
       "      <td>0</td>\n",
       "      <td>0</td>\n",
       "      <td>0</td>\n",
       "      <td>0</td>\n",
       "      <td>0</td>\n",
       "      <td>Clopidogrel</td>\n",
       "      <td>Filgrastim</td>\n",
       "      <td>1</td>\n",
       "    </tr>\n",
       "    <tr>\n",
       "      <th>1</th>\n",
       "      <td>PAT002</td>\n",
       "      <td>1</td>\n",
       "      <td>Monthly</td>\n",
       "      <td>Fortnightly</td>\n",
       "      <td>1</td>\n",
       "      <td>10</td>\n",
       "      <td>8</td>\n",
       "      <td>0</td>\n",
       "      <td>0</td>\n",
       "      <td>0</td>\n",
       "      <td>0</td>\n",
       "      <td>0</td>\n",
       "      <td>Atorvastatin</td>\n",
       "      <td>Diazepam</td>\n",
       "      <td>1</td>\n",
       "    </tr>\n",
       "    <tr>\n",
       "      <th>2</th>\n",
       "      <td>PAT003</td>\n",
       "      <td>1</td>\n",
       "      <td>Fortnightly</td>\n",
       "      <td>Monthly</td>\n",
       "      <td>5</td>\n",
       "      <td>8</td>\n",
       "      <td>10</td>\n",
       "      <td>0</td>\n",
       "      <td>0</td>\n",
       "      <td>0</td>\n",
       "      <td>0</td>\n",
       "      <td>0</td>\n",
       "      <td>Clindamycin</td>\n",
       "      <td>EMLA cream</td>\n",
       "      <td>1</td>\n",
       "    </tr>\n",
       "    <tr>\n",
       "      <th>3</th>\n",
       "      <td>PAT004</td>\n",
       "      <td>1</td>\n",
       "      <td>Weekly</td>\n",
       "      <td>Monthly</td>\n",
       "      <td>4</td>\n",
       "      <td>5</td>\n",
       "      <td>5</td>\n",
       "      <td>0</td>\n",
       "      <td>0</td>\n",
       "      <td>0</td>\n",
       "      <td>0</td>\n",
       "      <td>0</td>\n",
       "      <td>Cefixime</td>\n",
       "      <td>Dacarbazine</td>\n",
       "      <td>1</td>\n",
       "    </tr>\n",
       "    <tr>\n",
       "      <th>4</th>\n",
       "      <td>PAT005</td>\n",
       "      <td>1</td>\n",
       "      <td>Monthly</td>\n",
       "      <td>Monthly</td>\n",
       "      <td>4</td>\n",
       "      <td>7</td>\n",
       "      <td>5</td>\n",
       "      <td>0</td>\n",
       "      <td>0</td>\n",
       "      <td>0</td>\n",
       "      <td>0</td>\n",
       "      <td>0</td>\n",
       "      <td>Cetrizine</td>\n",
       "      <td>Ifosfamide</td>\n",
       "      <td>1</td>\n",
       "    </tr>\n",
       "    <tr>\n",
       "      <th>...</th>\n",
       "      <td>...</td>\n",
       "      <td>...</td>\n",
       "      <td>...</td>\n",
       "      <td>...</td>\n",
       "      <td>...</td>\n",
       "      <td>...</td>\n",
       "      <td>...</td>\n",
       "      <td>...</td>\n",
       "      <td>...</td>\n",
       "      <td>...</td>\n",
       "      <td>...</td>\n",
       "      <td>...</td>\n",
       "      <td>...</td>\n",
       "      <td>...</td>\n",
       "      <td>...</td>\n",
       "    </tr>\n",
       "    <tr>\n",
       "      <th>995</th>\n",
       "      <td>PAT996</td>\n",
       "      <td>5</td>\n",
       "      <td>Monthly</td>\n",
       "      <td>Monthly</td>\n",
       "      <td>9</td>\n",
       "      <td>8</td>\n",
       "      <td>4</td>\n",
       "      <td>1</td>\n",
       "      <td>2</td>\n",
       "      <td>1</td>\n",
       "      <td>3</td>\n",
       "      <td>2</td>\n",
       "      <td>Chlorambucil</td>\n",
       "      <td>Enoxaparin</td>\n",
       "      <td>1</td>\n",
       "    </tr>\n",
       "    <tr>\n",
       "      <th>996</th>\n",
       "      <td>PAT997</td>\n",
       "      <td>5</td>\n",
       "      <td>Fortnightly</td>\n",
       "      <td>Monthly</td>\n",
       "      <td>9</td>\n",
       "      <td>6</td>\n",
       "      <td>7</td>\n",
       "      <td>1</td>\n",
       "      <td>2</td>\n",
       "      <td>2</td>\n",
       "      <td>2</td>\n",
       "      <td>1</td>\n",
       "      <td>Carboplatin</td>\n",
       "      <td>Dacarbazine</td>\n",
       "      <td>1</td>\n",
       "    </tr>\n",
       "    <tr>\n",
       "      <th>997</th>\n",
       "      <td>PAT998</td>\n",
       "      <td>2</td>\n",
       "      <td>Weekly</td>\n",
       "      <td>Monthly</td>\n",
       "      <td>1</td>\n",
       "      <td>4</td>\n",
       "      <td>4</td>\n",
       "      <td>2</td>\n",
       "      <td>0</td>\n",
       "      <td>0</td>\n",
       "      <td>0</td>\n",
       "      <td>0</td>\n",
       "      <td>Chlorambucil</td>\n",
       "      <td>Hydroxychloroquine phosphate</td>\n",
       "      <td>0</td>\n",
       "    </tr>\n",
       "    <tr>\n",
       "      <th>998</th>\n",
       "      <td>PAT999</td>\n",
       "      <td>4</td>\n",
       "      <td>Weekly</td>\n",
       "      <td>Monthly</td>\n",
       "      <td>11</td>\n",
       "      <td>4</td>\n",
       "      <td>8</td>\n",
       "      <td>1</td>\n",
       "      <td>0</td>\n",
       "      <td>0</td>\n",
       "      <td>0</td>\n",
       "      <td>0</td>\n",
       "      <td>Cefixime</td>\n",
       "      <td>EMLA cream</td>\n",
       "      <td>1</td>\n",
       "    </tr>\n",
       "    <tr>\n",
       "      <th>999</th>\n",
       "      <td>PAT1000</td>\n",
       "      <td>1</td>\n",
       "      <td>Weekly</td>\n",
       "      <td>Monthly</td>\n",
       "      <td>3</td>\n",
       "      <td>6</td>\n",
       "      <td>6</td>\n",
       "      <td>1</td>\n",
       "      <td>0</td>\n",
       "      <td>0</td>\n",
       "      <td>0</td>\n",
       "      <td>0</td>\n",
       "      <td>Clindamycin</td>\n",
       "      <td>Fentanyl</td>\n",
       "      <td>1</td>\n",
       "    </tr>\n",
       "  </tbody>\n",
       "</table>\n",
       "<p>1000 rows × 15 columns</p>\n",
       "</div>"
      ],
      "text/plain": [
       "    PATIENT ID  FOLLOWUP CHECKUPS REFILL FREQUENCY(MEDICINE1)  \\\n",
       "0       PAT001                  1                 Fortnightly   \n",
       "1       PAT002                  1                     Monthly   \n",
       "2       PAT003                  1                 Fortnightly   \n",
       "3       PAT004                  1                      Weekly   \n",
       "4       PAT005                  1                     Monthly   \n",
       "..         ...                ...                         ...   \n",
       "995     PAT996                  5                     Monthly   \n",
       "996     PAT997                  5                 Fortnightly   \n",
       "997     PAT998                  2                      Weekly   \n",
       "998     PAT999                  4                      Weekly   \n",
       "999    PAT1000                  1                      Weekly   \n",
       "\n",
       "    REFILL FREQUENCY(MEDICINE2)  PRESCRIBED MEDICATION PERIOD(MONTHS)  \\\n",
       "0                   Fortnightly                                     5   \n",
       "1                   Fortnightly                                     1   \n",
       "2                       Monthly                                     5   \n",
       "3                       Monthly                                     4   \n",
       "4                       Monthly                                     4   \n",
       "..                          ...                                   ...   \n",
       "995                     Monthly                                     9   \n",
       "996                     Monthly                                     9   \n",
       "997                     Monthly                                     1   \n",
       "998                     Monthly                                    11   \n",
       "999                     Monthly                                     3   \n",
       "\n",
       "     REFILLS DONE(MEDICINE 1)  REFILLS DONE(MEDICINE 2)  \\\n",
       "0                           6                         5   \n",
       "1                          10                         8   \n",
       "2                           8                        10   \n",
       "3                           5                         5   \n",
       "4                           7                         5   \n",
       "..                        ...                       ...   \n",
       "995                         8                         4   \n",
       "996                         6                         7   \n",
       "997                         4                         4   \n",
       "998                         4                         8   \n",
       "999                         6                         6   \n",
       "\n",
       "     SEVIERITY OF ILLNESS(CHECKUP 1)  SEVIERITY OF ILLNESS(CHECKUP 2)  \\\n",
       "0                                  0                                0   \n",
       "1                                  0                                0   \n",
       "2                                  0                                0   \n",
       "3                                  0                                0   \n",
       "4                                  0                                0   \n",
       "..                               ...                              ...   \n",
       "995                                1                                2   \n",
       "996                                1                                2   \n",
       "997                                2                                0   \n",
       "998                                1                                0   \n",
       "999                                1                                0   \n",
       "\n",
       "     SEVIERITY OF ILLNESS(CHECKUP 3)  SEVIERITY OF ILLNESS(CHECKUP 4)  \\\n",
       "0                                  0                                0   \n",
       "1                                  0                                0   \n",
       "2                                  0                                0   \n",
       "3                                  0                                0   \n",
       "4                                  0                                0   \n",
       "..                               ...                              ...   \n",
       "995                                1                                3   \n",
       "996                                2                                2   \n",
       "997                                0                                0   \n",
       "998                                0                                0   \n",
       "999                                0                                0   \n",
       "\n",
       "     SEVIERITY OF ILLNESS(CHECKUP 5)    MEDICINE 1  \\\n",
       "0                                  0   Clopidogrel   \n",
       "1                                  0  Atorvastatin   \n",
       "2                                  0   Clindamycin   \n",
       "3                                  0      Cefixime   \n",
       "4                                  0     Cetrizine   \n",
       "..                               ...           ...   \n",
       "995                                2  Chlorambucil   \n",
       "996                                1   Carboplatin   \n",
       "997                                0  Chlorambucil   \n",
       "998                                0      Cefixime   \n",
       "999                                0   Clindamycin   \n",
       "\n",
       "                       MEDICINE 2  LABEL  \n",
       "0                      Filgrastim      1  \n",
       "1                        Diazepam      1  \n",
       "2                      EMLA cream      1  \n",
       "3                     Dacarbazine      1  \n",
       "4                      Ifosfamide      1  \n",
       "..                            ...    ...  \n",
       "995                    Enoxaparin      1  \n",
       "996                   Dacarbazine      1  \n",
       "997  Hydroxychloroquine phosphate      0  \n",
       "998                    EMLA cream      1  \n",
       "999                      Fentanyl      1  \n",
       "\n",
       "[1000 rows x 15 columns]"
      ]
     },
     "execution_count": 4,
     "metadata": {},
     "output_type": "execute_result"
    }
   ],
   "source": [
    "X = df.drop(['AGE', 'MARITAL STATUS', 'ALCOHOL ADICTION', 'SMOKING', 'BLOOD PRESSURE', 'MOOD', 'ENERGY LEVELS', 'HEADACHE', 'CONCENTRATION', 'PRESCRIBTION START DATE', 'PRESCRIBTION END DATE', 'CHRONIC ILLNESS', 'DIARRHEA', 'CONSTIPATION', 'NAUSEA', 'VOMITING', 'SORE THROAT', 'ALLERGIES', 'COLD', 'COUGH', 'FEVER', 'STOMACH ACHE', 'DROWSINESS', 'FREQUENCY', 'FINANCIAL STATUS', 'MEDICLAIM', 'NUMBER OF MEDICATIONS', 'DRUG COST'], axis = 1)\n",
    "X"
   ]
  },
  {
   "cell_type": "code",
   "execution_count": 5,
   "metadata": {},
   "outputs": [
    {
     "name": "stderr",
     "output_type": "stream",
     "text": [
      "<ipython-input-5-08bd5ff1febe>:3: DeprecationWarning: Converting `np.inexact` or `np.floating` to a dtype is deprecated. The current result is `float64` which is not strictly correct.\n",
      "  if X[column].dtype == np.number:\n"
     ]
    }
   ],
   "source": [
    "#Convert all the non-numeric columns to numerical data types\n",
    "for column in X.columns:\n",
    "    if X[column].dtype == np.number:\n",
    "        continue\n",
    "    X[column] = LabelEncoder().fit_transform(X[column])"
   ]
  },
  {
   "cell_type": "code",
   "execution_count": 6,
   "metadata": {},
   "outputs": [],
   "source": [
    "#Scale the cleaned data\n",
    "x = X.drop('LABEL', axis = 1)\n",
    "y = X['LABEL']\n",
    "\n",
    "#Standardizing/Scaling the features\n",
    "X1 = StandardScaler().fit_transform(x)"
   ]
  },
  {
   "cell_type": "markdown",
   "metadata": {},
   "source": [
    "# PREDICTING ADHERENT AND NON-ADHERENT PATIENTS USING RANDOM FOREST "
   ]
  },
  {
   "cell_type": "code",
   "execution_count": 7,
   "metadata": {},
   "outputs": [],
   "source": [
    "#Split the data into 80% training and 20% testing\n",
    "x_train, x_test, y_train, y_test = train_test_split(x, y, test_size=0.2, random_state=42)"
   ]
  },
  {
   "cell_type": "code",
   "execution_count": 8,
   "metadata": {},
   "outputs": [],
   "source": [
    "X_train = x_train.drop(['PATIENT ID', 'MEDICINE 1', 'MEDICINE 2'], axis=1)\n",
    "X_test = x_test.drop(['PATIENT ID', 'MEDICINE 1', 'MEDICINE 2'], axis=1)"
   ]
  },
  {
   "cell_type": "code",
   "execution_count": 9,
   "metadata": {},
   "outputs": [
    {
     "data": {
      "text/plain": [
       "RandomForestClassifier()"
      ]
     },
     "execution_count": 9,
     "metadata": {},
     "output_type": "execute_result"
    }
   ],
   "source": [
    "#Create the model\n",
    "from sklearn.ensemble import RandomForestClassifier\n",
    "model = RandomForestClassifier(n_estimators=100)\n",
    "#from sklearn.tree import DecisionTreeClassifier\n",
    "#model = DecisionTreeClassifier()\n",
    "#from sklearn.linear_model import LogisticRegression\n",
    "#model = LogisticRegression()\n",
    "#Train the model\n",
    "model.fit(X_train, y_train)"
   ]
  },
  {
   "cell_type": "code",
   "execution_count": 10,
   "metadata": {},
   "outputs": [
    {
     "name": "stdout",
     "output_type": "stream",
     "text": [
      "[0 0 0 1 1 1 1 1 1 1 1 0 1 1 0 1 1 1 1 1 1 1 1 0 1 1 1 1 1 0 1 1 1 0 1 0 0\n",
      " 1 1 1 0 1 1 0 1 0 1 0 1 1 1 0 1 0 1 0 1 1 1 1 1 0 1 1 1 1 0 0 0 1 0 1 1 1\n",
      " 1 1 1 1 1 1 1 1 1 1 0 1 1 0 0 1 1 1 1 1 1 1 1 0 1 0 0 1 1 1 1 1 1 1 1 1 1\n",
      " 1 0 1 1 0 1 1 1 1 1 1 1 1 0 1 1 1 0 1 1 1 1 1 1 1 0 1 1 0 1 1 1 1 1 0 0 1\n",
      " 1 1 1 1 1 1 1 1 1 1 0 1 1 1 1 1 0 1 1 0 1 1 1 1 1 0 1 1 0 1 0 0 1 0 1 0 1\n",
      " 0 1 1 1 1 0 0 1 1 0 1 1 1 0 1]\n"
     ]
    }
   ],
   "source": [
    "predictions = model.predict(X_test)\n",
    "\n",
    "#printing the predictions\n",
    "print(predictions)"
   ]
  },
  {
   "cell_type": "code",
   "execution_count": 11,
   "metadata": {},
   "outputs": [
    {
     "name": "stdout",
     "output_type": "stream",
     "text": [
      "0.78\n"
     ]
    }
   ],
   "source": [
    "from sklearn.metrics import accuracy_score\n",
    "accuracy_score = accuracy_score(y_test, predictions)\n",
    "print(accuracy_score)"
   ]
  },
  {
   "cell_type": "code",
   "execution_count": 12,
   "metadata": {},
   "outputs": [],
   "source": [
    "df1 = x_test[['PATIENT ID', 'MEDICINE 1', 'MEDICINE 2']]"
   ]
  },
  {
   "cell_type": "code",
   "execution_count": 13,
   "metadata": {},
   "outputs": [
    {
     "name": "stderr",
     "output_type": "stream",
     "text": [
      "<ipython-input-13-d5faa231a70f>:1: SettingWithCopyWarning: \n",
      "A value is trying to be set on a copy of a slice from a DataFrame.\n",
      "Try using .loc[row_indexer,col_indexer] = value instead\n",
      "\n",
      "See the caveats in the documentation: https://pandas.pydata.org/pandas-docs/stable/user_guide/indexing.html#returning-a-view-versus-a-copy\n",
      "  df1['Label'] = pd.Series(predictions, index=df1.index)\n"
     ]
    }
   ],
   "source": [
    "df1['Label'] = pd.Series(predictions, index=df1.index)"
   ]
  },
  {
   "cell_type": "code",
   "execution_count": 14,
   "metadata": {},
   "outputs": [
    {
     "name": "stderr",
     "output_type": "stream",
     "text": [
      "<ipython-input-14-285b05a002c8>:1: SettingWithCopyWarning: \n",
      "A value is trying to be set on a copy of a slice from a DataFrame.\n",
      "Try using .loc[row_indexer,col_indexer] = value instead\n",
      "\n",
      "See the caveats in the documentation: https://pandas.pydata.org/pandas-docs/stable/user_guide/indexing.html#returning-a-view-versus-a-copy\n",
      "  df1[\"Label\"] = df1[\"Label\"].replace({0: \"Adherent\", 1: \"Non-Adherent\"})\n"
     ]
    },
    {
     "data": {
      "text/html": [
       "<div>\n",
       "<style scoped>\n",
       "    .dataframe tbody tr th:only-of-type {\n",
       "        vertical-align: middle;\n",
       "    }\n",
       "\n",
       "    .dataframe tbody tr th {\n",
       "        vertical-align: top;\n",
       "    }\n",
       "\n",
       "    .dataframe thead th {\n",
       "        text-align: right;\n",
       "    }\n",
       "</style>\n",
       "<table border=\"1\" class=\"dataframe\">\n",
       "  <thead>\n",
       "    <tr style=\"text-align: right;\">\n",
       "      <th></th>\n",
       "      <th>PATIENT ID</th>\n",
       "      <th>MEDICINE 1</th>\n",
       "      <th>MEDICINE 2</th>\n",
       "      <th>Label</th>\n",
       "    </tr>\n",
       "  </thead>\n",
       "  <tbody>\n",
       "    <tr>\n",
       "      <th>521</th>\n",
       "      <td>522</td>\n",
       "      <td>6</td>\n",
       "      <td>9</td>\n",
       "      <td>Adherent</td>\n",
       "    </tr>\n",
       "    <tr>\n",
       "      <th>737</th>\n",
       "      <td>738</td>\n",
       "      <td>1</td>\n",
       "      <td>9</td>\n",
       "      <td>Adherent</td>\n",
       "    </tr>\n",
       "    <tr>\n",
       "      <th>740</th>\n",
       "      <td>741</td>\n",
       "      <td>7</td>\n",
       "      <td>5</td>\n",
       "      <td>Adherent</td>\n",
       "    </tr>\n",
       "    <tr>\n",
       "      <th>660</th>\n",
       "      <td>661</td>\n",
       "      <td>6</td>\n",
       "      <td>5</td>\n",
       "      <td>Non-Adherent</td>\n",
       "    </tr>\n",
       "    <tr>\n",
       "      <th>411</th>\n",
       "      <td>412</td>\n",
       "      <td>6</td>\n",
       "      <td>3</td>\n",
       "      <td>Non-Adherent</td>\n",
       "    </tr>\n",
       "    <tr>\n",
       "      <th>...</th>\n",
       "      <td>...</td>\n",
       "      <td>...</td>\n",
       "      <td>...</td>\n",
       "      <td>...</td>\n",
       "    </tr>\n",
       "    <tr>\n",
       "      <th>408</th>\n",
       "      <td>409</td>\n",
       "      <td>4</td>\n",
       "      <td>5</td>\n",
       "      <td>Non-Adherent</td>\n",
       "    </tr>\n",
       "    <tr>\n",
       "      <th>332</th>\n",
       "      <td>333</td>\n",
       "      <td>2</td>\n",
       "      <td>5</td>\n",
       "      <td>Non-Adherent</td>\n",
       "    </tr>\n",
       "    <tr>\n",
       "      <th>208</th>\n",
       "      <td>209</td>\n",
       "      <td>2</td>\n",
       "      <td>0</td>\n",
       "      <td>Non-Adherent</td>\n",
       "    </tr>\n",
       "    <tr>\n",
       "      <th>613</th>\n",
       "      <td>614</td>\n",
       "      <td>6</td>\n",
       "      <td>1</td>\n",
       "      <td>Adherent</td>\n",
       "    </tr>\n",
       "    <tr>\n",
       "      <th>78</th>\n",
       "      <td>78</td>\n",
       "      <td>6</td>\n",
       "      <td>8</td>\n",
       "      <td>Non-Adherent</td>\n",
       "    </tr>\n",
       "  </tbody>\n",
       "</table>\n",
       "<p>200 rows × 4 columns</p>\n",
       "</div>"
      ],
      "text/plain": [
       "     PATIENT ID  MEDICINE 1  MEDICINE 2         Label\n",
       "521         522           6           9      Adherent\n",
       "737         738           1           9      Adherent\n",
       "740         741           7           5      Adherent\n",
       "660         661           6           5  Non-Adherent\n",
       "411         412           6           3  Non-Adherent\n",
       "..          ...         ...         ...           ...\n",
       "408         409           4           5  Non-Adherent\n",
       "332         333           2           5  Non-Adherent\n",
       "208         209           2           0  Non-Adherent\n",
       "613         614           6           1      Adherent\n",
       "78           78           6           8  Non-Adherent\n",
       "\n",
       "[200 rows x 4 columns]"
      ]
     },
     "execution_count": 14,
     "metadata": {},
     "output_type": "execute_result"
    }
   ],
   "source": [
    "df1[\"Label\"] = df1[\"Label\"].replace({0: \"Adherent\", 1: \"Non-Adherent\"})\n",
    "df1"
   ]
  },
  {
   "cell_type": "code",
   "execution_count": 15,
   "metadata": {},
   "outputs": [],
   "source": [
    "df1.to_excel('C:/Users/Sai/Documents/Deepsphere AI/Patient Non-Adherence/5_ModelOutcome/Output.xlsx')"
   ]
  },
  {
   "cell_type": "markdown",
   "metadata": {},
   "source": [
    "# FEATURE IMPORTANCE"
   ]
  },
  {
   "cell_type": "code",
   "execution_count": 16,
   "metadata": {},
   "outputs": [
    {
     "data": {
      "text/plain": [
       "array([0.10454776, 0.08105715, 0.04218397, 0.2933532 , 0.15238334,\n",
       "       0.15112617, 0.09528147, 0.02020328, 0.02126071, 0.01911209,\n",
       "       0.01949087])"
      ]
     },
     "execution_count": 16,
     "metadata": {},
     "output_type": "execute_result"
    }
   ],
   "source": [
    "from matplotlib import pyplot as plt\n",
    "model.feature_importances_"
   ]
  },
  {
   "cell_type": "code",
   "execution_count": 17,
   "metadata": {},
   "outputs": [
    {
     "data": {
      "text/plain": [
       "<BarContainer object of 11 artists>"
      ]
     },
     "execution_count": 17,
     "metadata": {},
     "output_type": "execute_result"
    },
    {
     "data": {
      "image/png": "[encoded data removed]",
      "text/plain": [
       "<Figure size 432x288 with 1 Axes>"
      ]
     },
     "metadata": {
      "needs_background": "light"
     },
     "output_type": "display_data"
    }
   ],
   "source": [
    "plt.barh(X_test.columns, model.feature_importances_)"
   ]
  },
  {
   "cell_type": "markdown",
   "metadata": {},
   "source": [
    "# KFOLD CROSS VALIDATION"
   ]
  },
  {
   "cell_type": "code",
   "execution_count": 18,
   "metadata": {},
   "outputs": [
    {
     "name": "stdout",
     "output_type": "stream",
     "text": [
      "[0.7  0.77 0.79 0.75 0.82 0.83 0.77 0.83 0.79 0.76]\n",
      "0.7809999999999999\n"
     ]
    }
   ],
   "source": [
    "from sklearn.model_selection import cross_validate\n",
    "cv = cross_validate(model, x, y, cv=10)\n",
    "print(cv['test_score'])\n",
    "print(cv['test_score'].mean())"
   ]
  },
  {
   "cell_type": "markdown",
   "metadata": {},
   "source": [
    "# PREDICTING ADHERENT AND NON-ADHERENT PATIENTS USING XGBOOST"
   ]
  },
  {
   "cell_type": "code",
   "execution_count": 19,
   "metadata": {},
   "outputs": [],
   "source": [
    "from xgboost import XGBClassifier\n",
    "x1 = x\n",
    "y1 = y"
   ]
  },
  {
   "cell_type": "code",
   "execution_count": 20,
   "metadata": {},
   "outputs": [],
   "source": [
    "x1_train, x1_test, y1_train, y1_test = train_test_split(x1, y1, test_size=0.2, random_state=123) "
   ]
  },
  {
   "cell_type": "code",
   "execution_count": 21,
   "metadata": {},
   "outputs": [],
   "source": [
    "X1_train = x1_train.drop(['PATIENT ID', 'MEDICINE 1', 'MEDICINE 2'], axis=1)\n",
    "X1_test = x1_test.drop(['PATIENT ID', 'MEDICINE 1', 'MEDICINE 2'], axis=1)"
   ]
  },
  {
   "cell_type": "code",
   "execution_count": 34,
   "metadata": {},
   "outputs": [
    {
     "name": "stdout",
     "output_type": "stream",
     "text": [
      "[21:19:55] WARNING: C:/Users/Administrator/workspace/xgboost-win64_release_1.3.0/src/learner.cc:1061: Starting in XGBoost 1.3.0, the default evaluation metric used with the objective 'binary:logistic' was changed from 'error' to 'logloss'. Explicitly set eval_metric if you'd like to restore the old behavior.\n"
     ]
    },
    {
     "data": {
      "text/plain": [
       "XGBClassifier(base_score=0.5, booster='gbtree', colsample_bylevel=1,\n",
       "              colsample_bynode=1, colsample_bytree=1, gamma=2, gpu_id=-1,\n",
       "              importance_type='gain', interaction_constraints='',\n",
       "              learning_rate=0.05, max_delta_step=0, max_depth=10,\n",
       "              min_child_weight=5, missing=nan, monotone_constraints='()',\n",
       "              n_estimators=100, n_jobs=4, num_parallel_tree=1, random_state=0,\n",
       "              reg_alpha=0, reg_lambda=0, scale_pos_weight=1, subsample=0.3,\n",
       "              tree_method='exact', validate_parameters=1, verbosity=None)"
      ]
     },
     "execution_count": 34,
     "metadata": {},
     "output_type": "execute_result"
    }
   ],
   "source": [
    "model1 = XGBClassifier(max_depth=10, min_child_weight=5, subsample=0.3, learning_rate=0.05, gamma=2, reg_lambda=0)\n",
    "model1.fit(X1_train, y1_train)"
   ]
  },
  {
   "cell_type": "code",
   "execution_count": 35,
   "metadata": {},
   "outputs": [],
   "source": [
    "y_pred = model1.predict(X1_test)"
   ]
  },
  {
   "cell_type": "code",
   "execution_count": 36,
   "metadata": {},
   "outputs": [],
   "source": [
    "predictions = [round(value) for value in y_pred]"
   ]
  },
  {
   "cell_type": "code",
   "execution_count": 37,
   "metadata": {},
   "outputs": [
    {
     "name": "stderr",
     "output_type": "stream",
     "text": [
      "C:\\Users\\Sai\\anaconda3\\lib\\site-packages\\xgboost\\sklearn.py:888: UserWarning: The use of label encoder in XGBClassifier is deprecated and will be removed in a future release. To remove this warning, do the following: 1) Pass option use_label_encoder=False when constructing XGBClassifier object; and 2) Encode your labels (y) as integers starting with 0, i.e. 0, 1, 2, ..., [num_class - 1].\n",
      "  warnings.warn(label_encoder_deprecation_msg, UserWarning)\n"
     ]
    },
    {
     "name": "stdout",
     "output_type": "stream",
     "text": [
      "[21:19:59] WARNING: C:/Users/Administrator/workspace/xgboost-win64_release_1.3.0/src/learner.cc:1061: Starting in XGBoost 1.3.0, the default evaluation metric used with the objective 'binary:logistic' was changed from 'error' to 'logloss'. Explicitly set eval_metric if you'd like to restore the old behavior.\n",
      "[21:19:59] WARNING: C:/Users/Administrator/workspace/xgboost-win64_release_1.3.0/src/learner.cc:1061: Starting in XGBoost 1.3.0, the default evaluation metric used with the objective 'binary:logistic' was changed from 'error' to 'logloss'. Explicitly set eval_metric if you'd like to restore the old behavior.\n",
      "[21:19:59] WARNING: C:/Users/Administrator/workspace/xgboost-win64_release_1.3.0/src/learner.cc:1061: Starting in XGBoost 1.3.0, the default evaluation metric used with the objective 'binary:logistic' was changed from 'error' to 'logloss'. Explicitly set eval_metric if you'd like to restore the old behavior.\n",
      "[21:19:59] WARNING: C:/Users/Administrator/workspace/xgboost-win64_release_1.3.0/src/learner.cc:1061: Starting in XGBoost 1.3.0, the default evaluation metric used with the objective 'binary:logistic' was changed from 'error' to 'logloss'. Explicitly set eval_metric if you'd like to restore the old behavior.\n",
      "[21:19:59] WARNING: C:/Users/Administrator/workspace/xgboost-win64_release_1.3.0/src/learner.cc:1061: Starting in XGBoost 1.3.0, the default evaluation metric used with the objective 'binary:logistic' was changed from 'error' to 'logloss'. Explicitly set eval_metric if you'd like to restore the old behavior.\n",
      "[21:19:59] WARNING: C:/Users/Administrator/workspace/xgboost-win64_release_1.3.0/src/learner.cc:1061: Starting in XGBoost 1.3.0, the default evaluation metric used with the objective 'binary:logistic' was changed from 'error' to 'logloss'. Explicitly set eval_metric if you'd like to restore the old behavior.\n",
      "[21:20:00] WARNING: C:/Users/Administrator/workspace/xgboost-win64_release_1.3.0/src/learner.cc:1061: Starting in XGBoost 1.3.0, the default evaluation metric used with the objective 'binary:logistic' was changed from 'error' to 'logloss'. Explicitly set eval_metric if you'd like to restore the old behavior.\n",
      "[21:20:00] WARNING: C:/Users/Administrator/workspace/xgboost-win64_release_1.3.0/src/learner.cc:1061: Starting in XGBoost 1.3.0, the default evaluation metric used with the objective 'binary:logistic' was changed from 'error' to 'logloss'. Explicitly set eval_metric if you'd like to restore the old behavior.\n",
      "[21:20:00] WARNING: C:/Users/Administrator/workspace/xgboost-win64_release_1.3.0/src/learner.cc:1061: Starting in XGBoost 1.3.0, the default evaluation metric used with the objective 'binary:logistic' was changed from 'error' to 'logloss'. Explicitly set eval_metric if you'd like to restore the old behavior.\n",
      "[21:20:00] WARNING: C:/Users/Administrator/workspace/xgboost-win64_release_1.3.0/src/learner.cc:1061: Starting in XGBoost 1.3.0, the default evaluation metric used with the objective 'binary:logistic' was changed from 'error' to 'logloss'. Explicitly set eval_metric if you'd like to restore the old behavior.\n",
      "[0.76 0.88 0.75 0.76 0.84 0.81 0.74 0.82 0.83 0.8 ]\n",
      "0.799\n"
     ]
    }
   ],
   "source": [
    "from sklearn.model_selection import cross_validate\n",
    "cv1 = cross_validate(model1, x1, y1, cv=10)\n",
    "print(cv1['test_score'])\n",
    "print(cv1['test_score'].mean())"
   ]
  },
  {
   "cell_type": "markdown",
   "metadata": {},
   "source": [
    "# The accuracy for RandomForestClassifier is 78% and The accuracy for XGBoost is 79.8%\n"
   ]
  },
  {
   "cell_type": "code",
   "execution_count": null,
   "metadata": {},
   "outputs": [],
   "source": []
  }
 ],
 "metadata": {
  "kernelspec": {
   "display_name": "Python 3",
   "language": "python",
   "name": "python3"
  },
  "language_info": {
   "codemirror_mode": {
    "name": "ipython",
    "version": 3
   },
   "file_extension": ".py",
   "mimetype": "text/x-python",
   "name": "python",
   "nbconvert_exporter": "python",
   "pygments_lexer": "ipython3",
   "version": "3.8.5"
  }
 },
 "nbformat": 4,
 "nbformat_minor": 4
}
