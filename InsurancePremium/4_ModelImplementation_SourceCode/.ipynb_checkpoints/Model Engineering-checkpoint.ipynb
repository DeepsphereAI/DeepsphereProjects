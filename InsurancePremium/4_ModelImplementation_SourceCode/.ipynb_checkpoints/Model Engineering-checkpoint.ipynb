{
 "cells": [
  {
   "cell_type": "markdown",
   "metadata": {},
   "source": [
    "### Model Engineering - Health Insurance Quote"
   ]
  },
  {
   "cell_type": "markdown",
   "metadata": {},
   "source": [
    "#### Data Description"
   ]
  },
  {
   "cell_type": "raw",
   "metadata": {},
   "source": [
    "age                - age of the insured\n",
    "sex                - sex of the insured\n",
    "bmi                - bmi ratio is given which shows if insured belongs to under weight or overweight or normal weight or obesity category\n",
    "income             - income of the insured\n",
    "pre-medical status - If the insured has any historical medical issue\n",
    "cur-medical status - current medical status based on the medical test (1 - fit, 0 - unfit)\n",
    "smoker             - if the insured has any smoking habit\n",
    "hobbies            - shows the activities insured is involved in frequently.\n",
    "dependent          - number of dependents of the insured.\n",
    "region             - geographic region that insured belongs to\n",
    "premium            - insurance premium amount paid by the insured."
   ]
  },
  {
   "cell_type": "code",
   "execution_count": null,
   "metadata": {},
   "outputs": [],
   "source": []
  },
  {
   "cell_type": "code",
   "execution_count": null,
   "metadata": {},
   "outputs": [],
   "source": []
  },
  {
   "cell_type": "code",
   "execution_count": null,
   "metadata": {},
   "outputs": [],
   "source": []
  },
  {
   "cell_type": "code",
   "execution_count": null,
   "metadata": {},
   "outputs": [],
   "source": []
  },
  {
   "cell_type": "code",
   "execution_count": null,
   "metadata": {},
   "outputs": [],
   "source": []
  },
  {
   "cell_type": "code",
   "execution_count": null,
   "metadata": {},
   "outputs": [],
   "source": []
  }
 ],
 "metadata": {
  "kernelspec": {
   "display_name": "Python 3",
   "language": "python",
   "name": "python3"
  },
  "language_info": {
   "codemirror_mode": {
    "name": "ipython",
    "version": 3
   },
   "file_extension": ".py",
   "mimetype": "text/x-python",
   "name": "python",
   "nbconvert_exporter": "python",
   "pygments_lexer": "ipython3",
   "version": "3.7.4"
  }
 },
 "nbformat": 4,
 "nbformat_minor": 4
}
