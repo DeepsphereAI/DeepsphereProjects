{
  "nbformat": 4,
  "nbformat_minor": 0,
  "metadata": {
    "colab": {
      "name": "Untitled2.ipynb",
      "provenance": []
    },
    "kernelspec": {
      "display_name": "Python 3",
      "name": "python3"
    },
    "language_info": {
      "name": "python"
    }
  },
  "cells": [
    {
      "cell_type": "code",
      "metadata": {
        "colab": {
          "base_uri": "https://localhost:8080/"
        },
        "id": "Jg70gpqCHqog",
        "outputId": "c7cac7b1-6943-4441-fb74-6e3af0e438ce"
      },
      "source": [
        "!pip install streamlit\n"
      ],
      "execution_count": 3,
      "outputs": [
        {
          "output_type": "stream",
          "text": [
            "Requirement already satisfied: streamlit in /usr/local/lib/python3.7/dist-packages (0.84.0)\n",
            "Requirement already satisfied: pillow>=6.2.0 in /usr/local/lib/python3.7/dist-packages (from streamlit) (7.1.2)\n",
            "Requirement already satisfied: requests in /usr/local/lib/python3.7/dist-packages (from streamlit) (2.23.0)\n",
            "Requirement already satisfied: tzlocal in /usr/local/lib/python3.7/dist-packages (from streamlit) (1.5.1)\n",
            "Requirement already satisfied: python-dateutil in /usr/local/lib/python3.7/dist-packages (from streamlit) (2.8.1)\n",
            "Requirement already satisfied: validators in /usr/local/lib/python3.7/dist-packages (from streamlit) (0.18.2)\n",
            "Requirement already satisfied: astor in /usr/local/lib/python3.7/dist-packages (from streamlit) (0.8.1)\n",
            "Requirement already satisfied: pandas>=0.21.0 in /usr/local/lib/python3.7/dist-packages (from streamlit) (1.1.5)\n",
            "Requirement already satisfied: gitpython in /usr/local/lib/python3.7/dist-packages (from streamlit) (3.1.18)\n",
            "Requirement already satisfied: altair>=3.2.0 in /usr/local/lib/python3.7/dist-packages (from streamlit) (4.1.0)\n",
            "Requirement already satisfied: click<8.0,>=7.0 in /usr/local/lib/python3.7/dist-packages (from streamlit) (7.1.2)\n",
            "Requirement already satisfied: cachetools>=4.0 in /usr/local/lib/python3.7/dist-packages (from streamlit) (4.2.2)\n",
            "Requirement already satisfied: numpy in /usr/local/lib/python3.7/dist-packages (from streamlit) (1.19.5)\n",
            "Requirement already satisfied: toml in /usr/local/lib/python3.7/dist-packages (from streamlit) (0.10.2)\n",
            "Requirement already satisfied: attrs in /usr/local/lib/python3.7/dist-packages (from streamlit) (21.2.0)\n",
            "Requirement already satisfied: pydeck>=0.1.dev5 in /usr/local/lib/python3.7/dist-packages (from streamlit) (0.6.2)\n",
            "Requirement already satisfied: pyarrow; python_version < \"3.9\" in /usr/local/lib/python3.7/dist-packages (from streamlit) (3.0.0)\n",
            "Requirement already satisfied: protobuf!=3.11,>=3.6.0 in /usr/local/lib/python3.7/dist-packages (from streamlit) (3.12.4)\n",
            "Requirement already satisfied: watchdog; platform_system != \"Darwin\" in /usr/local/lib/python3.7/dist-packages (from streamlit) (2.1.3)\n",
            "Requirement already satisfied: blinker in /usr/local/lib/python3.7/dist-packages (from streamlit) (1.4)\n",
            "Requirement already satisfied: base58 in /usr/local/lib/python3.7/dist-packages (from streamlit) (2.1.0)\n",
            "Requirement already satisfied: packaging in /usr/local/lib/python3.7/dist-packages (from streamlit) (20.9)\n",
            "Requirement already satisfied: tornado>=5.0 in /usr/local/lib/python3.7/dist-packages (from streamlit) (5.1.1)\n",
            "Requirement already satisfied: idna<3,>=2.5 in /usr/local/lib/python3.7/dist-packages (from requests->streamlit) (2.10)\n",
            "Requirement already satisfied: chardet<4,>=3.0.2 in /usr/local/lib/python3.7/dist-packages (from requests->streamlit) (3.0.4)\n",
            "Requirement already satisfied: certifi>=2017.4.17 in /usr/local/lib/python3.7/dist-packages (from requests->streamlit) (2021.5.30)\n",
            "Requirement already satisfied: urllib3!=1.25.0,!=1.25.1,<1.26,>=1.21.1 in /usr/local/lib/python3.7/dist-packages (from requests->streamlit) (1.24.3)\n",
            "Requirement already satisfied: pytz in /usr/local/lib/python3.7/dist-packages (from tzlocal->streamlit) (2018.9)\n",
            "Requirement already satisfied: six>=1.5 in /usr/local/lib/python3.7/dist-packages (from python-dateutil->streamlit) (1.15.0)\n",
            "Requirement already satisfied: decorator>=3.4.0 in /usr/local/lib/python3.7/dist-packages (from validators->streamlit) (4.4.2)\n",
            "Requirement already satisfied: typing-extensions>=3.7.4.0; python_version < \"3.8\" in /usr/local/lib/python3.7/dist-packages (from gitpython->streamlit) (3.7.4.3)\n",
            "Requirement already satisfied: gitdb<5,>=4.0.1 in /usr/local/lib/python3.7/dist-packages (from gitpython->streamlit) (4.0.7)\n",
            "Requirement already satisfied: toolz in /usr/local/lib/python3.7/dist-packages (from altair>=3.2.0->streamlit) (0.11.1)\n",
            "Requirement already satisfied: jsonschema in /usr/local/lib/python3.7/dist-packages (from altair>=3.2.0->streamlit) (2.6.0)\n",
            "Requirement already satisfied: jinja2 in /usr/local/lib/python3.7/dist-packages (from altair>=3.2.0->streamlit) (2.11.3)\n",
            "Requirement already satisfied: entrypoints in /usr/local/lib/python3.7/dist-packages (from altair>=3.2.0->streamlit) (0.3)\n",
            "Requirement already satisfied: ipywidgets>=7.0.0 in /usr/local/lib/python3.7/dist-packages (from pydeck>=0.1.dev5->streamlit) (7.6.3)\n",
            "Requirement already satisfied: ipykernel>=5.1.2; python_version >= \"3.4\" in /usr/local/lib/python3.7/dist-packages (from pydeck>=0.1.dev5->streamlit) (6.0.1)\n",
            "Requirement already satisfied: traitlets>=4.3.2 in /usr/local/lib/python3.7/dist-packages (from pydeck>=0.1.dev5->streamlit) (5.0.5)\n",
            "Requirement already satisfied: setuptools in /usr/local/lib/python3.7/dist-packages (from protobuf!=3.11,>=3.6.0->streamlit) (57.0.0)\n",
            "Requirement already satisfied: pyparsing>=2.0.2 in /usr/local/lib/python3.7/dist-packages (from packaging->streamlit) (2.4.7)\n",
            "Requirement already satisfied: smmap<5,>=3.0.1 in /usr/local/lib/python3.7/dist-packages (from gitdb<5,>=4.0.1->gitpython->streamlit) (4.0.0)\n",
            "Requirement already satisfied: MarkupSafe>=0.23 in /usr/local/lib/python3.7/dist-packages (from jinja2->altair>=3.2.0->streamlit) (2.0.1)\n",
            "Requirement already satisfied: nbformat>=4.2.0 in /usr/local/lib/python3.7/dist-packages (from ipywidgets>=7.0.0->pydeck>=0.1.dev5->streamlit) (5.1.3)\n",
            "Requirement already satisfied: widgetsnbextension~=3.5.0 in /usr/local/lib/python3.7/dist-packages (from ipywidgets>=7.0.0->pydeck>=0.1.dev5->streamlit) (3.5.1)\n",
            "Requirement already satisfied: jupyterlab-widgets>=1.0.0; python_version >= \"3.6\" in /usr/local/lib/python3.7/dist-packages (from ipywidgets>=7.0.0->pydeck>=0.1.dev5->streamlit) (1.0.0)\n",
            "Requirement already satisfied: ipython>=4.0.0; python_version >= \"3.3\" in /usr/local/lib/python3.7/dist-packages (from ipywidgets>=7.0.0->pydeck>=0.1.dev5->streamlit) (5.5.0)\n",
            "Requirement already satisfied: debugpy>=1.0.0 in /usr/local/lib/python3.7/dist-packages (from ipykernel>=5.1.2; python_version >= \"3.4\"->pydeck>=0.1.dev5->streamlit) (1.0.0)\n",
            "Requirement already satisfied: jupyter-client in /usr/local/lib/python3.7/dist-packages (from ipykernel>=5.1.2; python_version >= \"3.4\"->pydeck>=0.1.dev5->streamlit) (5.3.5)\n",
            "Requirement already satisfied: importlib-metadata<4; python_version < \"3.8.0\" in /usr/local/lib/python3.7/dist-packages (from ipykernel>=5.1.2; python_version >= \"3.4\"->pydeck>=0.1.dev5->streamlit) (3.10.1)\n",
            "Requirement already satisfied: ipython-genutils in /usr/local/lib/python3.7/dist-packages (from traitlets>=4.3.2->pydeck>=0.1.dev5->streamlit) (0.2.0)\n",
            "Requirement already satisfied: jupyter-core in /usr/local/lib/python3.7/dist-packages (from nbformat>=4.2.0->ipywidgets>=7.0.0->pydeck>=0.1.dev5->streamlit) (4.7.1)\n",
            "Requirement already satisfied: notebook>=4.4.1 in /usr/local/lib/python3.7/dist-packages (from widgetsnbextension~=3.5.0->ipywidgets>=7.0.0->pydeck>=0.1.dev5->streamlit) (5.3.1)\n",
            "Requirement already satisfied: pygments in /usr/local/lib/python3.7/dist-packages (from ipython>=4.0.0; python_version >= \"3.3\"->ipywidgets>=7.0.0->pydeck>=0.1.dev5->streamlit) (2.6.1)\n",
            "Requirement already satisfied: prompt-toolkit<2.0.0,>=1.0.4 in /usr/local/lib/python3.7/dist-packages (from ipython>=4.0.0; python_version >= \"3.3\"->ipywidgets>=7.0.0->pydeck>=0.1.dev5->streamlit) (1.0.18)\n",
            "Requirement already satisfied: pickleshare in /usr/local/lib/python3.7/dist-packages (from ipython>=4.0.0; python_version >= \"3.3\"->ipywidgets>=7.0.0->pydeck>=0.1.dev5->streamlit) (0.7.5)\n",
            "Requirement already satisfied: pexpect; sys_platform != \"win32\" in /usr/local/lib/python3.7/dist-packages (from ipython>=4.0.0; python_version >= \"3.3\"->ipywidgets>=7.0.0->pydeck>=0.1.dev5->streamlit) (4.8.0)\n",
            "Requirement already satisfied: simplegeneric>0.8 in /usr/local/lib/python3.7/dist-packages (from ipython>=4.0.0; python_version >= \"3.3\"->ipywidgets>=7.0.0->pydeck>=0.1.dev5->streamlit) (0.8.1)\n",
            "Requirement already satisfied: pyzmq>=13 in /usr/local/lib/python3.7/dist-packages (from jupyter-client->ipykernel>=5.1.2; python_version >= \"3.4\"->pydeck>=0.1.dev5->streamlit) (22.1.0)\n",
            "Requirement already satisfied: zipp>=0.5 in /usr/local/lib/python3.7/dist-packages (from importlib-metadata<4; python_version < \"3.8.0\"->ipykernel>=5.1.2; python_version >= \"3.4\"->pydeck>=0.1.dev5->streamlit) (3.4.1)\n",
            "Requirement already satisfied: nbconvert in /usr/local/lib/python3.7/dist-packages (from notebook>=4.4.1->widgetsnbextension~=3.5.0->ipywidgets>=7.0.0->pydeck>=0.1.dev5->streamlit) (5.6.1)\n",
            "Requirement already satisfied: Send2Trash in /usr/local/lib/python3.7/dist-packages (from notebook>=4.4.1->widgetsnbextension~=3.5.0->ipywidgets>=7.0.0->pydeck>=0.1.dev5->streamlit) (1.5.0)\n",
            "Requirement already satisfied: terminado>=0.8.1 in /usr/local/lib/python3.7/dist-packages (from notebook>=4.4.1->widgetsnbextension~=3.5.0->ipywidgets>=7.0.0->pydeck>=0.1.dev5->streamlit) (0.10.1)\n",
            "Requirement already satisfied: wcwidth in /usr/local/lib/python3.7/dist-packages (from prompt-toolkit<2.0.0,>=1.0.4->ipython>=4.0.0; python_version >= \"3.3\"->ipywidgets>=7.0.0->pydeck>=0.1.dev5->streamlit) (0.2.5)\n",
            "Requirement already satisfied: ptyprocess>=0.5 in /usr/local/lib/python3.7/dist-packages (from pexpect; sys_platform != \"win32\"->ipython>=4.0.0; python_version >= \"3.3\"->ipywidgets>=7.0.0->pydeck>=0.1.dev5->streamlit) (0.7.0)\n",
            "Requirement already satisfied: defusedxml in /usr/local/lib/python3.7/dist-packages (from nbconvert->notebook>=4.4.1->widgetsnbextension~=3.5.0->ipywidgets>=7.0.0->pydeck>=0.1.dev5->streamlit) (0.7.1)\n",
            "Requirement already satisfied: mistune<2,>=0.8.1 in /usr/local/lib/python3.7/dist-packages (from nbconvert->notebook>=4.4.1->widgetsnbextension~=3.5.0->ipywidgets>=7.0.0->pydeck>=0.1.dev5->streamlit) (0.8.4)\n",
            "Requirement already satisfied: testpath in /usr/local/lib/python3.7/dist-packages (from nbconvert->notebook>=4.4.1->widgetsnbextension~=3.5.0->ipywidgets>=7.0.0->pydeck>=0.1.dev5->streamlit) (0.5.0)\n",
            "Requirement already satisfied: bleach in /usr/local/lib/python3.7/dist-packages (from nbconvert->notebook>=4.4.1->widgetsnbextension~=3.5.0->ipywidgets>=7.0.0->pydeck>=0.1.dev5->streamlit) (3.3.0)\n",
            "Requirement already satisfied: pandocfilters>=1.4.1 in /usr/local/lib/python3.7/dist-packages (from nbconvert->notebook>=4.4.1->widgetsnbextension~=3.5.0->ipywidgets>=7.0.0->pydeck>=0.1.dev5->streamlit) (1.4.3)\n",
            "Requirement already satisfied: webencodings in /usr/local/lib/python3.7/dist-packages (from bleach->nbconvert->notebook>=4.4.1->widgetsnbextension~=3.5.0->ipywidgets>=7.0.0->pydeck>=0.1.dev5->streamlit) (0.5.1)\n"
          ],
          "name": "stdout"
        }
      ]
    },
    {
      "cell_type": "code",
      "metadata": {
        "colab": {
          "base_uri": "https://localhost:8080/"
        },
        "id": "GdkfW92kIEI5",
        "outputId": "11e4c8a1-7f3b-4661-c18b-18b4d3457f74"
      },
      "source": [
        "!pip install pyngrok"
      ],
      "execution_count": 4,
      "outputs": [
        {
          "output_type": "stream",
          "text": [
            "Collecting pyngrok\n",
            "\u001b[?25l  Downloading https://files.pythonhosted.org/packages/6b/4e/a2fe095bbe17cf26424c4abcd22a0490e22d01cc628f25af5e220ddbf6f0/pyngrok-5.0.5.tar.gz (745kB)\n",
            "\r\u001b[K     |▍                               | 10kB 11.4MB/s eta 0:00:01\r\u001b[K     |▉                               | 20kB 16.2MB/s eta 0:00:01\r\u001b[K     |█▎                              | 30kB 20.4MB/s eta 0:00:01\r\u001b[K     |█▊                              | 40kB 22.7MB/s eta 0:00:01\r\u001b[K     |██▏                             | 51kB 9.0MB/s eta 0:00:01\r\u001b[K     |██▋                             | 61kB 8.4MB/s eta 0:00:01\r\u001b[K     |███                             | 71kB 8.1MB/s eta 0:00:01\r\u001b[K     |███▌                            | 81kB 7.9MB/s eta 0:00:01\r\u001b[K     |████                            | 92kB 8.3MB/s eta 0:00:01\r\u001b[K     |████▍                           | 102kB 8.9MB/s eta 0:00:01\r\u001b[K     |████▉                           | 112kB 8.9MB/s eta 0:00:01\r\u001b[K     |█████▎                          | 122kB 8.9MB/s eta 0:00:01\r\u001b[K     |█████▊                          | 133kB 8.9MB/s eta 0:00:01\r\u001b[K     |██████▏                         | 143kB 8.9MB/s eta 0:00:01\r\u001b[K     |██████▋                         | 153kB 8.9MB/s eta 0:00:01\r\u001b[K     |███████                         | 163kB 8.9MB/s eta 0:00:01\r\u001b[K     |███████▌                        | 174kB 8.9MB/s eta 0:00:01\r\u001b[K     |████████                        | 184kB 8.9MB/s eta 0:00:01\r\u001b[K     |████████▍                       | 194kB 8.9MB/s eta 0:00:01\r\u001b[K     |████████▉                       | 204kB 8.9MB/s eta 0:00:01\r\u001b[K     |█████████▎                      | 215kB 8.9MB/s eta 0:00:01\r\u001b[K     |█████████▊                      | 225kB 8.9MB/s eta 0:00:01\r\u001b[K     |██████████▏                     | 235kB 8.9MB/s eta 0:00:01\r\u001b[K     |██████████▌                     | 245kB 8.9MB/s eta 0:00:01\r\u001b[K     |███████████                     | 256kB 8.9MB/s eta 0:00:01\r\u001b[K     |███████████▍                    | 266kB 8.9MB/s eta 0:00:01\r\u001b[K     |███████████▉                    | 276kB 8.9MB/s eta 0:00:01\r\u001b[K     |████████████▎                   | 286kB 8.9MB/s eta 0:00:01\r\u001b[K     |████████████▊                   | 296kB 8.9MB/s eta 0:00:01\r\u001b[K     |█████████████▏                  | 307kB 8.9MB/s eta 0:00:01\r\u001b[K     |█████████████▋                  | 317kB 8.9MB/s eta 0:00:01\r\u001b[K     |██████████████                  | 327kB 8.9MB/s eta 0:00:01\r\u001b[K     |██████████████▌                 | 337kB 8.9MB/s eta 0:00:01\r\u001b[K     |███████████████                 | 348kB 8.9MB/s eta 0:00:01\r\u001b[K     |███████████████▍                | 358kB 8.9MB/s eta 0:00:01\r\u001b[K     |███████████████▉                | 368kB 8.9MB/s eta 0:00:01\r\u001b[K     |████████████████▎               | 378kB 8.9MB/s eta 0:00:01\r\u001b[K     |████████████████▊               | 389kB 8.9MB/s eta 0:00:01\r\u001b[K     |█████████████████▏              | 399kB 8.9MB/s eta 0:00:01\r\u001b[K     |█████████████████▋              | 409kB 8.9MB/s eta 0:00:01\r\u001b[K     |██████████████████              | 419kB 8.9MB/s eta 0:00:01\r\u001b[K     |██████████████████▌             | 430kB 8.9MB/s eta 0:00:01\r\u001b[K     |███████████████████             | 440kB 8.9MB/s eta 0:00:01\r\u001b[K     |███████████████████▍            | 450kB 8.9MB/s eta 0:00:01\r\u001b[K     |███████████████████▉            | 460kB 8.9MB/s eta 0:00:01\r\u001b[K     |████████████████████▎           | 471kB 8.9MB/s eta 0:00:01\r\u001b[K     |████████████████████▊           | 481kB 8.9MB/s eta 0:00:01\r\u001b[K     |█████████████████████           | 491kB 8.9MB/s eta 0:00:01\r\u001b[K     |█████████████████████▌          | 501kB 8.9MB/s eta 0:00:01\r\u001b[K     |██████████████████████          | 512kB 8.9MB/s eta 0:00:01\r\u001b[K     |██████████████████████▍         | 522kB 8.9MB/s eta 0:00:01\r\u001b[K     |██████████████████████▉         | 532kB 8.9MB/s eta 0:00:01\r\u001b[K     |███████████████████████▎        | 542kB 8.9MB/s eta 0:00:01\r\u001b[K     |███████████████████████▊        | 552kB 8.9MB/s eta 0:00:01\r\u001b[K     |████████████████████████▏       | 563kB 8.9MB/s eta 0:00:01\r\u001b[K     |████████████████████████▋       | 573kB 8.9MB/s eta 0:00:01\r\u001b[K     |█████████████████████████       | 583kB 8.9MB/s eta 0:00:01\r\u001b[K     |█████████████████████████▌      | 593kB 8.9MB/s eta 0:00:01\r\u001b[K     |██████████████████████████      | 604kB 8.9MB/s eta 0:00:01\r\u001b[K     |██████████████████████████▍     | 614kB 8.9MB/s eta 0:00:01\r\u001b[K     |██████████████████████████▉     | 624kB 8.9MB/s eta 0:00:01\r\u001b[K     |███████████████████████████▎    | 634kB 8.9MB/s eta 0:00:01\r\u001b[K     |███████████████████████████▊    | 645kB 8.9MB/s eta 0:00:01\r\u001b[K     |████████████████████████████▏   | 655kB 8.9MB/s eta 0:00:01\r\u001b[K     |████████████████████████████▋   | 665kB 8.9MB/s eta 0:00:01\r\u001b[K     |█████████████████████████████   | 675kB 8.9MB/s eta 0:00:01\r\u001b[K     |█████████████████████████████▌  | 686kB 8.9MB/s eta 0:00:01\r\u001b[K     |██████████████████████████████  | 696kB 8.9MB/s eta 0:00:01\r\u001b[K     |██████████████████████████████▍ | 706kB 8.9MB/s eta 0:00:01\r\u001b[K     |██████████████████████████████▉ | 716kB 8.9MB/s eta 0:00:01\r\u001b[K     |███████████████████████████████▏| 727kB 8.9MB/s eta 0:00:01\r\u001b[K     |███████████████████████████████▋| 737kB 8.9MB/s eta 0:00:01\r\u001b[K     |████████████████████████████████| 747kB 8.9MB/s \n",
            "\u001b[?25hRequirement already satisfied: PyYAML in /usr/local/lib/python3.7/dist-packages (from pyngrok) (3.13)\n",
            "Building wheels for collected packages: pyngrok\n",
            "  Building wheel for pyngrok (setup.py) ... \u001b[?25l\u001b[?25hdone\n",
            "  Created wheel for pyngrok: filename=pyngrok-5.0.5-cp37-none-any.whl size=19262 sha256=598d57490bf26f51545946cddfd4e3238db1e4b071ef4bb36eaae81ee757b01d\n",
            "  Stored in directory: /root/.cache/pip/wheels/0c/13/64/5ebbcc22eaf53fdf5766b397c1fb17c83f5775fdccf0ea1b88\n",
            "Successfully built pyngrok\n",
            "Installing collected packages: pyngrok\n",
            "Successfully installed pyngrok-5.0.5\n"
          ],
          "name": "stdout"
        }
      ]
    },
    {
      "cell_type": "code",
      "metadata": {
        "colab": {
          "base_uri": "https://localhost:8080/"
        },
        "id": "ZGD596YEIELp",
        "outputId": "1323700e-7f70-42fa-a70c-58d253226d04"
      },
      "source": [
        "%%writefile Streamlit_Input_Form.py\n",
        "\n",
        "#File name     :  Streamlit_Input_Form\n",
        "#Purpose       :  A simple Input Form for streamlit using python\n",
        "#Author        :  Deepsphere.AI, INC.\n",
        "#Date and Time :  24/06/2021 18:30 hrs\n",
        "\n",
        "\n",
        "import streamlit as st\n",
        "from PIL import Image\n",
        "import urllib.request\n",
        "import datetime\n",
        "\n",
        "#Setting the page layout to wide\n",
        "st.set_page_config(layout=\"wide\")\n",
        "\n",
        "#To make a logo and title \n",
        "vAR_logo, vAR_title = st.beta_columns((6,50))\n",
        "with vAR_logo:\n",
        "  urllib.request.urlretrieve('https://raw.githubusercontent.com/DeepsphereAI/IndustryUseCases/main/29-Industry%20Use%20Case-HumanResource-AutomaticAnswering/2_DataSet/DeepSphere_Logo_Final.png',\"logo.png\")\n",
        "  logo = Image.open(\"logo.png\")\n",
        "  st.image(logo)\n",
        "with vAR_title:\n",
        "#  st.markdown(\"<h1 style='text-align: center;'>Master Streamlit With DeepSphere.AI Personalized Learning Platform</h1>\", unsafe_allow_html=True)\n",
        "  st.markdown(\"\"\"<style>.big-font {font-size:30px !important;}</style>\"\"\", unsafe_allow_html=True)\n",
        "\n",
        "  st.markdown('<p class=\"big-font\">Master Streamlit With DeepSphere.AI Personalized Learning Platform', unsafe_allow_html=True)\n",
        "\n",
        " \n",
        "st.markdown(\"<h1 style='text-align: center; color: green;'>Data Collection: Student Information</h1>\", unsafe_allow_html=True)\n",
        "\n",
        "#for user input\n",
        "col2, colA, colB, col1 = st.beta_columns((1,1,1,1))\n",
        "with colA:\n",
        "  vAR_first_name  = st.text_input('First Name')\n",
        "  vAR_start_date  = datetime.date(1995, 7, 6)\n",
        "  vAR_date        = st.date_input('Date of Birth',vAR_start_date)\n",
        "  vAR_email       = st.text_input('Email')\n",
        "with colB:\n",
        "  vAR_last_name   = st.text_input(\"Last Name\")\n",
        "  vAR_grade       = st.text_input('Grade')\n",
        "  vAR_phone       = st.text_input('Phone number')   \n",
        "\n",
        "#for user input\n",
        "col_space1, col_address, col_space2 = st.beta_columns((1,2,1))\n",
        "with  col_address:\n",
        "  vAR_address       = st.text_area('Address')\n",
        "\n",
        "#for submit button\n",
        "col_space, col_submit, col_space3 = st.beta_columns((5,1,5))\n",
        "with col_submit:\n",
        "  vAR_submit_button = st.button('submit')  \n",
        "\n",
        "\n",
        "#To display the user input \n",
        "if vAR_submit_button: \n",
        "\n",
        "  col_2, col_A, col_B, col_1 = st.beta_columns((1,1,1,1))\n",
        "  with col_A:\n",
        "    st.subheader('First Name')\n",
        "    st.info(vAR_first_name)\n",
        "    st.subheader('Date of Birth')\n",
        "    st.info(vAR_date)\n",
        "    st.subheader('Email')\n",
        "    st.info(vAR_email)\n",
        "  with col_B:\n",
        "    st.subheader('Last Name')\n",
        "    st.info(vAR_last_name)\n",
        "    st.subheader('Grade')\n",
        "    st.info(vAR_grade)\n",
        "    st.subheader('Phone Number')\n",
        "    st.info(vAR_phone)\n",
        " \n",
        "     \n",
        "  col_space_1, col_address1, col_space_2 = st.beta_columns((1,2,1))   \n",
        "  with col_address1:\n",
        "    st.subheader('Address')\n",
        "    st.info(vAR_address)\n",
        "\n",
        "\n",
        "\n",
        "#Disclaimer.\n",
        "\n",
        "#we are providing this code block strictly for learning and researching, this is not a production \n",
        "#ready code. we have no liability on this particular code under any circumstances; user should\n",
        "#use this code on their own risk. All software, hardware and other products that are refered \n",
        "#in these materials belong to the respective vendor who developed or who owns this product.\n",
        "\n",
        "\n"
      ],
      "execution_count": 15,
      "outputs": [
        {
          "output_type": "stream",
          "text": [
            "Overwriting Streamlit_Input_Form.py\n"
          ],
          "name": "stdout"
        }
      ]
    },
    {
      "cell_type": "code",
      "metadata": {
        "colab": {
          "base_uri": "https://localhost:8080/"
        },
        "id": "-Po3Z0rNIEOR",
        "outputId": "16a336a5-7dd2-4624-ef3a-94cd031218e3"
      },
      "source": [
        "!ls"
      ],
      "execution_count": 16,
      "outputs": [
        {
          "output_type": "stream",
          "text": [
            "sample_data  Streamlit_Input_Form.py\n"
          ],
          "name": "stdout"
        }
      ]
    },
    {
      "cell_type": "code",
      "metadata": {
        "colab": {
          "base_uri": "https://localhost:8080/"
        },
        "id": "TBNeJSLVIEUD",
        "outputId": "2eeef469-201c-40e1-9d0c-de358c16fc4f"
      },
      "source": [
        "!pwd"
      ],
      "execution_count": 17,
      "outputs": [
        {
          "output_type": "stream",
          "text": [
            "/content\n"
          ],
          "name": "stdout"
        }
      ]
    },
    {
      "cell_type": "code",
      "metadata": {
        "colab": {
          "base_uri": "https://localhost:8080/"
        },
        "id": "kD5LV4HNIEYC",
        "outputId": "6ace4250-b1df-49bd-f079-6e79ad7b602b"
      },
      "source": [
        "from pyngrok import ngrok\n",
        "public_url = ngrok.connect(port='8501')\n",
        "public_url"
      ],
      "execution_count": 18,
      "outputs": [
        {
          "output_type": "execute_result",
          "data": {
            "text/plain": [
              "<NgrokTunnel: \"http://f735ec2c0af2.ngrok.io\" -> \"http://localhost:80\">"
            ]
          },
          "metadata": {
            "tags": []
          },
          "execution_count": 18
        }
      ]
    },
    {
      "cell_type": "code",
      "metadata": {
        "id": "C5IR5Pd9IEa4"
      },
      "source": [
        "!streamlit run --server.port 80 Streamlit_Input_Form.py >/dev/null "
      ],
      "execution_count": 19,
      "outputs": []
    },
    {
      "cell_type": "code",
      "metadata": {
        "id": "bYk30YyNg_Zf"
      },
      "source": [
        ""
      ],
      "execution_count": null,
      "outputs": []
    },
    {
      "cell_type": "code",
      "metadata": {
        "id": "V2BeGwHwIEdz"
      },
      "source": [
        "ngrok.kill()"
      ],
      "execution_count": null,
      "outputs": []
    },
    {
      "cell_type": "code",
      "metadata": {
        "id": "9mH7XLggI0S6"
      },
      "source": [
        ""
      ],
      "execution_count": null,
      "outputs": []
    },
    {
      "cell_type": "code",
      "metadata": {
        "id": "h7Snf6D1I0Yz"
      },
      "source": [
        ""
      ],
      "execution_count": null,
      "outputs": []
    }
  ]
}